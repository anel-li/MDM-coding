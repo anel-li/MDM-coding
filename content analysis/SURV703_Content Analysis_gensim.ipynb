{
 "cells": [
  {
   "cell_type": "code",
   "execution_count": 8,
   "metadata": {},
   "outputs": [],
   "source": [
    "import gensim \n",
    "import nltk"
   ]
  },
  {
   "cell_type": "code",
   "execution_count": 9,
   "metadata": {},
   "outputs": [
    {
     "name": "stderr",
     "output_type": "stream",
     "text": [
      "C:\\Users\\elli\\Anaconda3\\lib\\site-packages\\gensim\\models\\doc2vec.py:570: UserWarning: The parameter `size` is deprecated, will be removed in 4.0.0, use `vector_size` instead.\n",
      "  warnings.warn(\"The parameter `size` is deprecated, will be removed in 4.0.0, use `vector_size` instead.\")\n",
      "C:\\Users\\elli\\Anaconda3\\lib\\site-packages\\gensim\\models\\base_any2vec.py:743: UserWarning: C extension not loaded, training will be slow. Install a C compiler and reinstall gensim for fast training.\n",
      "  \"C extension not loaded, training will be slow. \"\n",
      "C:\\Users\\elli\\Anaconda3\\lib\\site-packages\\ipykernel_launcher.py:61: DeprecationWarning: Call to deprecated `iter` (Attribute will be removed in 4.0.0, use self.epochs instead).\n"
     ]
    },
    {
     "name": "stdout",
     "output_type": "stream",
     "text": [
      "iteration 0\n",
      "iteration 1\n",
      "iteration 2\n",
      "iteration 3\n",
      "iteration 4\n",
      "iteration 5\n",
      "iteration 6\n",
      "iteration 7\n",
      "iteration 8\n",
      "iteration 9\n",
      "iteration 10\n",
      "iteration 11\n",
      "iteration 12\n",
      "iteration 13\n",
      "iteration 14\n",
      "iteration 15\n",
      "iteration 16\n",
      "iteration 17\n",
      "iteration 18\n",
      "iteration 19\n",
      "iteration 20\n",
      "iteration 21\n",
      "iteration 22\n",
      "iteration 23\n",
      "iteration 24\n",
      "iteration 25\n",
      "iteration 26\n",
      "iteration 27\n",
      "iteration 28\n",
      "iteration 29\n",
      "iteration 30\n",
      "iteration 31\n",
      "iteration 32\n",
      "iteration 33\n",
      "iteration 34\n",
      "iteration 35\n",
      "iteration 36\n",
      "iteration 37\n",
      "iteration 38\n",
      "iteration 39\n",
      "iteration 40\n",
      "iteration 41\n",
      "iteration 42\n",
      "iteration 43\n",
      "iteration 44\n",
      "iteration 45\n",
      "iteration 46\n",
      "iteration 47\n",
      "iteration 48\n",
      "iteration 49\n",
      "iteration 50\n",
      "iteration 51\n",
      "iteration 52\n",
      "iteration 53\n",
      "iteration 54\n",
      "iteration 55\n",
      "iteration 56\n",
      "iteration 57\n",
      "iteration 58\n",
      "iteration 59\n",
      "iteration 60\n",
      "iteration 61\n",
      "iteration 62\n",
      "iteration 63\n",
      "iteration 64\n",
      "iteration 65\n",
      "iteration 66\n",
      "iteration 67\n",
      "iteration 68\n",
      "iteration 69\n",
      "iteration 70\n",
      "iteration 71\n",
      "iteration 72\n",
      "iteration 73\n",
      "iteration 74\n",
      "iteration 75\n",
      "iteration 76\n",
      "iteration 77\n",
      "iteration 78\n",
      "iteration 79\n",
      "iteration 80\n",
      "iteration 81\n",
      "iteration 82\n",
      "iteration 83\n",
      "iteration 84\n",
      "iteration 85\n",
      "iteration 86\n",
      "iteration 87\n",
      "iteration 88\n",
      "iteration 89\n",
      "iteration 90\n",
      "iteration 91\n",
      "iteration 92\n",
      "iteration 93\n",
      "iteration 94\n",
      "iteration 95\n",
      "iteration 96\n",
      "iteration 97\n",
      "iteration 98\n",
      "iteration 99\n",
      "Model Saved\n"
     ]
    }
   ],
   "source": [
    "from gensim.models.doc2vec import Doc2Vec, TaggedDocument\n",
    "from nltk.tokenize import word_tokenize\n",
    "\n",
    "data = [\"NASA Seeks US Partners to Develop Reusable Systems to Land Astronauts on Moon\",\n",
    "        \"Artist's concept of Human Landing System on the lunar surface with astronaut nearby.\",\n",
    "        \"As the next major step to return astronauts to the Moon under Space Policy Directive-1, \",\n",
    "        \"NASA announced plans on Dec. 13 to work with American companies to design and develop new \",\n",
    "        \"reusable systems for astronauts to land on the lunar surface. The agency is planning to test \",\n",
    "        \"new human-class landers on the Moon beginning in 2024, with the goal of sending crew to the surface in 2028.\",\n",
    "        \"Through upcoming multi-phased lunar exploration partnerships, NASA will ask American companies to \",\n",
    "        \"study the best approach to landing astronauts on the Moon and start the development as quickly \",\n",
    "        \"as possible with current and future anticipated technologies.\",\n",
    "        \"Building on our model in low-Earth orbit, we’ll expand our partnerships with industry and other \",\n",
    "        \"nations to explore the Moon and advance our missions to farther destinations such as Mars, \",\n",
    "        \"with America leading the way,” said NASA Administrator Jim Bridenstine. “When we send astronauts\",\n",
    "        \"to the surface of the Moon in the next decade, it will be in a sustainable fashion.\",\n",
    "        \"The agency’s leading approach to sending humans to the Moon is using a system of three separate elements \",\n",
    "        \"that will provide transfer, landing, and safe return. A key aspect of this proposed approach is to\",\n",
    "        \"use the Gateway for roundtrip journeys to and from the surface of the Moon.\",\n",
    "        \"Using the Gateway to land astronauts on the Moon allows the first building blocks for fully reusable \",\n",
    "        \"lunar landers. Initially NASA expects two of the lander elements to be reusable and refueled by \",\n",
    "        \"cargo ships carrying fuel from Earth to the Gateway. The agency is also working on technologies to make\",\n",
    "        \"rocket propellants using water ice and regolith from the Moon.  Once the ability to harness resources from \",\n",
    "        \"the Moon for propellant becomes viable, NASA plans to refuel these elements with the Moon’s own resources. \",\n",
    "        \"This process, known as in-situ resource utilization or ISRU, will make the third element also refuelable and reusable.\",\n",
    "        \"NASA expects to publish a formal request for proposals to an appendix of the second Next Space Technologies for \",\n",
    "        \"Exploration Partnerships (NextSTEP-2) Broad Agency Announcement (BAA) in early January.\",\n",
    "        \"According to the synopsis, NASA will fund industry-led development and flight demonstrations of lunar\",\n",
    "        \"landers built for astronauts by supporting critical studies and risk reduction activities to advance technology requirements, \",\n",
    "        \"tailor applicable standards, develop technology, and perform initial demonstrations by landing on the Moon.\",\n",
    "        \"When NASA again sends humans to the Moon, the surface will be buzzing with new research and robotic activity, \",\n",
    "        \"and there will be more opportunities for discovery than ever before. Private sector innovation is key to these NASA \",\n",
    "        \"missions, and the NextSTEP public-private partnership model is advancing capabilities for human spaceflight while stimulating \",\n",
    "        \"commercial activities in space.\",\n",
    "        \"The President’s direction from Space Policy Directive-1 galvanizes NASA’s return to the Moon and builds on progress \",\n",
    "        \"on the Space Launch System rocket and Orion spacecraft, efforts with commercial and international partners, and \",\n",
    "        \"knowledge gained from current robotic presence at the Moon and Mars.\",\n",
    "        \"For more information about NASA’s Moon to Mars exploration plans, visit:\",\n",
    "        \"https://www.nasa.gov/moontomars \",\n",
    "        \"Last Updated: Dec. 19, 2018 \",\n",
    "        \"Editor: Shanessa Jackson\"]\n",
    "\n",
    "tagged_data = [TaggedDocument(words=word_tokenize(_d.lower()), tags=[str(i)]) for i, _d in enumerate(data)]\n",
    "\n",
    "max_epochs = 100\n",
    "vec_size = 100\n",
    "alpha = 0.025\n",
    "\n",
    "model = Doc2Vec(size=vec_size,\n",
    "                alpha=alpha, \n",
    "                min_alpha=0.00025,\n",
    "                min_count=1,\n",
    "                dm =1)\n",
    "  \n",
    "model.build_vocab(tagged_data)\n",
    "\n",
    "for epoch in range(max_epochs):\n",
    "    print('iteration {0}'.format(epoch))\n",
    "    model.train(tagged_data,\n",
    "                total_examples=model.corpus_count,\n",
    "                epochs=model.iter)\n",
    "    # decrease the learning rate\n",
    "    model.alpha -= 0.0002\n",
    "    # fix the learning rate, no decay\n",
    "    model.min_alpha = model.alpha\n",
    "\n",
    "model.save(\"d2v.model\")\n",
    "print(\"Model Saved\")"
   ]
  },
  {
   "cell_type": "code",
   "execution_count": 10,
   "metadata": {},
   "outputs": [],
   "source": [
    "def read_input(input_file):\n",
    "    logging.info(\"reading file {0}...this may take a while\".format(input_file))\n",
    "    with open('thetryingcorpus.txt', 'rb') as f:\n",
    "        for i, line in enumerate(f):\n",
    " \n",
    "            if (i % 10000 == 0):\n",
    "                logging.info(\"read {0} reviews\".format(i))\n",
    "            yield gensim.utils.simple_preprocess(line)\n",
    "\n",
    "     \n",
    "        model = gensim.models.Word2Vec(\n",
    "        documents,\n",
    "        size=150,\n",
    "        window=10,\n",
    "        min_count=2,\n",
    "        workers=10)\n",
    "    \n",
    "    model.train(documents, total_examples=len(documents), epochs=10)\n",
    "    train(...)\n",
    "    "
   ]
  },
  {
   "cell_type": "code",
   "execution_count": 12,
   "metadata": {},
   "outputs": [
    {
     "name": "stderr",
     "output_type": "stream",
     "text": [
      "C:\\Users\\elli\\Anaconda3\\lib\\site-packages\\gensim\\matutils.py:737: FutureWarning: Conversion of the second argument of issubdtype from `int` to `np.signedinteger` is deprecated. In future, it will be treated as `np.int32 == np.dtype(int).type`.\n",
      "  if np.issubdtype(vec.dtype, np.int):\n"
     ]
    },
    {
     "data": {
      "text/plain": [
       "[('the', 0.847488284111023),\n",
       " ('approach', 0.7347332239151001),\n",
       " ('humans', 0.7176517248153687),\n",
       " ('to', 0.7012702226638794),\n",
       " ('progress', 0.6983550786972046),\n",
       " ('builds', 0.694743275642395),\n",
       " ('sending', 0.6897841095924377),\n",
       " ('best', 0.6805385947227478),\n",
       " ('using', 0.6788151264190674),\n",
       " ('surface', 0.6768609285354614)]"
      ]
     },
     "execution_count": 12,
     "metadata": {},
     "output_type": "execute_result"
    }
   ],
   "source": [
    "word = \"moon\"\n",
    "model.wv.most_similar (positive = word)\n"
   ]
  },
  {
   "cell_type": "code",
   "execution_count": 14,
   "metadata": {},
   "outputs": [
    {
     "name": "stderr",
     "output_type": "stream",
     "text": [
      "C:\\Users\\elli\\Anaconda3\\lib\\site-packages\\gensim\\matutils.py:737: FutureWarning: Conversion of the second argument of issubdtype from `int` to `np.signedinteger` is deprecated. In future, it will be treated as `np.int32 == np.dtype(int).type`.\n",
      "  if np.issubdtype(vec.dtype, np.int):\n"
     ]
    },
    {
     "data": {
      "text/plain": [
       "[('third', 0.987095832824707),\n",
       " ('make', 0.9315939545631409),\n",
       " ('refuelable', 0.9237496852874756),\n",
       " ('isru', 0.8931676149368286),\n",
       " ('or', 0.8778015375137329),\n",
       " ('also', 0.8760696053504944),\n",
       " ('utilization', 0.8195888996124268),\n",
       " ('resource', 0.7816526293754578),\n",
       " ('in-situ', 0.7010257840156555),\n",
       " ('working', 0.6892534494400024)]"
      ]
     },
     "execution_count": 14,
     "metadata": {},
     "output_type": "execute_result"
    }
   ],
   "source": [
    "word2 = \"element\"\n",
    "model.wv.most_similar (positive = word2)"
   ]
  },
  {
   "cell_type": "code",
   "execution_count": null,
   "metadata": {},
   "outputs": [],
   "source": []
  }
 ],
 "metadata": {
  "kernelspec": {
   "display_name": "Python 3",
   "language": "python",
   "name": "python3"
  },
  "language_info": {
   "codemirror_mode": {
    "name": "ipython",
    "version": 3
   },
   "file_extension": ".py",
   "mimetype": "text/x-python",
   "name": "python",
   "nbconvert_exporter": "python",
   "pygments_lexer": "ipython3",
   "version": "3.7.0"
  }
 },
 "nbformat": 4,
 "nbformat_minor": 2
}
