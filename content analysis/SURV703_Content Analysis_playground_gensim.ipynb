{
 "cells": [
  {
   "cell_type": "code",
   "execution_count": 5,
   "metadata": {},
   "outputs": [
    {
     "name": "stdout",
     "output_type": "stream",
     "text": [
      "Requirement already satisfied: gensim in c:\\users\\elli\\anaconda3\\lib\\site-packages (3.6.0)\n",
      "Requirement already satisfied: scipy>=0.18.1 in c:\\users\\elli\\anaconda3\\lib\\site-packages (from gensim) (1.1.0)\n",
      "Requirement already satisfied: smart-open>=1.2.1 in c:\\users\\elli\\anaconda3\\lib\\site-packages (from gensim) (1.7.1)\n",
      "Requirement already satisfied: numpy>=1.11.3 in c:\\users\\elli\\anaconda3\\lib\\site-packages (from gensim) (1.15.1)\n",
      "Requirement already satisfied: six>=1.5.0 in c:\\users\\elli\\anaconda3\\lib\\site-packages (from gensim) (1.11.0)\n",
      "Requirement already satisfied: bz2file in c:\\users\\elli\\anaconda3\\lib\\site-packages (from smart-open>=1.2.1->gensim) (0.98)\n",
      "Requirement already satisfied: requests in c:\\users\\elli\\anaconda3\\lib\\site-packages (from smart-open>=1.2.1->gensim) (2.19.1)\n",
      "Requirement already satisfied: boto3 in c:\\users\\elli\\anaconda3\\lib\\site-packages (from smart-open>=1.2.1->gensim) (1.9.65)\n",
      "Requirement already satisfied: boto>=2.32 in c:\\users\\elli\\anaconda3\\lib\\site-packages (from smart-open>=1.2.1->gensim) (2.49.0)\n",
      "Requirement already satisfied: idna<2.8,>=2.5 in c:\\users\\elli\\anaconda3\\lib\\site-packages (from requests->smart-open>=1.2.1->gensim) (2.7)\n",
      "Requirement already satisfied: urllib3<1.24,>=1.21.1 in c:\\users\\elli\\anaconda3\\lib\\site-packages (from requests->smart-open>=1.2.1->gensim) (1.23)\n",
      "Requirement already satisfied: certifi>=2017.4.17 in c:\\users\\elli\\anaconda3\\lib\\site-packages (from requests->smart-open>=1.2.1->gensim) (2018.8.24)\n",
      "Requirement already satisfied: chardet<3.1.0,>=3.0.2 in c:\\users\\elli\\anaconda3\\lib\\site-packages (from requests->smart-open>=1.2.1->gensim) (3.0.4)\n",
      "Requirement already satisfied: s3transfer<0.2.0,>=0.1.10 in c:\\users\\elli\\anaconda3\\lib\\site-packages (from boto3->smart-open>=1.2.1->gensim) (0.1.13)\n",
      "Requirement already satisfied: botocore<1.13.0,>=1.12.65 in c:\\users\\elli\\anaconda3\\lib\\site-packages (from boto3->smart-open>=1.2.1->gensim) (1.12.65)\n",
      "Requirement already satisfied: jmespath<1.0.0,>=0.7.1 in c:\\users\\elli\\anaconda3\\lib\\site-packages (from boto3->smart-open>=1.2.1->gensim) (0.9.3)\n",
      "Requirement already satisfied: python-dateutil<3.0.0,>=2.1; python_version >= \"2.7\" in c:\\users\\elli\\anaconda3\\lib\\site-packages (from botocore<1.13.0,>=1.12.65->boto3->smart-open>=1.2.1->gensim) (2.7.3)\n",
      "Requirement already satisfied: docutils>=0.10 in c:\\users\\elli\\anaconda3\\lib\\site-packages (from botocore<1.13.0,>=1.12.65->boto3->smart-open>=1.2.1->gensim) (0.14)\n",
      "Folder \"C:\\Users\\elli\\AppData\\Local\\Temp\" will be used to save temporary dictionary and corpus.\n"
     ]
    }
   ],
   "source": [
    "#preparation, loading the packages etc.\n",
    "import logging\n",
    "logging.basicConfig(format='%(asctime)s : %(levelname)s : %(message)s', level=logging.INFO)\n",
    "import sys\n",
    "!{sys.executable} -m pip install gensim\n",
    "import gensim \n",
    "import nltk\n",
    "#nltk.download()\n",
    "import gzip\n",
    "import tempfile\n",
    "TEMP_FOLDER = tempfile.gettempdir()\n",
    "print('Folder \"{}\" will be used to save temporary dictionary and corpus.'.format(TEMP_FOLDER))\n"
   ]
  },
  {
   "cell_type": "code",
   "execution_count": 6,
   "metadata": {},
   "outputs": [
    {
     "name": "stdout",
     "output_type": "stream",
     "text": [
      "<_io.BufferedReader name='thetryingcorpus.txt'>\n"
     ]
    }
   ],
   "source": [
    "# first try to read in the built text file (I Took a text/transcript from the video lectures, that was the first simple text file i found)\n",
    "with open ('thetryingcorpus.txt', 'rb') as f:\n",
    "        for i,line in enumerate (f):\n",
    "            print(f)\n",
    "            break"
   ]
  },
  {
   "cell_type": "code",
   "execution_count": 7,
   "metadata": {},
   "outputs": [],
   "source": [
    "def read_input(input_file):\n",
    "    logging.info(\"reading file {0}...this may take a while\".format(input_file))\n",
    "    with open('thetryingcorpus.txt', 'rb') as f:\n",
    "        for i, line in enumerate(f):\n",
    " \n",
    "            if (i % 10000 == 0):\n",
    "                logging.info(\"read {0} reviews\".format(i))\n",
    "            yield gensim.utils.simple_preprocess(line)\n",
    "\n",
    "            \n",
    "            \n",
    "# build vocabulary and train model\n",
    "    model = gensim.models.Word2Vec(\n",
    "        documents,\n",
    "        size=150,\n",
    "        window=10,\n",
    "        min_count=2,\n",
    "        workers=10)\n",
    "    \n",
    "    model.train(documents, total_examples=len(documents), epochs=10)\n",
    "    train(...)\n",
    "    "
   ]
  },
  {
   "cell_type": "code",
   "execution_count": 8,
   "metadata": {},
   "outputs": [
    {
     "name": "stderr",
     "output_type": "stream",
     "text": [
      "C:\\Users\\elli\\Anaconda3\\lib\\site-packages\\gensim\\models\\doc2vec.py:570: UserWarning: The parameter `size` is deprecated, will be removed in 4.0.0, use `vector_size` instead.\n",
      "  warnings.warn(\"The parameter `size` is deprecated, will be removed in 4.0.0, use `vector_size` instead.\")\n",
      "C:\\Users\\elli\\Anaconda3\\lib\\site-packages\\gensim\\models\\base_any2vec.py:743: UserWarning: C extension not loaded, training will be slow. Install a C compiler and reinstall gensim for fast training.\n",
      "  \"C extension not loaded, training will be slow. \"\n",
      "2018-12-20 21:53:28,107 : INFO : collecting all words and their counts\n",
      "2018-12-20 21:53:28,115 : INFO : PROGRESS: at example #0, processed 0 words (0/s), 0 word types, 0 tags\n",
      "2018-12-20 21:53:28,118 : INFO : collected 263 word types and 38 unique tags from a corpus of 38 examples and 601 words\n",
      "2018-12-20 21:53:28,125 : INFO : Loading a fresh vocabulary\n",
      "2018-12-20 21:53:28,132 : INFO : effective_min_count=1 retains 263 unique words (100% of original 263, drops 0)\n",
      "2018-12-20 21:53:28,135 : INFO : effective_min_count=1 leaves 601 word corpus (100% of original 601, drops 0)\n",
      "2018-12-20 21:53:28,147 : INFO : deleting the raw counts dictionary of 263 items\n",
      "2018-12-20 21:53:28,151 : INFO : sample=0.001 downsamples 81 most-common words\n",
      "2018-12-20 21:53:28,155 : INFO : downsampling leaves estimated 359 word corpus (59.7% of prior 601)\n",
      "2018-12-20 21:53:28,161 : INFO : estimated required memory for 263 words and 100 dimensions: 364700 bytes\n",
      "2018-12-20 21:53:28,164 : INFO : resetting layer weights\n",
      "C:\\Users\\elli\\Anaconda3\\lib\\site-packages\\ipykernel_launcher.py:65: DeprecationWarning: Call to deprecated `iter` (Attribute will be removed in 4.0.0, use self.epochs instead).\n",
      "2018-12-20 21:53:28,210 : INFO : training model with 3 workers on 263 vocabulary and 100 features, using sg=0 hs=0 sample=0.001 negative=5 window=5\n",
      "2018-12-20 21:53:28,227 : INFO : worker thread finished; awaiting finish of 2 more threads\n",
      "2018-12-20 21:53:28,232 : INFO : worker thread finished; awaiting finish of 1 more threads\n"
     ]
    },
    {
     "name": "stdout",
     "output_type": "stream",
     "text": [
      "iteration 0\n"
     ]
    },
    {
     "name": "stderr",
     "output_type": "stream",
     "text": [
      "2018-12-20 21:53:28,555 : INFO : worker thread finished; awaiting finish of 0 more threads\n",
      "2018-12-20 21:53:28,556 : INFO : EPOCH - 1 : training on 601 raw words (363 effective words) took 0.3s, 1100 effective words/s\n",
      "2018-12-20 21:53:28,563 : INFO : worker thread finished; awaiting finish of 2 more threads\n",
      "2018-12-20 21:53:28,565 : INFO : worker thread finished; awaiting finish of 1 more threads\n",
      "2018-12-20 21:53:28,756 : INFO : worker thread finished; awaiting finish of 0 more threads\n",
      "2018-12-20 21:53:28,756 : INFO : EPOCH - 2 : training on 601 raw words (362 effective words) took 0.2s, 1842 effective words/s\n",
      "2018-12-20 21:53:28,764 : INFO : worker thread finished; awaiting finish of 2 more threads\n",
      "2018-12-20 21:53:28,766 : INFO : worker thread finished; awaiting finish of 1 more threads\n",
      "2018-12-20 21:53:28,963 : INFO : worker thread finished; awaiting finish of 0 more threads\n",
      "2018-12-20 21:53:28,964 : INFO : EPOCH - 3 : training on 601 raw words (365 effective words) took 0.2s, 1820 effective words/s\n",
      "2018-12-20 21:53:28,970 : INFO : worker thread finished; awaiting finish of 2 more threads\n",
      "2018-12-20 21:53:28,975 : INFO : worker thread finished; awaiting finish of 1 more threads\n",
      "2018-12-20 21:53:29,192 : INFO : worker thread finished; awaiting finish of 0 more threads\n",
      "2018-12-20 21:53:29,195 : INFO : EPOCH - 4 : training on 601 raw words (349 effective words) took 0.2s, 1544 effective words/s\n",
      "2018-12-20 21:53:29,200 : INFO : worker thread finished; awaiting finish of 2 more threads\n",
      "2018-12-20 21:53:29,204 : INFO : worker thread finished; awaiting finish of 1 more threads\n",
      "2018-12-20 21:53:29,434 : INFO : worker thread finished; awaiting finish of 0 more threads\n",
      "2018-12-20 21:53:29,434 : INFO : EPOCH - 5 : training on 601 raw words (357 effective words) took 0.2s, 1513 effective words/s\n",
      "2018-12-20 21:53:29,434 : INFO : training on a 3005 raw words (1796 effective words) took 1.2s, 1468 effective words/s\n",
      "2018-12-20 21:53:29,434 : WARNING : under 10 jobs per worker: consider setting a smaller `batch_words' for smoother alpha decay\n",
      "2018-12-20 21:53:29,434 : INFO : training model with 3 workers on 263 vocabulary and 100 features, using sg=0 hs=0 sample=0.001 negative=5 window=5\n",
      "2018-12-20 21:53:29,444 : INFO : worker thread finished; awaiting finish of 2 more threads\n",
      "2018-12-20 21:53:29,448 : INFO : worker thread finished; awaiting finish of 1 more threads\n"
     ]
    },
    {
     "name": "stdout",
     "output_type": "stream",
     "text": [
      "iteration 1\n"
     ]
    },
    {
     "name": "stderr",
     "output_type": "stream",
     "text": [
      "2018-12-20 21:53:29,834 : INFO : worker thread finished; awaiting finish of 0 more threads\n",
      "2018-12-20 21:53:29,837 : INFO : EPOCH - 1 : training on 601 raw words (355 effective words) took 0.4s, 904 effective words/s\n",
      "2018-12-20 21:53:29,848 : INFO : worker thread finished; awaiting finish of 2 more threads\n",
      "2018-12-20 21:53:29,854 : INFO : worker thread finished; awaiting finish of 1 more threads\n",
      "2018-12-20 21:53:30,329 : INFO : worker thread finished; awaiting finish of 0 more threads\n",
      "2018-12-20 21:53:30,335 : INFO : EPOCH - 2 : training on 601 raw words (351 effective words) took 0.5s, 720 effective words/s\n",
      "2018-12-20 21:53:30,357 : INFO : worker thread finished; awaiting finish of 2 more threads\n",
      "2018-12-20 21:53:30,373 : INFO : worker thread finished; awaiting finish of 1 more threads\n",
      "2018-12-20 21:53:30,855 : INFO : worker thread finished; awaiting finish of 0 more threads\n",
      "2018-12-20 21:53:30,857 : INFO : EPOCH - 3 : training on 601 raw words (349 effective words) took 0.5s, 696 effective words/s\n",
      "2018-12-20 21:53:30,872 : INFO : worker thread finished; awaiting finish of 2 more threads\n",
      "2018-12-20 21:53:30,890 : INFO : worker thread finished; awaiting finish of 1 more threads\n",
      "2018-12-20 21:53:31,329 : INFO : worker thread finished; awaiting finish of 0 more threads\n",
      "2018-12-20 21:53:31,334 : INFO : EPOCH - 4 : training on 601 raw words (366 effective words) took 0.5s, 784 effective words/s\n",
      "2018-12-20 21:53:31,349 : INFO : worker thread finished; awaiting finish of 2 more threads\n",
      "2018-12-20 21:53:31,358 : INFO : worker thread finished; awaiting finish of 1 more threads\n",
      "2018-12-20 21:53:31,638 : INFO : worker thread finished; awaiting finish of 0 more threads\n",
      "2018-12-20 21:53:31,640 : INFO : EPOCH - 5 : training on 601 raw words (364 effective words) took 0.3s, 1243 effective words/s\n",
      "2018-12-20 21:53:31,641 : INFO : training on a 3005 raw words (1785 effective words) took 2.2s, 811 effective words/s\n",
      "2018-12-20 21:53:31,642 : WARNING : under 10 jobs per worker: consider setting a smaller `batch_words' for smoother alpha decay\n",
      "2018-12-20 21:53:31,646 : INFO : training model with 3 workers on 263 vocabulary and 100 features, using sg=0 hs=0 sample=0.001 negative=5 window=5\n",
      "2018-12-20 21:53:31,653 : INFO : worker thread finished; awaiting finish of 2 more threads\n",
      "2018-12-20 21:53:31,656 : INFO : worker thread finished; awaiting finish of 1 more threads\n"
     ]
    },
    {
     "name": "stdout",
     "output_type": "stream",
     "text": [
      "iteration 2\n"
     ]
    },
    {
     "name": "stderr",
     "output_type": "stream",
     "text": [
      "2018-12-20 21:53:32,348 : INFO : worker thread finished; awaiting finish of 0 more threads\n",
      "2018-12-20 21:53:32,350 : INFO : EPOCH - 1 : training on 601 raw words (357 effective words) took 0.7s, 511 effective words/s\n",
      "2018-12-20 21:53:32,355 : INFO : worker thread finished; awaiting finish of 2 more threads\n",
      "2018-12-20 21:53:32,357 : INFO : worker thread finished; awaiting finish of 1 more threads\n",
      "2018-12-20 21:53:33,019 : INFO : worker thread finished; awaiting finish of 0 more threads\n",
      "2018-12-20 21:53:33,022 : INFO : EPOCH - 2 : training on 601 raw words (358 effective words) took 0.7s, 536 effective words/s\n",
      "2018-12-20 21:53:33,028 : INFO : worker thread finished; awaiting finish of 2 more threads\n",
      "2018-12-20 21:53:33,031 : INFO : worker thread finished; awaiting finish of 1 more threads\n",
      "2018-12-20 21:53:33,783 : INFO : worker thread finished; awaiting finish of 0 more threads\n",
      "2018-12-20 21:53:33,783 : INFO : EPOCH - 3 : training on 601 raw words (367 effective words) took 0.8s, 482 effective words/s\n",
      "2018-12-20 21:53:33,795 : INFO : worker thread finished; awaiting finish of 2 more threads\n",
      "2018-12-20 21:53:33,799 : INFO : worker thread finished; awaiting finish of 1 more threads\n",
      "2018-12-20 21:53:34,089 : INFO : worker thread finished; awaiting finish of 0 more threads\n",
      "2018-12-20 21:53:34,092 : INFO : EPOCH - 4 : training on 601 raw words (365 effective words) took 0.3s, 1224 effective words/s\n",
      "2018-12-20 21:53:34,097 : INFO : worker thread finished; awaiting finish of 2 more threads\n",
      "2018-12-20 21:53:34,099 : INFO : worker thread finished; awaiting finish of 1 more threads\n",
      "2018-12-20 21:53:34,348 : INFO : worker thread finished; awaiting finish of 0 more threads\n",
      "2018-12-20 21:53:34,350 : INFO : EPOCH - 5 : training on 601 raw words (355 effective words) took 0.3s, 1406 effective words/s\n",
      "2018-12-20 21:53:34,351 : INFO : training on a 3005 raw words (1802 effective words) took 2.7s, 667 effective words/s\n",
      "2018-12-20 21:53:34,352 : WARNING : under 10 jobs per worker: consider setting a smaller `batch_words' for smoother alpha decay\n",
      "2018-12-20 21:53:34,353 : INFO : training model with 3 workers on 263 vocabulary and 100 features, using sg=0 hs=0 sample=0.001 negative=5 window=5\n",
      "2018-12-20 21:53:34,360 : INFO : worker thread finished; awaiting finish of 2 more threads\n",
      "2018-12-20 21:53:34,362 : INFO : worker thread finished; awaiting finish of 1 more threads\n"
     ]
    },
    {
     "name": "stdout",
     "output_type": "stream",
     "text": [
      "iteration 3\n"
     ]
    },
    {
     "name": "stderr",
     "output_type": "stream",
     "text": [
      "2018-12-20 21:53:34,587 : INFO : worker thread finished; awaiting finish of 0 more threads\n",
      "2018-12-20 21:53:34,589 : INFO : EPOCH - 1 : training on 601 raw words (353 effective words) took 0.2s, 1533 effective words/s\n",
      "2018-12-20 21:53:34,598 : INFO : worker thread finished; awaiting finish of 2 more threads\n",
      "2018-12-20 21:53:34,603 : INFO : worker thread finished; awaiting finish of 1 more threads\n",
      "2018-12-20 21:53:34,934 : INFO : worker thread finished; awaiting finish of 0 more threads\n",
      "2018-12-20 21:53:34,936 : INFO : EPOCH - 2 : training on 601 raw words (366 effective words) took 0.3s, 1086 effective words/s\n",
      "2018-12-20 21:53:34,951 : INFO : worker thread finished; awaiting finish of 2 more threads\n",
      "2018-12-20 21:53:34,959 : INFO : worker thread finished; awaiting finish of 1 more threads\n",
      "2018-12-20 21:53:35,380 : INFO : worker thread finished; awaiting finish of 0 more threads\n",
      "2018-12-20 21:53:35,384 : INFO : EPOCH - 3 : training on 601 raw words (362 effective words) took 0.4s, 837 effective words/s\n",
      "2018-12-20 21:53:35,396 : INFO : worker thread finished; awaiting finish of 2 more threads\n",
      "2018-12-20 21:53:35,402 : INFO : worker thread finished; awaiting finish of 1 more threads\n",
      "2018-12-20 21:53:35,857 : INFO : worker thread finished; awaiting finish of 0 more threads\n",
      "2018-12-20 21:53:35,859 : INFO : EPOCH - 4 : training on 601 raw words (372 effective words) took 0.5s, 797 effective words/s\n",
      "2018-12-20 21:53:35,870 : INFO : worker thread finished; awaiting finish of 2 more threads\n",
      "2018-12-20 21:53:35,876 : INFO : worker thread finished; awaiting finish of 1 more threads\n",
      "2018-12-20 21:53:36,215 : INFO : worker thread finished; awaiting finish of 0 more threads\n",
      "2018-12-20 21:53:36,218 : INFO : EPOCH - 5 : training on 601 raw words (380 effective words) took 0.3s, 1091 effective words/s\n",
      "2018-12-20 21:53:36,221 : INFO : training on a 3005 raw words (1833 effective words) took 1.9s, 982 effective words/s\n",
      "2018-12-20 21:53:36,224 : WARNING : under 10 jobs per worker: consider setting a smaller `batch_words' for smoother alpha decay\n",
      "2018-12-20 21:53:36,226 : INFO : training model with 3 workers on 263 vocabulary and 100 features, using sg=0 hs=0 sample=0.001 negative=5 window=5\n",
      "2018-12-20 21:53:36,235 : INFO : worker thread finished; awaiting finish of 2 more threads\n",
      "2018-12-20 21:53:36,241 : INFO : worker thread finished; awaiting finish of 1 more threads\n"
     ]
    },
    {
     "name": "stdout",
     "output_type": "stream",
     "text": [
      "iteration 4\n"
     ]
    },
    {
     "name": "stderr",
     "output_type": "stream",
     "text": [
      "2018-12-20 21:53:36,604 : INFO : worker thread finished; awaiting finish of 0 more threads\n",
      "2018-12-20 21:53:36,604 : INFO : EPOCH - 1 : training on 601 raw words (352 effective words) took 0.4s, 933 effective words/s\n",
      "2018-12-20 21:53:36,621 : INFO : worker thread finished; awaiting finish of 2 more threads\n",
      "2018-12-20 21:53:36,626 : INFO : worker thread finished; awaiting finish of 1 more threads\n",
      "2018-12-20 21:53:36,841 : INFO : worker thread finished; awaiting finish of 0 more threads\n",
      "2018-12-20 21:53:36,843 : INFO : EPOCH - 2 : training on 601 raw words (354 effective words) took 0.2s, 1561 effective words/s\n",
      "2018-12-20 21:53:36,847 : INFO : worker thread finished; awaiting finish of 2 more threads\n",
      "2018-12-20 21:53:36,854 : INFO : worker thread finished; awaiting finish of 1 more threads\n",
      "2018-12-20 21:53:37,172 : INFO : worker thread finished; awaiting finish of 0 more threads\n",
      "2018-12-20 21:53:37,175 : INFO : EPOCH - 3 : training on 601 raw words (359 effective words) took 0.3s, 1099 effective words/s\n",
      "2018-12-20 21:53:37,180 : INFO : worker thread finished; awaiting finish of 2 more threads\n",
      "2018-12-20 21:53:37,188 : INFO : worker thread finished; awaiting finish of 1 more threads\n",
      "2018-12-20 21:53:37,574 : INFO : worker thread finished; awaiting finish of 0 more threads\n",
      "2018-12-20 21:53:37,576 : INFO : EPOCH - 4 : training on 601 raw words (353 effective words) took 0.4s, 890 effective words/s\n",
      "2018-12-20 21:53:37,582 : INFO : worker thread finished; awaiting finish of 2 more threads\n",
      "2018-12-20 21:53:37,586 : INFO : worker thread finished; awaiting finish of 1 more threads\n",
      "2018-12-20 21:53:37,882 : INFO : worker thread finished; awaiting finish of 0 more threads\n",
      "2018-12-20 21:53:37,885 : INFO : EPOCH - 5 : training on 601 raw words (353 effective words) took 0.3s, 1160 effective words/s\n",
      "2018-12-20 21:53:37,886 : INFO : training on a 3005 raw words (1771 effective words) took 1.7s, 1067 effective words/s\n",
      "2018-12-20 21:53:37,888 : WARNING : under 10 jobs per worker: consider setting a smaller `batch_words' for smoother alpha decay\n",
      "2018-12-20 21:53:37,890 : INFO : training model with 3 workers on 263 vocabulary and 100 features, using sg=0 hs=0 sample=0.001 negative=5 window=5\n",
      "2018-12-20 21:53:37,897 : INFO : worker thread finished; awaiting finish of 2 more threads\n",
      "2018-12-20 21:53:37,900 : INFO : worker thread finished; awaiting finish of 1 more threads\n"
     ]
    },
    {
     "name": "stdout",
     "output_type": "stream",
     "text": [
      "iteration 5\n"
     ]
    },
    {
     "name": "stderr",
     "output_type": "stream",
     "text": [
      "2018-12-20 21:53:38,223 : INFO : worker thread finished; awaiting finish of 0 more threads\n",
      "2018-12-20 21:53:38,231 : INFO : EPOCH - 1 : training on 601 raw words (355 effective words) took 0.3s, 1062 effective words/s\n",
      "2018-12-20 21:53:38,242 : INFO : worker thread finished; awaiting finish of 2 more threads\n",
      "2018-12-20 21:53:38,247 : INFO : worker thread finished; awaiting finish of 1 more threads\n",
      "2018-12-20 21:53:38,583 : INFO : worker thread finished; awaiting finish of 0 more threads\n",
      "2018-12-20 21:53:38,585 : INFO : EPOCH - 2 : training on 601 raw words (346 effective words) took 0.3s, 1004 effective words/s\n",
      "2018-12-20 21:53:38,595 : INFO : worker thread finished; awaiting finish of 2 more threads\n",
      "2018-12-20 21:53:38,603 : INFO : worker thread finished; awaiting finish of 1 more threads\n",
      "2018-12-20 21:53:38,935 : INFO : worker thread finished; awaiting finish of 0 more threads\n",
      "2018-12-20 21:53:38,937 : INFO : EPOCH - 3 : training on 601 raw words (352 effective words) took 0.3s, 1022 effective words/s\n",
      "2018-12-20 21:53:38,948 : INFO : worker thread finished; awaiting finish of 2 more threads\n",
      "2018-12-20 21:53:38,951 : INFO : worker thread finished; awaiting finish of 1 more threads\n",
      "2018-12-20 21:53:39,292 : INFO : worker thread finished; awaiting finish of 0 more threads\n",
      "2018-12-20 21:53:39,298 : INFO : EPOCH - 4 : training on 601 raw words (354 effective words) took 0.4s, 1003 effective words/s\n",
      "2018-12-20 21:53:39,308 : INFO : worker thread finished; awaiting finish of 2 more threads\n",
      "2018-12-20 21:53:39,311 : INFO : worker thread finished; awaiting finish of 1 more threads\n",
      "2018-12-20 21:53:39,669 : INFO : worker thread finished; awaiting finish of 0 more threads\n",
      "2018-12-20 21:53:39,672 : INFO : EPOCH - 5 : training on 601 raw words (342 effective words) took 0.4s, 935 effective words/s\n",
      "2018-12-20 21:53:39,675 : INFO : training on a 3005 raw words (1749 effective words) took 1.8s, 981 effective words/s\n",
      "2018-12-20 21:53:39,676 : WARNING : under 10 jobs per worker: consider setting a smaller `batch_words' for smoother alpha decay\n",
      "2018-12-20 21:53:39,679 : INFO : training model with 3 workers on 263 vocabulary and 100 features, using sg=0 hs=0 sample=0.001 negative=5 window=5\n",
      "2018-12-20 21:53:39,693 : INFO : worker thread finished; awaiting finish of 2 more threads\n",
      "2018-12-20 21:53:39,695 : INFO : worker thread finished; awaiting finish of 1 more threads\n"
     ]
    },
    {
     "name": "stdout",
     "output_type": "stream",
     "text": [
      "iteration 6\n"
     ]
    },
    {
     "name": "stderr",
     "output_type": "stream",
     "text": [
      "2018-12-20 21:53:40,003 : INFO : worker thread finished; awaiting finish of 0 more threads\n",
      "2018-12-20 21:53:40,005 : INFO : EPOCH - 1 : training on 601 raw words (362 effective words) took 0.3s, 1148 effective words/s\n",
      "2018-12-20 21:53:40,011 : INFO : worker thread finished; awaiting finish of 2 more threads\n",
      "2018-12-20 21:53:40,014 : INFO : worker thread finished; awaiting finish of 1 more threads\n",
      "2018-12-20 21:53:40,190 : INFO : worker thread finished; awaiting finish of 0 more threads\n",
      "2018-12-20 21:53:40,191 : INFO : EPOCH - 2 : training on 601 raw words (357 effective words) took 0.2s, 1963 effective words/s\n",
      "2018-12-20 21:53:40,198 : INFO : worker thread finished; awaiting finish of 2 more threads\n",
      "2018-12-20 21:53:40,203 : INFO : worker thread finished; awaiting finish of 1 more threads\n",
      "2018-12-20 21:53:40,416 : INFO : worker thread finished; awaiting finish of 0 more threads\n",
      "2018-12-20 21:53:40,417 : INFO : EPOCH - 3 : training on 601 raw words (372 effective words) took 0.2s, 1692 effective words/s\n",
      "2018-12-20 21:53:40,429 : INFO : worker thread finished; awaiting finish of 2 more threads\n",
      "2018-12-20 21:53:40,432 : INFO : worker thread finished; awaiting finish of 1 more threads\n",
      "2018-12-20 21:53:40,856 : INFO : worker thread finished; awaiting finish of 0 more threads\n",
      "2018-12-20 21:53:40,856 : INFO : EPOCH - 4 : training on 601 raw words (348 effective words) took 0.4s, 806 effective words/s\n",
      "2018-12-20 21:53:40,871 : INFO : worker thread finished; awaiting finish of 2 more threads\n",
      "2018-12-20 21:53:40,876 : INFO : worker thread finished; awaiting finish of 1 more threads\n",
      "2018-12-20 21:53:41,242 : INFO : worker thread finished; awaiting finish of 0 more threads\n",
      "2018-12-20 21:53:41,244 : INFO : EPOCH - 5 : training on 601 raw words (356 effective words) took 0.4s, 951 effective words/s\n",
      "2018-12-20 21:53:41,245 : INFO : training on a 3005 raw words (1795 effective words) took 1.6s, 1147 effective words/s\n",
      "2018-12-20 21:53:41,249 : WARNING : under 10 jobs per worker: consider setting a smaller `batch_words' for smoother alpha decay\n",
      "2018-12-20 21:53:41,253 : INFO : training model with 3 workers on 263 vocabulary and 100 features, using sg=0 hs=0 sample=0.001 negative=5 window=5\n",
      "2018-12-20 21:53:41,271 : INFO : worker thread finished; awaiting finish of 2 more threads\n",
      "2018-12-20 21:53:41,278 : INFO : worker thread finished; awaiting finish of 1 more threads\n"
     ]
    },
    {
     "name": "stdout",
     "output_type": "stream",
     "text": [
      "iteration 7\n"
     ]
    },
    {
     "name": "stderr",
     "output_type": "stream",
     "text": [
      "2018-12-20 21:53:41,612 : INFO : worker thread finished; awaiting finish of 0 more threads\n",
      "2018-12-20 21:53:41,613 : INFO : EPOCH - 1 : training on 601 raw words (354 effective words) took 0.3s, 1022 effective words/s\n",
      "2018-12-20 21:53:41,621 : INFO : worker thread finished; awaiting finish of 2 more threads\n",
      "2018-12-20 21:53:41,624 : INFO : worker thread finished; awaiting finish of 1 more threads\n",
      "2018-12-20 21:53:41,925 : INFO : worker thread finished; awaiting finish of 0 more threads\n",
      "2018-12-20 21:53:41,934 : INFO : EPOCH - 2 : training on 601 raw words (365 effective words) took 0.3s, 1160 effective words/s\n",
      "2018-12-20 21:53:41,959 : INFO : worker thread finished; awaiting finish of 2 more threads\n",
      "2018-12-20 21:53:41,974 : INFO : worker thread finished; awaiting finish of 1 more threads\n",
      "2018-12-20 21:53:42,275 : INFO : worker thread finished; awaiting finish of 0 more threads\n",
      "2018-12-20 21:53:42,277 : INFO : EPOCH - 3 : training on 601 raw words (368 effective words) took 0.3s, 1152 effective words/s\n",
      "2018-12-20 21:53:42,286 : INFO : worker thread finished; awaiting finish of 2 more threads\n",
      "2018-12-20 21:53:42,298 : INFO : worker thread finished; awaiting finish of 1 more threads\n",
      "2018-12-20 21:53:42,686 : INFO : worker thread finished; awaiting finish of 0 more threads\n",
      "2018-12-20 21:53:42,693 : INFO : EPOCH - 4 : training on 601 raw words (362 effective words) took 0.4s, 883 effective words/s\n",
      "2018-12-20 21:53:42,705 : INFO : worker thread finished; awaiting finish of 2 more threads\n",
      "2018-12-20 21:53:42,706 : INFO : worker thread finished; awaiting finish of 1 more threads\n",
      "2018-12-20 21:53:43,145 : INFO : worker thread finished; awaiting finish of 0 more threads\n",
      "2018-12-20 21:53:43,149 : INFO : EPOCH - 5 : training on 601 raw words (360 effective words) took 0.4s, 809 effective words/s\n",
      "2018-12-20 21:53:43,151 : INFO : training on a 3005 raw words (1809 effective words) took 1.9s, 955 effective words/s\n",
      "2018-12-20 21:53:43,155 : WARNING : under 10 jobs per worker: consider setting a smaller `batch_words' for smoother alpha decay\n",
      "2018-12-20 21:53:43,161 : INFO : training model with 3 workers on 263 vocabulary and 100 features, using sg=0 hs=0 sample=0.001 negative=5 window=5\n",
      "2018-12-20 21:53:43,203 : INFO : worker thread finished; awaiting finish of 2 more threads\n",
      "2018-12-20 21:53:43,232 : INFO : worker thread finished; awaiting finish of 1 more threads\n"
     ]
    },
    {
     "name": "stdout",
     "output_type": "stream",
     "text": [
      "iteration 8\n"
     ]
    },
    {
     "name": "stderr",
     "output_type": "stream",
     "text": [
      "2018-12-20 21:53:43,570 : INFO : worker thread finished; awaiting finish of 0 more threads\n",
      "2018-12-20 21:53:43,574 : INFO : EPOCH - 1 : training on 601 raw words (360 effective words) took 0.4s, 966 effective words/s\n",
      "2018-12-20 21:53:43,590 : INFO : worker thread finished; awaiting finish of 2 more threads\n",
      "2018-12-20 21:53:43,599 : INFO : worker thread finished; awaiting finish of 1 more threads\n",
      "2018-12-20 21:53:43,834 : INFO : worker thread finished; awaiting finish of 0 more threads\n",
      "2018-12-20 21:53:43,836 : INFO : EPOCH - 2 : training on 601 raw words (358 effective words) took 0.2s, 1443 effective words/s\n",
      "2018-12-20 21:53:43,842 : INFO : worker thread finished; awaiting finish of 2 more threads\n",
      "2018-12-20 21:53:43,844 : INFO : worker thread finished; awaiting finish of 1 more threads\n",
      "2018-12-20 21:53:44,158 : INFO : worker thread finished; awaiting finish of 0 more threads\n",
      "2018-12-20 21:53:44,161 : INFO : EPOCH - 3 : training on 601 raw words (360 effective words) took 0.3s, 1123 effective words/s\n",
      "2018-12-20 21:53:44,176 : INFO : worker thread finished; awaiting finish of 2 more threads\n",
      "2018-12-20 21:53:44,178 : INFO : worker thread finished; awaiting finish of 1 more threads\n",
      "2018-12-20 21:53:44,609 : INFO : worker thread finished; awaiting finish of 0 more threads\n",
      "2018-12-20 21:53:44,614 : INFO : EPOCH - 4 : training on 601 raw words (362 effective words) took 0.4s, 818 effective words/s\n",
      "2018-12-20 21:53:44,629 : INFO : worker thread finished; awaiting finish of 2 more threads\n",
      "2018-12-20 21:53:44,634 : INFO : worker thread finished; awaiting finish of 1 more threads\n",
      "2018-12-20 21:53:44,987 : INFO : worker thread finished; awaiting finish of 0 more threads\n",
      "2018-12-20 21:53:44,992 : INFO : EPOCH - 5 : training on 601 raw words (361 effective words) took 0.4s, 990 effective words/s\n",
      "2018-12-20 21:53:44,993 : INFO : training on a 3005 raw words (1801 effective words) took 1.8s, 986 effective words/s\n",
      "2018-12-20 21:53:44,994 : WARNING : under 10 jobs per worker: consider setting a smaller `batch_words' for smoother alpha decay\n",
      "2018-12-20 21:53:44,996 : INFO : training model with 3 workers on 263 vocabulary and 100 features, using sg=0 hs=0 sample=0.001 negative=5 window=5\n",
      "2018-12-20 21:53:45,003 : INFO : worker thread finished; awaiting finish of 2 more threads\n",
      "2018-12-20 21:53:45,006 : INFO : worker thread finished; awaiting finish of 1 more threads\n"
     ]
    },
    {
     "name": "stdout",
     "output_type": "stream",
     "text": [
      "iteration 9\n"
     ]
    },
    {
     "name": "stderr",
     "output_type": "stream",
     "text": [
      "2018-12-20 21:53:45,307 : INFO : worker thread finished; awaiting finish of 0 more threads\n",
      "2018-12-20 21:53:45,310 : INFO : EPOCH - 1 : training on 601 raw words (375 effective words) took 0.3s, 1220 effective words/s\n",
      "2018-12-20 21:53:45,315 : INFO : worker thread finished; awaiting finish of 2 more threads\n",
      "2018-12-20 21:53:45,320 : INFO : worker thread finished; awaiting finish of 1 more threads\n",
      "2018-12-20 21:53:45,661 : INFO : worker thread finished; awaiting finish of 0 more threads\n",
      "2018-12-20 21:53:45,666 : INFO : EPOCH - 2 : training on 601 raw words (355 effective words) took 0.4s, 1011 effective words/s\n",
      "2018-12-20 21:53:45,676 : INFO : worker thread finished; awaiting finish of 2 more threads\n",
      "2018-12-20 21:53:45,683 : INFO : worker thread finished; awaiting finish of 1 more threads\n",
      "2018-12-20 21:53:46,077 : INFO : worker thread finished; awaiting finish of 0 more threads\n",
      "2018-12-20 21:53:46,078 : INFO : EPOCH - 3 : training on 601 raw words (360 effective words) took 0.4s, 892 effective words/s\n",
      "2018-12-20 21:53:46,095 : INFO : worker thread finished; awaiting finish of 2 more threads\n",
      "2018-12-20 21:53:46,102 : INFO : worker thread finished; awaiting finish of 1 more threads\n",
      "2018-12-20 21:53:46,473 : INFO : worker thread finished; awaiting finish of 0 more threads\n",
      "2018-12-20 21:53:46,475 : INFO : EPOCH - 4 : training on 601 raw words (351 effective words) took 0.4s, 917 effective words/s\n",
      "2018-12-20 21:53:46,490 : INFO : worker thread finished; awaiting finish of 2 more threads\n",
      "2018-12-20 21:53:46,500 : INFO : worker thread finished; awaiting finish of 1 more threads\n",
      "2018-12-20 21:53:46,973 : INFO : worker thread finished; awaiting finish of 0 more threads\n",
      "2018-12-20 21:53:46,977 : INFO : EPOCH - 5 : training on 601 raw words (349 effective words) took 0.5s, 714 effective words/s\n",
      "2018-12-20 21:53:46,980 : INFO : training on a 3005 raw words (1790 effective words) took 2.0s, 903 effective words/s\n",
      "2018-12-20 21:53:46,982 : WARNING : under 10 jobs per worker: consider setting a smaller `batch_words' for smoother alpha decay\n",
      "2018-12-20 21:53:46,986 : INFO : training model with 3 workers on 263 vocabulary and 100 features, using sg=0 hs=0 sample=0.001 negative=5 window=5\n",
      "2018-12-20 21:53:46,999 : INFO : worker thread finished; awaiting finish of 2 more threads\n",
      "2018-12-20 21:53:47,006 : INFO : worker thread finished; awaiting finish of 1 more threads\n"
     ]
    },
    {
     "name": "stdout",
     "output_type": "stream",
     "text": [
      "iteration 10\n"
     ]
    },
    {
     "name": "stderr",
     "output_type": "stream",
     "text": [
      "2018-12-20 21:53:47,509 : INFO : worker thread finished; awaiting finish of 0 more threads\n",
      "2018-12-20 21:53:47,514 : INFO : EPOCH - 1 : training on 601 raw words (363 effective words) took 0.5s, 702 effective words/s\n",
      "2018-12-20 21:53:47,529 : INFO : worker thread finished; awaiting finish of 2 more threads\n",
      "2018-12-20 21:53:47,539 : INFO : worker thread finished; awaiting finish of 1 more threads\n",
      "2018-12-20 21:53:47,978 : INFO : worker thread finished; awaiting finish of 0 more threads\n",
      "2018-12-20 21:53:47,987 : INFO : EPOCH - 2 : training on 601 raw words (364 effective words) took 0.5s, 796 effective words/s\n",
      "2018-12-20 21:53:48,005 : INFO : worker thread finished; awaiting finish of 2 more threads\n",
      "2018-12-20 21:53:48,010 : INFO : worker thread finished; awaiting finish of 1 more threads\n",
      "2018-12-20 21:53:48,271 : INFO : worker thread finished; awaiting finish of 0 more threads\n",
      "2018-12-20 21:53:48,275 : INFO : EPOCH - 3 : training on 601 raw words (353 effective words) took 0.3s, 1295 effective words/s\n",
      "2018-12-20 21:53:48,287 : INFO : worker thread finished; awaiting finish of 2 more threads\n",
      "2018-12-20 21:53:48,294 : INFO : worker thread finished; awaiting finish of 1 more threads\n",
      "2018-12-20 21:53:48,728 : INFO : worker thread finished; awaiting finish of 0 more threads\n",
      "2018-12-20 21:53:48,737 : INFO : EPOCH - 4 : training on 601 raw words (351 effective words) took 0.5s, 776 effective words/s\n",
      "2018-12-20 21:53:48,746 : INFO : worker thread finished; awaiting finish of 2 more threads\n",
      "2018-12-20 21:53:48,749 : INFO : worker thread finished; awaiting finish of 1 more threads\n",
      "2018-12-20 21:53:49,207 : INFO : worker thread finished; awaiting finish of 0 more threads\n",
      "2018-12-20 21:53:49,218 : INFO : EPOCH - 5 : training on 601 raw words (359 effective words) took 0.5s, 761 effective words/s\n",
      "2018-12-20 21:53:49,225 : INFO : training on a 3005 raw words (1790 effective words) took 2.2s, 801 effective words/s\n",
      "2018-12-20 21:53:49,227 : WARNING : under 10 jobs per worker: consider setting a smaller `batch_words' for smoother alpha decay\n",
      "2018-12-20 21:53:49,235 : INFO : training model with 3 workers on 263 vocabulary and 100 features, using sg=0 hs=0 sample=0.001 negative=5 window=5\n",
      "2018-12-20 21:53:49,270 : INFO : worker thread finished; awaiting finish of 2 more threads\n",
      "2018-12-20 21:53:49,293 : INFO : worker thread finished; awaiting finish of 1 more threads\n"
     ]
    },
    {
     "name": "stdout",
     "output_type": "stream",
     "text": [
      "iteration 11\n"
     ]
    },
    {
     "name": "stderr",
     "output_type": "stream",
     "text": [
      "2018-12-20 21:53:49,595 : INFO : worker thread finished; awaiting finish of 0 more threads\n",
      "2018-12-20 21:53:49,599 : INFO : EPOCH - 1 : training on 601 raw words (358 effective words) took 0.3s, 1078 effective words/s\n",
      "2018-12-20 21:53:49,614 : INFO : worker thread finished; awaiting finish of 2 more threads\n",
      "2018-12-20 21:53:49,625 : INFO : worker thread finished; awaiting finish of 1 more threads\n",
      "2018-12-20 21:53:49,874 : INFO : worker thread finished; awaiting finish of 0 more threads\n",
      "2018-12-20 21:53:49,874 : INFO : EPOCH - 2 : training on 601 raw words (364 effective words) took 0.3s, 1361 effective words/s\n",
      "2018-12-20 21:53:49,891 : INFO : worker thread finished; awaiting finish of 2 more threads\n",
      "2018-12-20 21:53:49,905 : INFO : worker thread finished; awaiting finish of 1 more threads\n",
      "2018-12-20 21:53:50,301 : INFO : worker thread finished; awaiting finish of 0 more threads\n",
      "2018-12-20 21:53:50,304 : INFO : EPOCH - 3 : training on 601 raw words (342 effective words) took 0.4s, 826 effective words/s\n",
      "2018-12-20 21:53:50,318 : INFO : worker thread finished; awaiting finish of 2 more threads\n",
      "2018-12-20 21:53:50,328 : INFO : worker thread finished; awaiting finish of 1 more threads\n",
      "2018-12-20 21:53:50,727 : INFO : worker thread finished; awaiting finish of 0 more threads\n",
      "2018-12-20 21:53:50,728 : INFO : EPOCH - 4 : training on 601 raw words (361 effective words) took 0.4s, 874 effective words/s\n",
      "2018-12-20 21:53:50,733 : INFO : worker thread finished; awaiting finish of 2 more threads\n",
      "2018-12-20 21:53:50,736 : INFO : worker thread finished; awaiting finish of 1 more threads\n",
      "2018-12-20 21:53:51,116 : INFO : worker thread finished; awaiting finish of 0 more threads\n",
      "2018-12-20 21:53:51,119 : INFO : EPOCH - 5 : training on 601 raw words (352 effective words) took 0.4s, 911 effective words/s\n",
      "2018-12-20 21:53:51,122 : INFO : training on a 3005 raw words (1777 effective words) took 1.9s, 943 effective words/s\n",
      "2018-12-20 21:53:51,126 : WARNING : under 10 jobs per worker: consider setting a smaller `batch_words' for smoother alpha decay\n",
      "2018-12-20 21:53:51,128 : INFO : training model with 3 workers on 263 vocabulary and 100 features, using sg=0 hs=0 sample=0.001 negative=5 window=5\n",
      "2018-12-20 21:53:51,144 : INFO : worker thread finished; awaiting finish of 2 more threads\n",
      "2018-12-20 21:53:51,152 : INFO : worker thread finished; awaiting finish of 1 more threads\n"
     ]
    },
    {
     "name": "stdout",
     "output_type": "stream",
     "text": [
      "iteration 12\n"
     ]
    },
    {
     "name": "stderr",
     "output_type": "stream",
     "text": [
      "2018-12-20 21:53:51,633 : INFO : worker thread finished; awaiting finish of 0 more threads\n",
      "2018-12-20 21:53:51,635 : INFO : EPOCH - 1 : training on 601 raw words (365 effective words) took 0.5s, 739 effective words/s\n",
      "2018-12-20 21:53:51,653 : INFO : worker thread finished; awaiting finish of 2 more threads\n",
      "2018-12-20 21:53:51,659 : INFO : worker thread finished; awaiting finish of 1 more threads\n",
      "2018-12-20 21:53:52,138 : INFO : worker thread finished; awaiting finish of 0 more threads\n",
      "2018-12-20 21:53:52,143 : INFO : EPOCH - 2 : training on 601 raw words (378 effective words) took 0.5s, 764 effective words/s\n",
      "2018-12-20 21:53:52,156 : INFO : worker thread finished; awaiting finish of 2 more threads\n",
      "2018-12-20 21:53:52,159 : INFO : worker thread finished; awaiting finish of 1 more threads\n",
      "2018-12-20 21:53:52,667 : INFO : worker thread finished; awaiting finish of 0 more threads\n",
      "2018-12-20 21:53:52,671 : INFO : EPOCH - 3 : training on 601 raw words (369 effective words) took 0.5s, 713 effective words/s\n",
      "2018-12-20 21:53:52,676 : INFO : worker thread finished; awaiting finish of 2 more threads\n",
      "2018-12-20 21:53:52,685 : INFO : worker thread finished; awaiting finish of 1 more threads\n",
      "2018-12-20 21:53:53,026 : INFO : worker thread finished; awaiting finish of 0 more threads\n",
      "2018-12-20 21:53:53,028 : INFO : EPOCH - 4 : training on 601 raw words (352 effective words) took 0.4s, 998 effective words/s\n",
      "2018-12-20 21:53:53,045 : INFO : worker thread finished; awaiting finish of 2 more threads\n",
      "2018-12-20 21:53:53,052 : INFO : worker thread finished; awaiting finish of 1 more threads\n",
      "2018-12-20 21:53:53,354 : INFO : worker thread finished; awaiting finish of 0 more threads\n",
      "2018-12-20 21:53:53,356 : INFO : EPOCH - 5 : training on 601 raw words (375 effective words) took 0.3s, 1193 effective words/s\n",
      "2018-12-20 21:53:53,357 : INFO : training on a 3005 raw words (1839 effective words) took 2.2s, 826 effective words/s\n",
      "2018-12-20 21:53:53,358 : WARNING : under 10 jobs per worker: consider setting a smaller `batch_words' for smoother alpha decay\n",
      "2018-12-20 21:53:53,358 : INFO : training model with 3 workers on 263 vocabulary and 100 features, using sg=0 hs=0 sample=0.001 negative=5 window=5\n",
      "2018-12-20 21:53:53,363 : INFO : worker thread finished; awaiting finish of 2 more threads\n",
      "2018-12-20 21:53:53,364 : INFO : worker thread finished; awaiting finish of 1 more threads\n",
      "2018-12-20 21:53:53,512 : INFO : worker thread finished; awaiting finish of 0 more threads\n",
      "2018-12-20 21:53:53,513 : INFO : EPOCH - 1 : training on 601 raw words (356 effective words) took 0.2s, 2368 effective words/s\n",
      "2018-12-20 21:53:53,517 : INFO : worker thread finished; awaiting finish of 2 more threads\n",
      "2018-12-20 21:53:53,519 : INFO : worker thread finished; awaiting finish of 1 more threads\n"
     ]
    },
    {
     "name": "stdout",
     "output_type": "stream",
     "text": [
      "iteration 13\n"
     ]
    },
    {
     "name": "stderr",
     "output_type": "stream",
     "text": [
      "2018-12-20 21:53:53,716 : INFO : worker thread finished; awaiting finish of 0 more threads\n",
      "2018-12-20 21:53:53,718 : INFO : EPOCH - 2 : training on 601 raw words (351 effective words) took 0.2s, 1738 effective words/s\n",
      "2018-12-20 21:53:53,732 : INFO : worker thread finished; awaiting finish of 2 more threads\n",
      "2018-12-20 21:53:53,737 : INFO : worker thread finished; awaiting finish of 1 more threads\n",
      "2018-12-20 21:53:54,022 : INFO : worker thread finished; awaiting finish of 0 more threads\n",
      "2018-12-20 21:53:54,028 : INFO : EPOCH - 3 : training on 601 raw words (354 effective words) took 0.3s, 1183 effective words/s\n",
      "2018-12-20 21:53:54,042 : INFO : worker thread finished; awaiting finish of 2 more threads\n",
      "2018-12-20 21:53:54,046 : INFO : worker thread finished; awaiting finish of 1 more threads\n",
      "2018-12-20 21:53:54,464 : INFO : worker thread finished; awaiting finish of 0 more threads\n",
      "2018-12-20 21:53:54,466 : INFO : EPOCH - 4 : training on 601 raw words (357 effective words) took 0.4s, 840 effective words/s\n",
      "2018-12-20 21:53:54,478 : INFO : worker thread finished; awaiting finish of 2 more threads\n",
      "2018-12-20 21:53:54,485 : INFO : worker thread finished; awaiting finish of 1 more threads\n",
      "2018-12-20 21:53:54,964 : INFO : worker thread finished; awaiting finish of 0 more threads\n",
      "2018-12-20 21:53:54,969 : INFO : EPOCH - 5 : training on 601 raw words (356 effective words) took 0.5s, 723 effective words/s\n",
      "2018-12-20 21:53:54,972 : INFO : training on a 3005 raw words (1774 effective words) took 1.6s, 1100 effective words/s\n",
      "2018-12-20 21:53:54,975 : WARNING : under 10 jobs per worker: consider setting a smaller `batch_words' for smoother alpha decay\n",
      "2018-12-20 21:53:54,977 : INFO : training model with 3 workers on 263 vocabulary and 100 features, using sg=0 hs=0 sample=0.001 negative=5 window=5\n",
      "2018-12-20 21:53:54,990 : INFO : worker thread finished; awaiting finish of 2 more threads\n",
      "2018-12-20 21:53:55,004 : INFO : worker thread finished; awaiting finish of 1 more threads\n"
     ]
    },
    {
     "name": "stdout",
     "output_type": "stream",
     "text": [
      "iteration 14\n"
     ]
    },
    {
     "name": "stderr",
     "output_type": "stream",
     "text": [
      "2018-12-20 21:53:55,501 : INFO : worker thread finished; awaiting finish of 0 more threads\n",
      "2018-12-20 21:53:55,505 : INFO : EPOCH - 1 : training on 601 raw words (365 effective words) took 0.5s, 709 effective words/s\n",
      "2018-12-20 21:53:55,513 : INFO : worker thread finished; awaiting finish of 2 more threads\n",
      "2018-12-20 21:53:55,518 : INFO : worker thread finished; awaiting finish of 1 more threads\n",
      "2018-12-20 21:53:55,819 : INFO : worker thread finished; awaiting finish of 0 more threads\n",
      "2018-12-20 21:53:55,821 : INFO : EPOCH - 2 : training on 601 raw words (367 effective words) took 0.3s, 1186 effective words/s\n",
      "2018-12-20 21:53:55,827 : INFO : worker thread finished; awaiting finish of 2 more threads\n",
      "2018-12-20 21:53:55,829 : INFO : worker thread finished; awaiting finish of 1 more threads\n",
      "2018-12-20 21:53:56,086 : INFO : worker thread finished; awaiting finish of 0 more threads\n",
      "2018-12-20 21:53:56,089 : INFO : EPOCH - 3 : training on 601 raw words (360 effective words) took 0.3s, 1372 effective words/s\n",
      "2018-12-20 21:53:56,099 : INFO : worker thread finished; awaiting finish of 2 more threads\n",
      "2018-12-20 21:53:56,106 : INFO : worker thread finished; awaiting finish of 1 more threads\n",
      "2018-12-20 21:53:56,559 : INFO : worker thread finished; awaiting finish of 0 more threads\n",
      "2018-12-20 21:53:56,565 : INFO : EPOCH - 4 : training on 601 raw words (348 effective words) took 0.5s, 745 effective words/s\n",
      "2018-12-20 21:53:56,584 : INFO : worker thread finished; awaiting finish of 2 more threads\n",
      "2018-12-20 21:53:56,593 : INFO : worker thread finished; awaiting finish of 1 more threads\n",
      "2018-12-20 21:53:56,988 : INFO : worker thread finished; awaiting finish of 0 more threads\n",
      "2018-12-20 21:53:56,995 : INFO : EPOCH - 5 : training on 601 raw words (374 effective words) took 0.4s, 897 effective words/s\n",
      "2018-12-20 21:53:56,997 : INFO : training on a 3005 raw words (1814 effective words) took 2.0s, 899 effective words/s\n",
      "2018-12-20 21:53:57,001 : WARNING : under 10 jobs per worker: consider setting a smaller `batch_words' for smoother alpha decay\n",
      "2018-12-20 21:53:57,004 : INFO : training model with 3 workers on 263 vocabulary and 100 features, using sg=0 hs=0 sample=0.001 negative=5 window=5\n",
      "2018-12-20 21:53:57,017 : INFO : worker thread finished; awaiting finish of 2 more threads\n",
      "2018-12-20 21:53:57,031 : INFO : worker thread finished; awaiting finish of 1 more threads\n"
     ]
    },
    {
     "name": "stdout",
     "output_type": "stream",
     "text": [
      "iteration 15\n"
     ]
    },
    {
     "name": "stderr",
     "output_type": "stream",
     "text": [
      "2018-12-20 21:53:57,450 : INFO : worker thread finished; awaiting finish of 0 more threads\n",
      "2018-12-20 21:53:57,453 : INFO : EPOCH - 1 : training on 601 raw words (353 effective words) took 0.4s, 811 effective words/s\n",
      "2018-12-20 21:53:57,473 : INFO : worker thread finished; awaiting finish of 2 more threads\n",
      "2018-12-20 21:53:57,480 : INFO : worker thread finished; awaiting finish of 1 more threads\n",
      "2018-12-20 21:53:57,925 : INFO : worker thread finished; awaiting finish of 0 more threads\n",
      "2018-12-20 21:53:57,936 : INFO : EPOCH - 2 : training on 601 raw words (345 effective words) took 0.5s, 732 effective words/s\n",
      "2018-12-20 21:53:57,948 : INFO : worker thread finished; awaiting finish of 2 more threads\n",
      "2018-12-20 21:53:57,954 : INFO : worker thread finished; awaiting finish of 1 more threads\n",
      "2018-12-20 21:53:58,424 : INFO : worker thread finished; awaiting finish of 0 more threads\n",
      "2018-12-20 21:53:58,428 : INFO : EPOCH - 3 : training on 601 raw words (357 effective words) took 0.5s, 740 effective words/s\n",
      "2018-12-20 21:53:58,442 : INFO : worker thread finished; awaiting finish of 2 more threads\n",
      "2018-12-20 21:53:58,448 : INFO : worker thread finished; awaiting finish of 1 more threads\n",
      "2018-12-20 21:53:58,954 : INFO : worker thread finished; awaiting finish of 0 more threads\n",
      "2018-12-20 21:53:58,955 : INFO : EPOCH - 4 : training on 601 raw words (365 effective words) took 0.5s, 709 effective words/s\n",
      "2018-12-20 21:53:58,966 : INFO : worker thread finished; awaiting finish of 2 more threads\n",
      "2018-12-20 21:53:58,974 : INFO : worker thread finished; awaiting finish of 1 more threads\n",
      "2018-12-20 21:53:59,490 : INFO : worker thread finished; awaiting finish of 0 more threads\n",
      "2018-12-20 21:53:59,492 : INFO : EPOCH - 5 : training on 601 raw words (360 effective words) took 0.5s, 683 effective words/s\n",
      "2018-12-20 21:53:59,492 : INFO : training on a 3005 raw words (1780 effective words) took 2.5s, 715 effective words/s\n",
      "2018-12-20 21:53:59,497 : WARNING : under 10 jobs per worker: consider setting a smaller `batch_words' for smoother alpha decay\n",
      "2018-12-20 21:53:59,503 : INFO : training model with 3 workers on 263 vocabulary and 100 features, using sg=0 hs=0 sample=0.001 negative=5 window=5\n",
      "2018-12-20 21:53:59,524 : INFO : worker thread finished; awaiting finish of 2 more threads\n",
      "2018-12-20 21:53:59,529 : INFO : worker thread finished; awaiting finish of 1 more threads\n"
     ]
    },
    {
     "name": "stdout",
     "output_type": "stream",
     "text": [
      "iteration 16\n"
     ]
    },
    {
     "name": "stderr",
     "output_type": "stream",
     "text": [
      "2018-12-20 21:54:00,012 : INFO : worker thread finished; awaiting finish of 0 more threads\n",
      "2018-12-20 21:54:00,017 : INFO : EPOCH - 1 : training on 601 raw words (363 effective words) took 0.5s, 735 effective words/s\n",
      "2018-12-20 21:54:00,040 : INFO : worker thread finished; awaiting finish of 2 more threads\n",
      "2018-12-20 21:54:00,047 : INFO : worker thread finished; awaiting finish of 1 more threads\n",
      "2018-12-20 21:54:00,542 : INFO : worker thread finished; awaiting finish of 0 more threads\n",
      "2018-12-20 21:54:00,545 : INFO : EPOCH - 2 : training on 601 raw words (355 effective words) took 0.5s, 703 effective words/s\n",
      "2018-12-20 21:54:00,557 : INFO : worker thread finished; awaiting finish of 2 more threads\n",
      "2018-12-20 21:54:00,562 : INFO : worker thread finished; awaiting finish of 1 more threads\n",
      "2018-12-20 21:54:01,059 : INFO : worker thread finished; awaiting finish of 0 more threads\n",
      "2018-12-20 21:54:01,063 : INFO : EPOCH - 3 : training on 601 raw words (357 effective words) took 0.5s, 705 effective words/s\n",
      "2018-12-20 21:54:01,074 : INFO : worker thread finished; awaiting finish of 2 more threads\n",
      "2018-12-20 21:54:01,084 : INFO : worker thread finished; awaiting finish of 1 more threads\n",
      "2018-12-20 21:54:01,543 : INFO : worker thread finished; awaiting finish of 0 more threads\n",
      "2018-12-20 21:54:01,554 : INFO : EPOCH - 4 : training on 601 raw words (359 effective words) took 0.5s, 749 effective words/s\n",
      "2018-12-20 21:54:01,581 : INFO : worker thread finished; awaiting finish of 2 more threads\n",
      "2018-12-20 21:54:01,584 : INFO : worker thread finished; awaiting finish of 1 more threads\n",
      "2018-12-20 21:54:01,873 : INFO : worker thread finished; awaiting finish of 0 more threads\n",
      "2018-12-20 21:54:01,875 : INFO : EPOCH - 5 : training on 601 raw words (371 effective words) took 0.3s, 1258 effective words/s\n",
      "2018-12-20 21:54:01,877 : INFO : training on a 3005 raw words (1805 effective words) took 2.4s, 763 effective words/s\n",
      "2018-12-20 21:54:01,879 : WARNING : under 10 jobs per worker: consider setting a smaller `batch_words' for smoother alpha decay\n",
      "2018-12-20 21:54:01,882 : INFO : training model with 3 workers on 263 vocabulary and 100 features, using sg=0 hs=0 sample=0.001 negative=5 window=5\n",
      "2018-12-20 21:54:01,889 : INFO : worker thread finished; awaiting finish of 2 more threads\n",
      "2018-12-20 21:54:01,896 : INFO : worker thread finished; awaiting finish of 1 more threads\n"
     ]
    },
    {
     "name": "stdout",
     "output_type": "stream",
     "text": [
      "iteration 17\n"
     ]
    },
    {
     "name": "stderr",
     "output_type": "stream",
     "text": [
      "2018-12-20 21:54:02,260 : INFO : worker thread finished; awaiting finish of 0 more threads\n",
      "2018-12-20 21:54:02,262 : INFO : EPOCH - 1 : training on 601 raw words (369 effective words) took 0.4s, 986 effective words/s\n",
      "2018-12-20 21:54:02,278 : INFO : worker thread finished; awaiting finish of 2 more threads\n",
      "2018-12-20 21:54:02,291 : INFO : worker thread finished; awaiting finish of 1 more threads\n",
      "2018-12-20 21:54:02,836 : INFO : worker thread finished; awaiting finish of 0 more threads\n",
      "2018-12-20 21:54:02,840 : INFO : EPOCH - 2 : training on 601 raw words (360 effective words) took 0.6s, 638 effective words/s\n",
      "2018-12-20 21:54:02,852 : INFO : worker thread finished; awaiting finish of 2 more threads\n",
      "2018-12-20 21:54:02,857 : INFO : worker thread finished; awaiting finish of 1 more threads\n",
      "2018-12-20 21:54:03,334 : INFO : worker thread finished; awaiting finish of 0 more threads\n",
      "2018-12-20 21:54:03,338 : INFO : EPOCH - 3 : training on 601 raw words (345 effective words) took 0.5s, 710 effective words/s\n",
      "2018-12-20 21:54:03,354 : INFO : worker thread finished; awaiting finish of 2 more threads\n",
      "2018-12-20 21:54:03,374 : INFO : worker thread finished; awaiting finish of 1 more threads\n",
      "2018-12-20 21:54:03,856 : INFO : worker thread finished; awaiting finish of 0 more threads\n",
      "2018-12-20 21:54:03,860 : INFO : EPOCH - 4 : training on 601 raw words (345 effective words) took 0.5s, 679 effective words/s\n",
      "2018-12-20 21:54:03,874 : INFO : worker thread finished; awaiting finish of 2 more threads\n",
      "2018-12-20 21:54:03,877 : INFO : worker thread finished; awaiting finish of 1 more threads\n",
      "2018-12-20 21:54:04,309 : INFO : worker thread finished; awaiting finish of 0 more threads\n",
      "2018-12-20 21:54:04,313 : INFO : EPOCH - 5 : training on 601 raw words (360 effective words) took 0.4s, 820 effective words/s\n",
      "2018-12-20 21:54:04,313 : INFO : training on a 3005 raw words (1779 effective words) took 2.4s, 731 effective words/s\n",
      "2018-12-20 21:54:04,320 : WARNING : under 10 jobs per worker: consider setting a smaller `batch_words' for smoother alpha decay\n",
      "2018-12-20 21:54:04,325 : INFO : training model with 3 workers on 263 vocabulary and 100 features, using sg=0 hs=0 sample=0.001 negative=5 window=5\n",
      "2018-12-20 21:54:04,350 : INFO : worker thread finished; awaiting finish of 2 more threads\n",
      "2018-12-20 21:54:04,358 : INFO : worker thread finished; awaiting finish of 1 more threads\n"
     ]
    },
    {
     "name": "stdout",
     "output_type": "stream",
     "text": [
      "iteration 18\n"
     ]
    },
    {
     "name": "stderr",
     "output_type": "stream",
     "text": [
      "2018-12-20 21:54:04,844 : INFO : worker thread finished; awaiting finish of 0 more threads\n",
      "2018-12-20 21:54:04,852 : INFO : EPOCH - 1 : training on 601 raw words (359 effective words) took 0.5s, 715 effective words/s\n",
      "2018-12-20 21:54:04,865 : INFO : worker thread finished; awaiting finish of 2 more threads\n",
      "2018-12-20 21:54:04,873 : INFO : worker thread finished; awaiting finish of 1 more threads\n",
      "2018-12-20 21:54:05,225 : INFO : worker thread finished; awaiting finish of 0 more threads\n",
      "2018-12-20 21:54:05,228 : INFO : EPOCH - 2 : training on 601 raw words (374 effective words) took 0.4s, 1022 effective words/s\n",
      "2018-12-20 21:54:05,238 : INFO : worker thread finished; awaiting finish of 2 more threads\n",
      "2018-12-20 21:54:05,246 : INFO : worker thread finished; awaiting finish of 1 more threads\n",
      "2018-12-20 21:54:05,779 : INFO : worker thread finished; awaiting finish of 0 more threads\n",
      "2018-12-20 21:54:05,782 : INFO : EPOCH - 3 : training on 601 raw words (357 effective words) took 0.5s, 655 effective words/s\n",
      "2018-12-20 21:54:05,798 : INFO : worker thread finished; awaiting finish of 2 more threads\n",
      "2018-12-20 21:54:05,808 : INFO : worker thread finished; awaiting finish of 1 more threads\n",
      "2018-12-20 21:54:06,293 : INFO : worker thread finished; awaiting finish of 0 more threads\n",
      "2018-12-20 21:54:06,293 : INFO : EPOCH - 4 : training on 601 raw words (368 effective words) took 0.5s, 733 effective words/s\n",
      "2018-12-20 21:54:06,309 : INFO : worker thread finished; awaiting finish of 2 more threads\n",
      "2018-12-20 21:54:06,313 : INFO : worker thread finished; awaiting finish of 1 more threads\n",
      "2018-12-20 21:54:06,771 : INFO : worker thread finished; awaiting finish of 0 more threads\n",
      "2018-12-20 21:54:06,772 : INFO : EPOCH - 5 : training on 601 raw words (345 effective words) took 0.5s, 744 effective words/s\n",
      "2018-12-20 21:54:06,773 : INFO : training on a 3005 raw words (1803 effective words) took 2.4s, 739 effective words/s\n",
      "2018-12-20 21:54:06,773 : WARNING : under 10 jobs per worker: consider setting a smaller `batch_words' for smoother alpha decay\n",
      "2018-12-20 21:54:06,774 : INFO : training model with 3 workers on 263 vocabulary and 100 features, using sg=0 hs=0 sample=0.001 negative=5 window=5\n",
      "2018-12-20 21:54:06,780 : INFO : worker thread finished; awaiting finish of 2 more threads\n",
      "2018-12-20 21:54:06,785 : INFO : worker thread finished; awaiting finish of 1 more threads\n"
     ]
    },
    {
     "name": "stdout",
     "output_type": "stream",
     "text": [
      "iteration 19\n"
     ]
    },
    {
     "name": "stderr",
     "output_type": "stream",
     "text": [
      "2018-12-20 21:54:07,164 : INFO : worker thread finished; awaiting finish of 0 more threads\n",
      "2018-12-20 21:54:07,169 : INFO : EPOCH - 1 : training on 601 raw words (350 effective words) took 0.4s, 899 effective words/s\n",
      "2018-12-20 21:54:07,179 : INFO : worker thread finished; awaiting finish of 2 more threads\n",
      "2018-12-20 21:54:07,185 : INFO : worker thread finished; awaiting finish of 1 more threads\n",
      "2018-12-20 21:54:07,552 : INFO : worker thread finished; awaiting finish of 0 more threads\n",
      "2018-12-20 21:54:07,555 : INFO : EPOCH - 2 : training on 601 raw words (335 effective words) took 0.4s, 889 effective words/s\n",
      "2018-12-20 21:54:07,563 : INFO : worker thread finished; awaiting finish of 2 more threads\n",
      "2018-12-20 21:54:07,567 : INFO : worker thread finished; awaiting finish of 1 more threads\n",
      "2018-12-20 21:54:07,829 : INFO : worker thread finished; awaiting finish of 0 more threads\n",
      "2018-12-20 21:54:07,833 : INFO : EPOCH - 3 : training on 601 raw words (369 effective words) took 0.3s, 1365 effective words/s\n",
      "2018-12-20 21:54:07,838 : INFO : worker thread finished; awaiting finish of 2 more threads\n",
      "2018-12-20 21:54:07,843 : INFO : worker thread finished; awaiting finish of 1 more threads\n",
      "2018-12-20 21:54:08,229 : INFO : worker thread finished; awaiting finish of 0 more threads\n",
      "2018-12-20 21:54:08,232 : INFO : EPOCH - 4 : training on 601 raw words (374 effective words) took 0.4s, 949 effective words/s\n",
      "2018-12-20 21:54:08,247 : INFO : worker thread finished; awaiting finish of 2 more threads\n",
      "2018-12-20 21:54:08,251 : INFO : worker thread finished; awaiting finish of 1 more threads\n",
      "2018-12-20 21:54:08,736 : INFO : worker thread finished; awaiting finish of 0 more threads\n",
      "2018-12-20 21:54:08,740 : INFO : EPOCH - 5 : training on 601 raw words (370 effective words) took 0.5s, 749 effective words/s\n",
      "2018-12-20 21:54:08,743 : INFO : training on a 3005 raw words (1798 effective words) took 2.0s, 914 effective words/s\n",
      "2018-12-20 21:54:08,748 : WARNING : under 10 jobs per worker: consider setting a smaller `batch_words' for smoother alpha decay\n",
      "2018-12-20 21:54:08,752 : INFO : training model with 3 workers on 263 vocabulary and 100 features, using sg=0 hs=0 sample=0.001 negative=5 window=5\n",
      "2018-12-20 21:54:08,765 : INFO : worker thread finished; awaiting finish of 2 more threads\n",
      "2018-12-20 21:54:08,772 : INFO : worker thread finished; awaiting finish of 1 more threads\n"
     ]
    },
    {
     "name": "stdout",
     "output_type": "stream",
     "text": [
      "iteration 20\n"
     ]
    },
    {
     "name": "stderr",
     "output_type": "stream",
     "text": [
      "2018-12-20 21:54:09,306 : INFO : worker thread finished; awaiting finish of 0 more threads\n",
      "2018-12-20 21:54:09,309 : INFO : EPOCH - 1 : training on 601 raw words (371 effective words) took 0.5s, 682 effective words/s\n",
      "2018-12-20 21:54:09,323 : INFO : worker thread finished; awaiting finish of 2 more threads\n",
      "2018-12-20 21:54:09,339 : INFO : worker thread finished; awaiting finish of 1 more threads\n",
      "2018-12-20 21:54:09,818 : INFO : worker thread finished; awaiting finish of 0 more threads\n",
      "2018-12-20 21:54:09,821 : INFO : EPOCH - 2 : training on 601 raw words (351 effective words) took 0.5s, 702 effective words/s\n",
      "2018-12-20 21:54:09,838 : INFO : worker thread finished; awaiting finish of 2 more threads\n",
      "2018-12-20 21:54:09,846 : INFO : worker thread finished; awaiting finish of 1 more threads\n",
      "2018-12-20 21:54:10,330 : INFO : worker thread finished; awaiting finish of 0 more threads\n",
      "2018-12-20 21:54:10,336 : INFO : EPOCH - 3 : training on 601 raw words (374 effective words) took 0.5s, 752 effective words/s\n",
      "2018-12-20 21:54:10,349 : INFO : worker thread finished; awaiting finish of 2 more threads\n",
      "2018-12-20 21:54:10,357 : INFO : worker thread finished; awaiting finish of 1 more threads\n",
      "2018-12-20 21:54:10,844 : INFO : worker thread finished; awaiting finish of 0 more threads\n",
      "2018-12-20 21:54:10,852 : INFO : EPOCH - 4 : training on 601 raw words (364 effective words) took 0.5s, 724 effective words/s\n",
      "2018-12-20 21:54:10,864 : INFO : worker thread finished; awaiting finish of 2 more threads\n",
      "2018-12-20 21:54:10,869 : INFO : worker thread finished; awaiting finish of 1 more threads\n",
      "2018-12-20 21:54:11,364 : INFO : worker thread finished; awaiting finish of 0 more threads\n",
      "2018-12-20 21:54:11,368 : INFO : EPOCH - 5 : training on 601 raw words (362 effective words) took 0.5s, 714 effective words/s\n",
      "2018-12-20 21:54:11,371 : INFO : training on a 3005 raw words (1822 effective words) took 2.6s, 696 effective words/s\n",
      "2018-12-20 21:54:11,374 : WARNING : under 10 jobs per worker: consider setting a smaller `batch_words' for smoother alpha decay\n",
      "2018-12-20 21:54:11,379 : INFO : training model with 3 workers on 263 vocabulary and 100 features, using sg=0 hs=0 sample=0.001 negative=5 window=5\n",
      "2018-12-20 21:54:11,390 : INFO : worker thread finished; awaiting finish of 2 more threads\n",
      "2018-12-20 21:54:11,396 : INFO : worker thread finished; awaiting finish of 1 more threads\n"
     ]
    },
    {
     "name": "stdout",
     "output_type": "stream",
     "text": [
      "iteration 21\n"
     ]
    },
    {
     "name": "stderr",
     "output_type": "stream",
     "text": [
      "2018-12-20 21:54:11,936 : INFO : worker thread finished; awaiting finish of 0 more threads\n",
      "2018-12-20 21:54:11,939 : INFO : EPOCH - 1 : training on 601 raw words (360 effective words) took 0.6s, 654 effective words/s\n",
      "2018-12-20 21:54:11,952 : INFO : worker thread finished; awaiting finish of 2 more threads\n",
      "2018-12-20 21:54:11,958 : INFO : worker thread finished; awaiting finish of 1 more threads\n",
      "2018-12-20 21:54:12,445 : INFO : worker thread finished; awaiting finish of 0 more threads\n",
      "2018-12-20 21:54:12,455 : INFO : EPOCH - 2 : training on 601 raw words (357 effective words) took 0.5s, 706 effective words/s\n",
      "2018-12-20 21:54:12,466 : INFO : worker thread finished; awaiting finish of 2 more threads\n",
      "2018-12-20 21:54:12,474 : INFO : worker thread finished; awaiting finish of 1 more threads\n",
      "2018-12-20 21:54:13,021 : INFO : worker thread finished; awaiting finish of 0 more threads\n",
      "2018-12-20 21:54:13,025 : INFO : EPOCH - 3 : training on 601 raw words (362 effective words) took 0.6s, 645 effective words/s\n",
      "2018-12-20 21:54:13,043 : INFO : worker thread finished; awaiting finish of 2 more threads\n",
      "2018-12-20 21:54:13,059 : INFO : worker thread finished; awaiting finish of 1 more threads\n",
      "2018-12-20 21:54:13,637 : INFO : worker thread finished; awaiting finish of 0 more threads\n",
      "2018-12-20 21:54:13,644 : INFO : EPOCH - 4 : training on 601 raw words (360 effective words) took 0.6s, 597 effective words/s\n",
      "2018-12-20 21:54:13,654 : INFO : worker thread finished; awaiting finish of 2 more threads\n",
      "2018-12-20 21:54:13,660 : INFO : worker thread finished; awaiting finish of 1 more threads\n",
      "2018-12-20 21:54:13,995 : INFO : worker thread finished; awaiting finish of 0 more threads\n",
      "2018-12-20 21:54:13,998 : INFO : EPOCH - 5 : training on 601 raw words (366 effective words) took 0.3s, 1059 effective words/s\n",
      "2018-12-20 21:54:13,999 : INFO : training on a 3005 raw words (1805 effective words) took 2.6s, 690 effective words/s\n",
      "2018-12-20 21:54:14,002 : WARNING : under 10 jobs per worker: consider setting a smaller `batch_words' for smoother alpha decay\n",
      "2018-12-20 21:54:14,004 : INFO : training model with 3 workers on 263 vocabulary and 100 features, using sg=0 hs=0 sample=0.001 negative=5 window=5\n",
      "2018-12-20 21:54:14,010 : INFO : worker thread finished; awaiting finish of 2 more threads\n",
      "2018-12-20 21:54:14,012 : INFO : worker thread finished; awaiting finish of 1 more threads\n"
     ]
    },
    {
     "name": "stdout",
     "output_type": "stream",
     "text": [
      "iteration 22\n"
     ]
    },
    {
     "name": "stderr",
     "output_type": "stream",
     "text": [
      "2018-12-20 21:54:14,314 : INFO : worker thread finished; awaiting finish of 0 more threads\n",
      "2018-12-20 21:54:14,320 : INFO : EPOCH - 1 : training on 601 raw words (374 effective words) took 0.3s, 1203 effective words/s\n",
      "2018-12-20 21:54:14,338 : INFO : worker thread finished; awaiting finish of 2 more threads\n",
      "2018-12-20 21:54:14,349 : INFO : worker thread finished; awaiting finish of 1 more threads\n",
      "2018-12-20 21:54:14,845 : INFO : worker thread finished; awaiting finish of 0 more threads\n",
      "2018-12-20 21:54:14,845 : INFO : EPOCH - 2 : training on 601 raw words (361 effective words) took 0.5s, 706 effective words/s\n",
      "2018-12-20 21:54:14,862 : INFO : worker thread finished; awaiting finish of 2 more threads\n",
      "2018-12-20 21:54:14,871 : INFO : worker thread finished; awaiting finish of 1 more threads\n",
      "2018-12-20 21:54:15,319 : INFO : worker thread finished; awaiting finish of 0 more threads\n",
      "2018-12-20 21:54:15,326 : INFO : EPOCH - 3 : training on 601 raw words (357 effective words) took 0.5s, 767 effective words/s\n",
      "2018-12-20 21:54:15,339 : INFO : worker thread finished; awaiting finish of 2 more threads\n",
      "2018-12-20 21:54:15,344 : INFO : worker thread finished; awaiting finish of 1 more threads\n",
      "2018-12-20 21:54:15,838 : INFO : worker thread finished; awaiting finish of 0 more threads\n",
      "2018-12-20 21:54:15,842 : INFO : EPOCH - 4 : training on 601 raw words (359 effective words) took 0.5s, 711 effective words/s\n",
      "2018-12-20 21:54:15,855 : INFO : worker thread finished; awaiting finish of 2 more threads\n",
      "2018-12-20 21:54:15,863 : INFO : worker thread finished; awaiting finish of 1 more threads\n",
      "2018-12-20 21:54:16,344 : INFO : worker thread finished; awaiting finish of 0 more threads\n",
      "2018-12-20 21:54:16,344 : INFO : EPOCH - 5 : training on 601 raw words (359 effective words) took 0.5s, 726 effective words/s\n",
      "2018-12-20 21:54:16,352 : INFO : training on a 3005 raw words (1810 effective words) took 2.3s, 772 effective words/s\n",
      "2018-12-20 21:54:16,355 : WARNING : under 10 jobs per worker: consider setting a smaller `batch_words' for smoother alpha decay\n",
      "2018-12-20 21:54:16,357 : INFO : training model with 3 workers on 263 vocabulary and 100 features, using sg=0 hs=0 sample=0.001 negative=5 window=5\n",
      "2018-12-20 21:54:16,368 : INFO : worker thread finished; awaiting finish of 2 more threads\n",
      "2018-12-20 21:54:16,375 : INFO : worker thread finished; awaiting finish of 1 more threads\n"
     ]
    },
    {
     "name": "stdout",
     "output_type": "stream",
     "text": [
      "iteration 23\n"
     ]
    },
    {
     "name": "stderr",
     "output_type": "stream",
     "text": [
      "2018-12-20 21:54:16,937 : INFO : worker thread finished; awaiting finish of 0 more threads\n",
      "2018-12-20 21:54:16,944 : INFO : EPOCH - 1 : training on 601 raw words (369 effective words) took 0.6s, 640 effective words/s\n",
      "2018-12-20 21:54:16,959 : INFO : worker thread finished; awaiting finish of 2 more threads\n",
      "2018-12-20 21:54:16,967 : INFO : worker thread finished; awaiting finish of 1 more threads\n",
      "2018-12-20 21:54:17,424 : INFO : worker thread finished; awaiting finish of 0 more threads\n",
      "2018-12-20 21:54:17,430 : INFO : EPOCH - 2 : training on 601 raw words (338 effective words) took 0.5s, 712 effective words/s\n",
      "2018-12-20 21:54:17,445 : INFO : worker thread finished; awaiting finish of 2 more threads\n",
      "2018-12-20 21:54:17,451 : INFO : worker thread finished; awaiting finish of 1 more threads\n",
      "2018-12-20 21:54:17,940 : INFO : worker thread finished; awaiting finish of 0 more threads\n",
      "2018-12-20 21:54:17,942 : INFO : EPOCH - 3 : training on 601 raw words (355 effective words) took 0.5s, 709 effective words/s\n",
      "2018-12-20 21:54:17,953 : INFO : worker thread finished; awaiting finish of 2 more threads\n",
      "2018-12-20 21:54:17,968 : INFO : worker thread finished; awaiting finish of 1 more threads\n",
      "2018-12-20 21:54:18,365 : INFO : worker thread finished; awaiting finish of 0 more threads\n",
      "2018-12-20 21:54:18,367 : INFO : EPOCH - 4 : training on 601 raw words (369 effective words) took 0.4s, 887 effective words/s\n",
      "2018-12-20 21:54:18,377 : INFO : worker thread finished; awaiting finish of 2 more threads\n",
      "2018-12-20 21:54:18,379 : INFO : worker thread finished; awaiting finish of 1 more threads\n",
      "2018-12-20 21:54:18,651 : INFO : worker thread finished; awaiting finish of 0 more threads\n",
      "2018-12-20 21:54:18,655 : INFO : EPOCH - 5 : training on 601 raw words (343 effective words) took 0.3s, 1230 effective words/s\n",
      "2018-12-20 21:54:18,656 : INFO : training on a 3005 raw words (1774 effective words) took 2.3s, 773 effective words/s\n",
      "2018-12-20 21:54:18,657 : WARNING : under 10 jobs per worker: consider setting a smaller `batch_words' for smoother alpha decay\n",
      "2018-12-20 21:54:18,659 : INFO : training model with 3 workers on 263 vocabulary and 100 features, using sg=0 hs=0 sample=0.001 negative=5 window=5\n",
      "2018-12-20 21:54:18,663 : INFO : worker thread finished; awaiting finish of 2 more threads\n",
      "2018-12-20 21:54:18,671 : INFO : worker thread finished; awaiting finish of 1 more threads\n"
     ]
    },
    {
     "name": "stdout",
     "output_type": "stream",
     "text": [
      "iteration 24\n"
     ]
    },
    {
     "name": "stderr",
     "output_type": "stream",
     "text": [
      "2018-12-20 21:54:19,076 : INFO : worker thread finished; awaiting finish of 0 more threads\n",
      "2018-12-20 21:54:19,084 : INFO : EPOCH - 1 : training on 601 raw words (353 effective words) took 0.4s, 838 effective words/s\n",
      "2018-12-20 21:54:19,096 : INFO : worker thread finished; awaiting finish of 2 more threads\n",
      "2018-12-20 21:54:19,102 : INFO : worker thread finished; awaiting finish of 1 more threads\n",
      "2018-12-20 21:54:19,674 : INFO : worker thread finished; awaiting finish of 0 more threads\n",
      "2018-12-20 21:54:19,677 : INFO : EPOCH - 2 : training on 601 raw words (369 effective words) took 0.6s, 634 effective words/s\n",
      "2018-12-20 21:54:19,682 : INFO : worker thread finished; awaiting finish of 2 more threads\n",
      "2018-12-20 21:54:19,685 : INFO : worker thread finished; awaiting finish of 1 more threads\n",
      "2018-12-20 21:54:20,025 : INFO : worker thread finished; awaiting finish of 0 more threads\n",
      "2018-12-20 21:54:20,025 : INFO : EPOCH - 3 : training on 601 raw words (371 effective words) took 0.3s, 1069 effective words/s\n",
      "2018-12-20 21:54:20,037 : INFO : worker thread finished; awaiting finish of 2 more threads\n",
      "2018-12-20 21:54:20,044 : INFO : worker thread finished; awaiting finish of 1 more threads\n",
      "2018-12-20 21:54:20,413 : INFO : worker thread finished; awaiting finish of 0 more threads\n",
      "2018-12-20 21:54:20,419 : INFO : EPOCH - 4 : training on 601 raw words (361 effective words) took 0.4s, 940 effective words/s\n",
      "2018-12-20 21:54:20,438 : INFO : worker thread finished; awaiting finish of 2 more threads\n",
      "2018-12-20 21:54:20,448 : INFO : worker thread finished; awaiting finish of 1 more threads\n",
      "2018-12-20 21:54:20,971 : INFO : worker thread finished; awaiting finish of 0 more threads\n",
      "2018-12-20 21:54:20,975 : INFO : EPOCH - 5 : training on 601 raw words (362 effective words) took 0.5s, 666 effective words/s\n",
      "2018-12-20 21:54:20,978 : INFO : training on a 3005 raw words (1816 effective words) took 2.3s, 783 effective words/s\n",
      "2018-12-20 21:54:20,981 : WARNING : under 10 jobs per worker: consider setting a smaller `batch_words' for smoother alpha decay\n",
      "2018-12-20 21:54:20,987 : INFO : training model with 3 workers on 263 vocabulary and 100 features, using sg=0 hs=0 sample=0.001 negative=5 window=5\n",
      "2018-12-20 21:54:21,000 : INFO : worker thread finished; awaiting finish of 2 more threads\n",
      "2018-12-20 21:54:21,013 : INFO : worker thread finished; awaiting finish of 1 more threads\n"
     ]
    },
    {
     "name": "stdout",
     "output_type": "stream",
     "text": [
      "iteration 25\n"
     ]
    },
    {
     "name": "stderr",
     "output_type": "stream",
     "text": [
      "2018-12-20 21:54:21,568 : INFO : worker thread finished; awaiting finish of 0 more threads\n",
      "2018-12-20 21:54:21,573 : INFO : EPOCH - 1 : training on 601 raw words (361 effective words) took 0.6s, 630 effective words/s\n",
      "2018-12-20 21:54:21,587 : INFO : worker thread finished; awaiting finish of 2 more threads\n",
      "2018-12-20 21:54:21,593 : INFO : worker thread finished; awaiting finish of 1 more threads\n",
      "2018-12-20 21:54:22,028 : INFO : worker thread finished; awaiting finish of 0 more threads\n",
      "2018-12-20 21:54:22,031 : INFO : EPOCH - 2 : training on 601 raw words (356 effective words) took 0.4s, 797 effective words/s\n",
      "2018-12-20 21:54:22,045 : INFO : worker thread finished; awaiting finish of 2 more threads\n",
      "2018-12-20 21:54:22,054 : INFO : worker thread finished; awaiting finish of 1 more threads\n",
      "2018-12-20 21:54:22,531 : INFO : worker thread finished; awaiting finish of 0 more threads\n",
      "2018-12-20 21:54:22,538 : INFO : EPOCH - 3 : training on 601 raw words (370 effective words) took 0.5s, 750 effective words/s\n",
      "2018-12-20 21:54:22,552 : INFO : worker thread finished; awaiting finish of 2 more threads\n",
      "2018-12-20 21:54:22,562 : INFO : worker thread finished; awaiting finish of 1 more threads\n",
      "2018-12-20 21:54:23,015 : INFO : worker thread finished; awaiting finish of 0 more threads\n",
      "2018-12-20 21:54:23,020 : INFO : EPOCH - 4 : training on 601 raw words (365 effective words) took 0.5s, 776 effective words/s\n",
      "2018-12-20 21:54:23,037 : INFO : worker thread finished; awaiting finish of 2 more threads\n",
      "2018-12-20 21:54:23,048 : INFO : worker thread finished; awaiting finish of 1 more threads\n",
      "2018-12-20 21:54:23,482 : INFO : worker thread finished; awaiting finish of 0 more threads\n",
      "2018-12-20 21:54:23,489 : INFO : EPOCH - 5 : training on 601 raw words (354 effective words) took 0.5s, 778 effective words/s\n",
      "2018-12-20 21:54:23,492 : INFO : training on a 3005 raw words (1806 effective words) took 2.5s, 722 effective words/s\n",
      "2018-12-20 21:54:23,495 : WARNING : under 10 jobs per worker: consider setting a smaller `batch_words' for smoother alpha decay\n",
      "2018-12-20 21:54:23,498 : INFO : training model with 3 workers on 263 vocabulary and 100 features, using sg=0 hs=0 sample=0.001 negative=5 window=5\n",
      "2018-12-20 21:54:23,511 : INFO : worker thread finished; awaiting finish of 2 more threads\n",
      "2018-12-20 21:54:23,517 : INFO : worker thread finished; awaiting finish of 1 more threads\n"
     ]
    },
    {
     "name": "stdout",
     "output_type": "stream",
     "text": [
      "iteration 26\n"
     ]
    },
    {
     "name": "stderr",
     "output_type": "stream",
     "text": [
      "2018-12-20 21:54:24,007 : INFO : worker thread finished; awaiting finish of 0 more threads\n",
      "2018-12-20 21:54:24,012 : INFO : EPOCH - 1 : training on 601 raw words (363 effective words) took 0.5s, 723 effective words/s\n",
      "2018-12-20 21:54:24,042 : INFO : worker thread finished; awaiting finish of 2 more threads\n",
      "2018-12-20 21:54:24,049 : INFO : worker thread finished; awaiting finish of 1 more threads\n",
      "2018-12-20 21:54:24,401 : INFO : worker thread finished; awaiting finish of 0 more threads\n",
      "2018-12-20 21:54:24,405 : INFO : EPOCH - 2 : training on 601 raw words (367 effective words) took 0.4s, 976 effective words/s\n",
      "2018-12-20 21:54:24,416 : INFO : worker thread finished; awaiting finish of 2 more threads\n",
      "2018-12-20 21:54:24,429 : INFO : worker thread finished; awaiting finish of 1 more threads\n",
      "2018-12-20 21:54:25,009 : INFO : worker thread finished; awaiting finish of 0 more threads\n",
      "2018-12-20 21:54:25,011 : INFO : EPOCH - 3 : training on 601 raw words (349 effective words) took 0.6s, 584 effective words/s\n",
      "2018-12-20 21:54:25,023 : INFO : worker thread finished; awaiting finish of 2 more threads\n",
      "2018-12-20 21:54:25,036 : INFO : worker thread finished; awaiting finish of 1 more threads\n",
      "2018-12-20 21:54:25,514 : INFO : worker thread finished; awaiting finish of 0 more threads\n",
      "2018-12-20 21:54:25,517 : INFO : EPOCH - 4 : training on 601 raw words (360 effective words) took 0.5s, 722 effective words/s\n",
      "2018-12-20 21:54:25,533 : INFO : worker thread finished; awaiting finish of 2 more threads\n",
      "2018-12-20 21:54:25,542 : INFO : worker thread finished; awaiting finish of 1 more threads\n",
      "2018-12-20 21:54:25,846 : INFO : worker thread finished; awaiting finish of 0 more threads\n",
      "2018-12-20 21:54:25,849 : INFO : EPOCH - 5 : training on 601 raw words (348 effective words) took 0.3s, 1094 effective words/s\n",
      "2018-12-20 21:54:25,851 : INFO : training on a 3005 raw words (1787 effective words) took 2.3s, 761 effective words/s\n",
      "2018-12-20 21:54:25,853 : WARNING : under 10 jobs per worker: consider setting a smaller `batch_words' for smoother alpha decay\n",
      "2018-12-20 21:54:25,856 : INFO : training model with 3 workers on 263 vocabulary and 100 features, using sg=0 hs=0 sample=0.001 negative=5 window=5\n",
      "2018-12-20 21:54:25,861 : INFO : worker thread finished; awaiting finish of 2 more threads\n",
      "2018-12-20 21:54:25,865 : INFO : worker thread finished; awaiting finish of 1 more threads\n"
     ]
    },
    {
     "name": "stdout",
     "output_type": "stream",
     "text": [
      "iteration 27\n"
     ]
    },
    {
     "name": "stderr",
     "output_type": "stream",
     "text": [
      "2018-12-20 21:54:26,261 : INFO : worker thread finished; awaiting finish of 0 more threads\n",
      "2018-12-20 21:54:26,266 : INFO : EPOCH - 1 : training on 601 raw words (359 effective words) took 0.4s, 886 effective words/s\n",
      "2018-12-20 21:54:26,281 : INFO : worker thread finished; awaiting finish of 2 more threads\n",
      "2018-12-20 21:54:26,293 : INFO : worker thread finished; awaiting finish of 1 more threads\n",
      "2018-12-20 21:54:26,812 : INFO : worker thread finished; awaiting finish of 0 more threads\n",
      "2018-12-20 21:54:26,816 : INFO : EPOCH - 2 : training on 601 raw words (367 effective words) took 0.5s, 681 effective words/s\n",
      "2018-12-20 21:54:26,831 : INFO : worker thread finished; awaiting finish of 2 more threads\n",
      "2018-12-20 21:54:26,844 : INFO : worker thread finished; awaiting finish of 1 more threads\n",
      "2018-12-20 21:54:27,247 : INFO : worker thread finished; awaiting finish of 0 more threads\n",
      "2018-12-20 21:54:27,254 : INFO : EPOCH - 3 : training on 601 raw words (356 effective words) took 0.4s, 838 effective words/s\n",
      "2018-12-20 21:54:27,266 : INFO : worker thread finished; awaiting finish of 2 more threads\n",
      "2018-12-20 21:54:27,272 : INFO : worker thread finished; awaiting finish of 1 more threads\n",
      "2018-12-20 21:54:27,722 : INFO : worker thread finished; awaiting finish of 0 more threads\n",
      "2018-12-20 21:54:27,725 : INFO : EPOCH - 4 : training on 601 raw words (365 effective words) took 0.5s, 791 effective words/s\n",
      "2018-12-20 21:54:27,735 : INFO : worker thread finished; awaiting finish of 2 more threads\n",
      "2018-12-20 21:54:27,742 : INFO : worker thread finished; awaiting finish of 1 more threads\n",
      "2018-12-20 21:54:28,145 : INFO : worker thread finished; awaiting finish of 0 more threads\n",
      "2018-12-20 21:54:28,156 : INFO : EPOCH - 5 : training on 601 raw words (348 effective words) took 0.4s, 824 effective words/s\n",
      "2018-12-20 21:54:28,160 : INFO : training on a 3005 raw words (1795 effective words) took 2.3s, 780 effective words/s\n",
      "2018-12-20 21:54:28,163 : WARNING : under 10 jobs per worker: consider setting a smaller `batch_words' for smoother alpha decay\n",
      "2018-12-20 21:54:28,166 : INFO : training model with 3 workers on 263 vocabulary and 100 features, using sg=0 hs=0 sample=0.001 negative=5 window=5\n",
      "2018-12-20 21:54:28,175 : INFO : worker thread finished; awaiting finish of 2 more threads\n",
      "2018-12-20 21:54:28,178 : INFO : worker thread finished; awaiting finish of 1 more threads\n"
     ]
    },
    {
     "name": "stdout",
     "output_type": "stream",
     "text": [
      "iteration 28\n"
     ]
    },
    {
     "name": "stderr",
     "output_type": "stream",
     "text": [
      "2018-12-20 21:54:28,620 : INFO : worker thread finished; awaiting finish of 0 more threads\n",
      "2018-12-20 21:54:28,627 : INFO : EPOCH - 1 : training on 601 raw words (369 effective words) took 0.5s, 817 effective words/s\n",
      "2018-12-20 21:54:28,643 : INFO : worker thread finished; awaiting finish of 2 more threads\n",
      "2018-12-20 21:54:28,655 : INFO : worker thread finished; awaiting finish of 1 more threads\n",
      "2018-12-20 21:54:29,051 : INFO : worker thread finished; awaiting finish of 0 more threads\n",
      "2018-12-20 21:54:29,054 : INFO : EPOCH - 2 : training on 601 raw words (344 effective words) took 0.4s, 827 effective words/s\n",
      "2018-12-20 21:54:29,065 : INFO : worker thread finished; awaiting finish of 2 more threads\n",
      "2018-12-20 21:54:29,071 : INFO : worker thread finished; awaiting finish of 1 more threads\n",
      "2018-12-20 21:54:29,490 : INFO : worker thread finished; awaiting finish of 0 more threads\n",
      "2018-12-20 21:54:29,492 : INFO : EPOCH - 3 : training on 601 raw words (360 effective words) took 0.4s, 839 effective words/s\n",
      "2018-12-20 21:54:29,506 : INFO : worker thread finished; awaiting finish of 2 more threads\n",
      "2018-12-20 21:54:29,512 : INFO : worker thread finished; awaiting finish of 1 more threads\n",
      "2018-12-20 21:54:29,956 : INFO : worker thread finished; awaiting finish of 0 more threads\n",
      "2018-12-20 21:54:29,959 : INFO : EPOCH - 4 : training on 601 raw words (365 effective words) took 0.5s, 795 effective words/s\n",
      "2018-12-20 21:54:29,969 : INFO : worker thread finished; awaiting finish of 2 more threads\n",
      "2018-12-20 21:54:29,973 : INFO : worker thread finished; awaiting finish of 1 more threads\n",
      "2018-12-20 21:54:30,413 : INFO : worker thread finished; awaiting finish of 0 more threads\n",
      "2018-12-20 21:54:30,415 : INFO : EPOCH - 5 : training on 601 raw words (353 effective words) took 0.4s, 790 effective words/s\n",
      "2018-12-20 21:54:30,418 : INFO : training on a 3005 raw words (1791 effective words) took 2.2s, 796 effective words/s\n",
      "2018-12-20 21:54:30,425 : WARNING : under 10 jobs per worker: consider setting a smaller `batch_words' for smoother alpha decay\n",
      "2018-12-20 21:54:30,429 : INFO : training model with 3 workers on 263 vocabulary and 100 features, using sg=0 hs=0 sample=0.001 negative=5 window=5\n",
      "2018-12-20 21:54:30,444 : INFO : worker thread finished; awaiting finish of 2 more threads\n",
      "2018-12-20 21:54:30,450 : INFO : worker thread finished; awaiting finish of 1 more threads\n"
     ]
    },
    {
     "name": "stdout",
     "output_type": "stream",
     "text": [
      "iteration 29\n"
     ]
    },
    {
     "name": "stderr",
     "output_type": "stream",
     "text": [
      "2018-12-20 21:54:30,871 : INFO : worker thread finished; awaiting finish of 0 more threads\n",
      "2018-12-20 21:54:30,874 : INFO : EPOCH - 1 : training on 601 raw words (356 effective words) took 0.4s, 823 effective words/s\n",
      "2018-12-20 21:54:30,889 : INFO : worker thread finished; awaiting finish of 2 more threads\n",
      "2018-12-20 21:54:30,894 : INFO : worker thread finished; awaiting finish of 1 more threads\n",
      "2018-12-20 21:54:31,273 : INFO : worker thread finished; awaiting finish of 0 more threads\n",
      "2018-12-20 21:54:31,275 : INFO : EPOCH - 2 : training on 601 raw words (347 effective words) took 0.4s, 880 effective words/s\n",
      "2018-12-20 21:54:31,308 : INFO : worker thread finished; awaiting finish of 2 more threads\n",
      "2018-12-20 21:54:31,341 : INFO : worker thread finished; awaiting finish of 1 more threads\n",
      "2018-12-20 21:54:31,676 : INFO : worker thread finished; awaiting finish of 0 more threads\n",
      "2018-12-20 21:54:31,678 : INFO : EPOCH - 3 : training on 601 raw words (373 effective words) took 0.4s, 975 effective words/s\n",
      "2018-12-20 21:54:31,685 : INFO : worker thread finished; awaiting finish of 2 more threads\n",
      "2018-12-20 21:54:31,689 : INFO : worker thread finished; awaiting finish of 1 more threads\n",
      "2018-12-20 21:54:31,927 : INFO : worker thread finished; awaiting finish of 0 more threads\n",
      "2018-12-20 21:54:31,934 : INFO : EPOCH - 4 : training on 601 raw words (360 effective words) took 0.2s, 1440 effective words/s\n",
      "2018-12-20 21:54:31,943 : INFO : worker thread finished; awaiting finish of 2 more threads\n",
      "2018-12-20 21:54:31,951 : INFO : worker thread finished; awaiting finish of 1 more threads\n",
      "2018-12-20 21:54:32,168 : INFO : worker thread finished; awaiting finish of 0 more threads\n",
      "2018-12-20 21:54:32,169 : INFO : EPOCH - 5 : training on 601 raw words (355 effective words) took 0.2s, 1545 effective words/s\n",
      "2018-12-20 21:54:32,172 : INFO : training on a 3005 raw words (1791 effective words) took 1.7s, 1029 effective words/s\n",
      "2018-12-20 21:54:32,172 : WARNING : under 10 jobs per worker: consider setting a smaller `batch_words' for smoother alpha decay\n",
      "2018-12-20 21:54:32,176 : INFO : training model with 3 workers on 263 vocabulary and 100 features, using sg=0 hs=0 sample=0.001 negative=5 window=5\n",
      "2018-12-20 21:54:32,187 : INFO : worker thread finished; awaiting finish of 2 more threads\n",
      "2018-12-20 21:54:32,192 : INFO : worker thread finished; awaiting finish of 1 more threads\n"
     ]
    },
    {
     "name": "stdout",
     "output_type": "stream",
     "text": [
      "iteration 30\n"
     ]
    },
    {
     "name": "stderr",
     "output_type": "stream",
     "text": [
      "2018-12-20 21:54:32,416 : INFO : worker thread finished; awaiting finish of 0 more threads\n",
      "2018-12-20 21:54:32,419 : INFO : EPOCH - 1 : training on 601 raw words (348 effective words) took 0.2s, 1496 effective words/s\n",
      "2018-12-20 21:54:32,428 : INFO : worker thread finished; awaiting finish of 2 more threads\n",
      "2018-12-20 21:54:32,429 : INFO : worker thread finished; awaiting finish of 1 more threads\n",
      "2018-12-20 21:54:32,643 : INFO : worker thread finished; awaiting finish of 0 more threads\n",
      "2018-12-20 21:54:32,644 : INFO : EPOCH - 2 : training on 601 raw words (356 effective words) took 0.2s, 1641 effective words/s\n",
      "2018-12-20 21:54:32,649 : INFO : worker thread finished; awaiting finish of 2 more threads\n",
      "2018-12-20 21:54:32,652 : INFO : worker thread finished; awaiting finish of 1 more threads\n",
      "2018-12-20 21:54:32,869 : INFO : worker thread finished; awaiting finish of 0 more threads\n",
      "2018-12-20 21:54:32,870 : INFO : EPOCH - 3 : training on 601 raw words (363 effective words) took 0.2s, 1628 effective words/s\n",
      "2018-12-20 21:54:32,877 : INFO : worker thread finished; awaiting finish of 2 more threads\n",
      "2018-12-20 21:54:32,878 : INFO : worker thread finished; awaiting finish of 1 more threads\n",
      "2018-12-20 21:54:33,074 : INFO : worker thread finished; awaiting finish of 0 more threads\n",
      "2018-12-20 21:54:33,074 : INFO : EPOCH - 4 : training on 601 raw words (359 effective words) took 0.2s, 1755 effective words/s\n",
      "2018-12-20 21:54:33,091 : INFO : worker thread finished; awaiting finish of 2 more threads\n",
      "2018-12-20 21:54:33,095 : INFO : worker thread finished; awaiting finish of 1 more threads\n",
      "2018-12-20 21:54:33,290 : INFO : worker thread finished; awaiting finish of 0 more threads\n",
      "2018-12-20 21:54:33,293 : INFO : EPOCH - 5 : training on 601 raw words (351 effective words) took 0.2s, 1729 effective words/s\n",
      "2018-12-20 21:54:33,294 : INFO : training on a 3005 raw words (1777 effective words) took 1.1s, 1592 effective words/s\n",
      "2018-12-20 21:54:33,295 : WARNING : under 10 jobs per worker: consider setting a smaller `batch_words' for smoother alpha decay\n",
      "2018-12-20 21:54:33,296 : INFO : training model with 3 workers on 263 vocabulary and 100 features, using sg=0 hs=0 sample=0.001 negative=5 window=5\n",
      "2018-12-20 21:54:33,304 : INFO : worker thread finished; awaiting finish of 2 more threads\n",
      "2018-12-20 21:54:33,307 : INFO : worker thread finished; awaiting finish of 1 more threads\n"
     ]
    },
    {
     "name": "stdout",
     "output_type": "stream",
     "text": [
      "iteration 31\n"
     ]
    },
    {
     "name": "stderr",
     "output_type": "stream",
     "text": [
      "2018-12-20 21:54:33,539 : INFO : worker thread finished; awaiting finish of 0 more threads\n",
      "2018-12-20 21:54:33,541 : INFO : EPOCH - 1 : training on 601 raw words (360 effective words) took 0.2s, 1508 effective words/s\n",
      "2018-12-20 21:54:33,548 : INFO : worker thread finished; awaiting finish of 2 more threads\n",
      "2018-12-20 21:54:33,551 : INFO : worker thread finished; awaiting finish of 1 more threads\n",
      "2018-12-20 21:54:33,954 : INFO : worker thread finished; awaiting finish of 0 more threads\n",
      "2018-12-20 21:54:33,959 : INFO : EPOCH - 2 : training on 601 raw words (368 effective words) took 0.4s, 894 effective words/s\n",
      "2018-12-20 21:54:33,974 : INFO : worker thread finished; awaiting finish of 2 more threads\n",
      "2018-12-20 21:54:33,984 : INFO : worker thread finished; awaiting finish of 1 more threads\n",
      "2018-12-20 21:54:34,496 : INFO : worker thread finished; awaiting finish of 0 more threads\n",
      "2018-12-20 21:54:34,498 : INFO : EPOCH - 3 : training on 601 raw words (356 effective words) took 0.5s, 675 effective words/s\n",
      "2018-12-20 21:54:34,517 : INFO : worker thread finished; awaiting finish of 2 more threads\n",
      "2018-12-20 21:54:34,527 : INFO : worker thread finished; awaiting finish of 1 more threads\n",
      "2018-12-20 21:54:35,034 : INFO : worker thread finished; awaiting finish of 0 more threads\n",
      "2018-12-20 21:54:35,040 : INFO : EPOCH - 4 : training on 601 raw words (370 effective words) took 0.5s, 707 effective words/s\n",
      "2018-12-20 21:54:35,055 : INFO : worker thread finished; awaiting finish of 2 more threads\n",
      "2018-12-20 21:54:35,062 : INFO : worker thread finished; awaiting finish of 1 more threads\n",
      "2018-12-20 21:54:35,581 : INFO : worker thread finished; awaiting finish of 0 more threads\n",
      "2018-12-20 21:54:35,583 : INFO : EPOCH - 5 : training on 601 raw words (353 effective words) took 0.5s, 663 effective words/s\n",
      "2018-12-20 21:54:35,587 : INFO : training on a 3005 raw words (1807 effective words) took 2.3s, 790 effective words/s\n",
      "2018-12-20 21:54:35,590 : WARNING : under 10 jobs per worker: consider setting a smaller `batch_words' for smoother alpha decay\n",
      "2018-12-20 21:54:35,596 : INFO : training model with 3 workers on 263 vocabulary and 100 features, using sg=0 hs=0 sample=0.001 negative=5 window=5\n",
      "2018-12-20 21:54:35,614 : INFO : worker thread finished; awaiting finish of 2 more threads\n",
      "2018-12-20 21:54:35,619 : INFO : worker thread finished; awaiting finish of 1 more threads\n"
     ]
    },
    {
     "name": "stdout",
     "output_type": "stream",
     "text": [
      "iteration 32\n"
     ]
    },
    {
     "name": "stderr",
     "output_type": "stream",
     "text": [
      "2018-12-20 21:54:36,090 : INFO : worker thread finished; awaiting finish of 0 more threads\n",
      "2018-12-20 21:54:36,097 : INFO : EPOCH - 1 : training on 601 raw words (377 effective words) took 0.5s, 779 effective words/s\n",
      "2018-12-20 21:54:36,114 : INFO : worker thread finished; awaiting finish of 2 more threads\n",
      "2018-12-20 21:54:36,117 : INFO : worker thread finished; awaiting finish of 1 more threads\n",
      "2018-12-20 21:54:36,670 : INFO : worker thread finished; awaiting finish of 0 more threads\n",
      "2018-12-20 21:54:36,675 : INFO : EPOCH - 2 : training on 601 raw words (366 effective words) took 0.6s, 651 effective words/s\n",
      "2018-12-20 21:54:36,688 : INFO : worker thread finished; awaiting finish of 2 more threads\n",
      "2018-12-20 21:54:36,697 : INFO : worker thread finished; awaiting finish of 1 more threads\n",
      "2018-12-20 21:54:37,074 : INFO : worker thread finished; awaiting finish of 0 more threads\n",
      "2018-12-20 21:54:37,076 : INFO : EPOCH - 3 : training on 601 raw words (366 effective words) took 0.4s, 932 effective words/s\n",
      "2018-12-20 21:54:37,082 : INFO : worker thread finished; awaiting finish of 2 more threads\n",
      "2018-12-20 21:54:37,084 : INFO : worker thread finished; awaiting finish of 1 more threads\n",
      "2018-12-20 21:54:37,535 : INFO : worker thread finished; awaiting finish of 0 more threads\n",
      "2018-12-20 21:54:37,538 : INFO : EPOCH - 4 : training on 601 raw words (348 effective words) took 0.5s, 760 effective words/s\n",
      "2018-12-20 21:54:37,552 : INFO : worker thread finished; awaiting finish of 2 more threads\n",
      "2018-12-20 21:54:37,557 : INFO : worker thread finished; awaiting finish of 1 more threads\n",
      "2018-12-20 21:54:37,839 : INFO : worker thread finished; awaiting finish of 0 more threads\n",
      "2018-12-20 21:54:37,843 : INFO : EPOCH - 5 : training on 601 raw words (358 effective words) took 0.3s, 1220 effective words/s\n",
      "2018-12-20 21:54:37,845 : INFO : training on a 3005 raw words (1815 effective words) took 2.2s, 808 effective words/s\n",
      "2018-12-20 21:54:37,846 : WARNING : under 10 jobs per worker: consider setting a smaller `batch_words' for smoother alpha decay\n",
      "2018-12-20 21:54:37,847 : INFO : training model with 3 workers on 263 vocabulary and 100 features, using sg=0 hs=0 sample=0.001 negative=5 window=5\n",
      "2018-12-20 21:54:37,854 : INFO : worker thread finished; awaiting finish of 2 more threads\n",
      "2018-12-20 21:54:37,858 : INFO : worker thread finished; awaiting finish of 1 more threads\n"
     ]
    },
    {
     "name": "stdout",
     "output_type": "stream",
     "text": [
      "iteration 33\n"
     ]
    },
    {
     "name": "stderr",
     "output_type": "stream",
     "text": [
      "2018-12-20 21:54:38,192 : INFO : worker thread finished; awaiting finish of 0 more threads\n",
      "2018-12-20 21:54:38,195 : INFO : EPOCH - 1 : training on 601 raw words (353 effective words) took 0.3s, 1035 effective words/s\n",
      "2018-12-20 21:54:38,212 : INFO : worker thread finished; awaiting finish of 2 more threads\n",
      "2018-12-20 21:54:38,217 : INFO : worker thread finished; awaiting finish of 1 more threads\n",
      "2018-12-20 21:54:38,659 : INFO : worker thread finished; awaiting finish of 0 more threads\n",
      "2018-12-20 21:54:38,662 : INFO : EPOCH - 2 : training on 601 raw words (350 effective words) took 0.5s, 775 effective words/s\n",
      "2018-12-20 21:54:38,676 : INFO : worker thread finished; awaiting finish of 2 more threads\n",
      "2018-12-20 21:54:38,683 : INFO : worker thread finished; awaiting finish of 1 more threads\n",
      "2018-12-20 21:54:39,187 : INFO : worker thread finished; awaiting finish of 0 more threads\n",
      "2018-12-20 21:54:39,188 : INFO : EPOCH - 3 : training on 601 raw words (375 effective words) took 0.5s, 732 effective words/s\n",
      "2018-12-20 21:54:39,192 : INFO : worker thread finished; awaiting finish of 2 more threads\n",
      "2018-12-20 21:54:39,195 : INFO : worker thread finished; awaiting finish of 1 more threads\n",
      "2018-12-20 21:54:39,541 : INFO : worker thread finished; awaiting finish of 0 more threads\n",
      "2018-12-20 21:54:39,543 : INFO : EPOCH - 4 : training on 601 raw words (350 effective words) took 0.4s, 995 effective words/s\n",
      "2018-12-20 21:54:39,552 : INFO : worker thread finished; awaiting finish of 2 more threads\n",
      "2018-12-20 21:54:39,558 : INFO : worker thread finished; awaiting finish of 1 more threads\n",
      "2018-12-20 21:54:40,008 : INFO : worker thread finished; awaiting finish of 0 more threads\n",
      "2018-12-20 21:54:40,012 : INFO : EPOCH - 5 : training on 601 raw words (346 effective words) took 0.5s, 751 effective words/s\n",
      "2018-12-20 21:54:40,014 : INFO : training on a 3005 raw words (1774 effective words) took 2.2s, 819 effective words/s\n",
      "2018-12-20 21:54:40,016 : WARNING : under 10 jobs per worker: consider setting a smaller `batch_words' for smoother alpha decay\n",
      "2018-12-20 21:54:40,016 : INFO : training model with 3 workers on 263 vocabulary and 100 features, using sg=0 hs=0 sample=0.001 negative=5 window=5\n",
      "2018-12-20 21:54:40,033 : INFO : worker thread finished; awaiting finish of 2 more threads\n",
      "2018-12-20 21:54:40,042 : INFO : worker thread finished; awaiting finish of 1 more threads\n"
     ]
    },
    {
     "name": "stdout",
     "output_type": "stream",
     "text": [
      "iteration 34\n"
     ]
    },
    {
     "name": "stderr",
     "output_type": "stream",
     "text": [
      "2018-12-20 21:54:40,569 : INFO : worker thread finished; awaiting finish of 0 more threads\n",
      "2018-12-20 21:54:40,576 : INFO : EPOCH - 1 : training on 601 raw words (353 effective words) took 0.5s, 650 effective words/s\n",
      "2018-12-20 21:54:40,603 : INFO : worker thread finished; awaiting finish of 2 more threads\n",
      "2018-12-20 21:54:40,610 : INFO : worker thread finished; awaiting finish of 1 more threads\n",
      "2018-12-20 21:54:41,073 : INFO : worker thread finished; awaiting finish of 0 more threads\n",
      "2018-12-20 21:54:41,076 : INFO : EPOCH - 2 : training on 601 raw words (354 effective words) took 0.5s, 739 effective words/s\n",
      "2018-12-20 21:54:41,090 : INFO : worker thread finished; awaiting finish of 2 more threads\n",
      "2018-12-20 21:54:41,103 : INFO : worker thread finished; awaiting finish of 1 more threads\n",
      "2018-12-20 21:54:41,596 : INFO : worker thread finished; awaiting finish of 0 more threads\n",
      "2018-12-20 21:54:41,596 : INFO : EPOCH - 3 : training on 601 raw words (370 effective words) took 0.5s, 724 effective words/s\n",
      "2018-12-20 21:54:41,620 : INFO : worker thread finished; awaiting finish of 2 more threads\n",
      "2018-12-20 21:54:41,632 : INFO : worker thread finished; awaiting finish of 1 more threads\n",
      "2018-12-20 21:54:42,140 : INFO : worker thread finished; awaiting finish of 0 more threads\n",
      "2018-12-20 21:54:42,144 : INFO : EPOCH - 4 : training on 601 raw words (348 effective words) took 0.5s, 659 effective words/s\n",
      "2018-12-20 21:54:42,156 : INFO : worker thread finished; awaiting finish of 2 more threads\n",
      "2018-12-20 21:54:42,162 : INFO : worker thread finished; awaiting finish of 1 more threads\n",
      "2018-12-20 21:54:42,692 : INFO : worker thread finished; awaiting finish of 0 more threads\n",
      "2018-12-20 21:54:42,695 : INFO : EPOCH - 5 : training on 601 raw words (364 effective words) took 0.5s, 672 effective words/s\n",
      "2018-12-20 21:54:42,695 : INFO : training on a 3005 raw words (1789 effective words) took 2.7s, 669 effective words/s\n",
      "2018-12-20 21:54:42,695 : WARNING : under 10 jobs per worker: consider setting a smaller `batch_words' for smoother alpha decay\n",
      "2018-12-20 21:54:42,708 : INFO : training model with 3 workers on 263 vocabulary and 100 features, using sg=0 hs=0 sample=0.001 negative=5 window=5\n",
      "2018-12-20 21:54:42,722 : INFO : worker thread finished; awaiting finish of 2 more threads\n",
      "2018-12-20 21:54:42,730 : INFO : worker thread finished; awaiting finish of 1 more threads\n"
     ]
    },
    {
     "name": "stdout",
     "output_type": "stream",
     "text": [
      "iteration 35\n"
     ]
    },
    {
     "name": "stderr",
     "output_type": "stream",
     "text": [
      "2018-12-20 21:54:43,209 : INFO : worker thread finished; awaiting finish of 0 more threads\n",
      "2018-12-20 21:54:43,217 : INFO : EPOCH - 1 : training on 601 raw words (363 effective words) took 0.5s, 732 effective words/s\n",
      "2018-12-20 21:54:43,262 : INFO : worker thread finished; awaiting finish of 2 more threads\n",
      "2018-12-20 21:54:43,278 : INFO : worker thread finished; awaiting finish of 1 more threads\n",
      "2018-12-20 21:54:43,622 : INFO : worker thread finished; awaiting finish of 0 more threads\n",
      "2018-12-20 21:54:43,625 : INFO : EPOCH - 2 : training on 601 raw words (357 effective words) took 0.4s, 968 effective words/s\n",
      "2018-12-20 21:54:43,637 : INFO : worker thread finished; awaiting finish of 2 more threads\n",
      "2018-12-20 21:54:43,641 : INFO : worker thread finished; awaiting finish of 1 more threads\n",
      "2018-12-20 21:54:43,877 : INFO : worker thread finished; awaiting finish of 0 more threads\n",
      "2018-12-20 21:54:43,879 : INFO : EPOCH - 3 : training on 601 raw words (356 effective words) took 0.2s, 1441 effective words/s\n",
      "2018-12-20 21:54:43,889 : INFO : worker thread finished; awaiting finish of 2 more threads\n",
      "2018-12-20 21:54:43,895 : INFO : worker thread finished; awaiting finish of 1 more threads\n",
      "2018-12-20 21:54:44,232 : INFO : worker thread finished; awaiting finish of 0 more threads\n",
      "2018-12-20 21:54:44,237 : INFO : EPOCH - 4 : training on 601 raw words (365 effective words) took 0.4s, 1043 effective words/s\n",
      "2018-12-20 21:54:44,249 : INFO : worker thread finished; awaiting finish of 2 more threads\n",
      "2018-12-20 21:54:44,251 : INFO : worker thread finished; awaiting finish of 1 more threads\n",
      "2018-12-20 21:54:44,696 : INFO : worker thread finished; awaiting finish of 0 more threads\n",
      "2018-12-20 21:54:44,699 : INFO : EPOCH - 5 : training on 601 raw words (372 effective words) took 0.5s, 823 effective words/s\n",
      "2018-12-20 21:54:44,699 : INFO : training on a 3005 raw words (1813 effective words) took 2.0s, 911 effective words/s\n",
      "2018-12-20 21:54:44,706 : WARNING : under 10 jobs per worker: consider setting a smaller `batch_words' for smoother alpha decay\n",
      "2018-12-20 21:54:44,708 : INFO : training model with 3 workers on 263 vocabulary and 100 features, using sg=0 hs=0 sample=0.001 negative=5 window=5\n",
      "2018-12-20 21:54:44,719 : INFO : worker thread finished; awaiting finish of 2 more threads\n",
      "2018-12-20 21:54:44,727 : INFO : worker thread finished; awaiting finish of 1 more threads\n"
     ]
    },
    {
     "name": "stdout",
     "output_type": "stream",
     "text": [
      "iteration 36\n"
     ]
    },
    {
     "name": "stderr",
     "output_type": "stream",
     "text": [
      "2018-12-20 21:54:45,114 : INFO : worker thread finished; awaiting finish of 0 more threads\n",
      "2018-12-20 21:54:45,116 : INFO : EPOCH - 1 : training on 601 raw words (351 effective words) took 0.4s, 878 effective words/s\n",
      "2018-12-20 21:54:45,124 : INFO : worker thread finished; awaiting finish of 2 more threads\n",
      "2018-12-20 21:54:45,129 : INFO : worker thread finished; awaiting finish of 1 more threads\n",
      "2018-12-20 21:54:45,482 : INFO : worker thread finished; awaiting finish of 0 more threads\n",
      "2018-12-20 21:54:45,485 : INFO : EPOCH - 2 : training on 601 raw words (355 effective words) took 0.4s, 981 effective words/s\n",
      "2018-12-20 21:54:45,499 : INFO : worker thread finished; awaiting finish of 2 more threads\n",
      "2018-12-20 21:54:45,508 : INFO : worker thread finished; awaiting finish of 1 more threads\n",
      "2018-12-20 21:54:45,961 : INFO : worker thread finished; awaiting finish of 0 more threads\n",
      "2018-12-20 21:54:45,966 : INFO : EPOCH - 3 : training on 601 raw words (363 effective words) took 0.5s, 775 effective words/s\n",
      "2018-12-20 21:54:45,979 : INFO : worker thread finished; awaiting finish of 2 more threads\n",
      "2018-12-20 21:54:45,989 : INFO : worker thread finished; awaiting finish of 1 more threads\n",
      "2018-12-20 21:54:46,408 : INFO : worker thread finished; awaiting finish of 0 more threads\n",
      "2018-12-20 21:54:46,413 : INFO : EPOCH - 4 : training on 601 raw words (380 effective words) took 0.4s, 874 effective words/s\n",
      "2018-12-20 21:54:46,426 : INFO : worker thread finished; awaiting finish of 2 more threads\n",
      "2018-12-20 21:54:46,437 : INFO : worker thread finished; awaiting finish of 1 more threads\n",
      "2018-12-20 21:54:46,867 : INFO : worker thread finished; awaiting finish of 0 more threads\n",
      "2018-12-20 21:54:46,872 : INFO : EPOCH - 5 : training on 601 raw words (360 effective words) took 0.4s, 807 effective words/s\n",
      "2018-12-20 21:54:46,875 : INFO : training on a 3005 raw words (1809 effective words) took 2.2s, 836 effective words/s\n",
      "2018-12-20 21:54:46,877 : WARNING : under 10 jobs per worker: consider setting a smaller `batch_words' for smoother alpha decay\n",
      "2018-12-20 21:54:46,880 : INFO : training model with 3 workers on 263 vocabulary and 100 features, using sg=0 hs=0 sample=0.001 negative=5 window=5\n",
      "2018-12-20 21:54:46,907 : INFO : worker thread finished; awaiting finish of 2 more threads\n",
      "2018-12-20 21:54:46,917 : INFO : worker thread finished; awaiting finish of 1 more threads\n"
     ]
    },
    {
     "name": "stdout",
     "output_type": "stream",
     "text": [
      "iteration 37\n"
     ]
    },
    {
     "name": "stderr",
     "output_type": "stream",
     "text": [
      "2018-12-20 21:54:47,363 : INFO : worker thread finished; awaiting finish of 0 more threads\n",
      "2018-12-20 21:54:47,364 : INFO : EPOCH - 1 : training on 601 raw words (347 effective words) took 0.5s, 738 effective words/s\n",
      "2018-12-20 21:54:47,377 : INFO : worker thread finished; awaiting finish of 2 more threads\n",
      "2018-12-20 21:54:47,382 : INFO : worker thread finished; awaiting finish of 1 more threads\n",
      "2018-12-20 21:54:47,822 : INFO : worker thread finished; awaiting finish of 0 more threads\n",
      "2018-12-20 21:54:47,825 : INFO : EPOCH - 2 : training on 601 raw words (349 effective words) took 0.4s, 777 effective words/s\n",
      "2018-12-20 21:54:47,839 : INFO : worker thread finished; awaiting finish of 2 more threads\n",
      "2018-12-20 21:54:47,844 : INFO : worker thread finished; awaiting finish of 1 more threads\n",
      "2018-12-20 21:54:48,327 : INFO : worker thread finished; awaiting finish of 0 more threads\n",
      "2018-12-20 21:54:48,329 : INFO : EPOCH - 3 : training on 601 raw words (354 effective words) took 0.5s, 717 effective words/s\n",
      "2018-12-20 21:54:48,342 : INFO : worker thread finished; awaiting finish of 2 more threads\n",
      "2018-12-20 21:54:48,348 : INFO : worker thread finished; awaiting finish of 1 more threads\n",
      "2018-12-20 21:54:48,849 : INFO : worker thread finished; awaiting finish of 0 more threads\n",
      "2018-12-20 21:54:48,851 : INFO : EPOCH - 4 : training on 601 raw words (367 effective words) took 0.5s, 719 effective words/s\n",
      "2018-12-20 21:54:48,864 : INFO : worker thread finished; awaiting finish of 2 more threads\n",
      "2018-12-20 21:54:48,869 : INFO : worker thread finished; awaiting finish of 1 more threads\n",
      "2018-12-20 21:54:49,408 : INFO : worker thread finished; awaiting finish of 0 more threads\n",
      "2018-12-20 21:54:49,411 : INFO : EPOCH - 5 : training on 601 raw words (348 effective words) took 0.5s, 636 effective words/s\n",
      "2018-12-20 21:54:49,412 : INFO : training on a 3005 raw words (1765 effective words) took 2.5s, 699 effective words/s\n",
      "2018-12-20 21:54:49,414 : WARNING : under 10 jobs per worker: consider setting a smaller `batch_words' for smoother alpha decay\n",
      "2018-12-20 21:54:49,415 : INFO : training model with 3 workers on 263 vocabulary and 100 features, using sg=0 hs=0 sample=0.001 negative=5 window=5\n",
      "2018-12-20 21:54:49,424 : INFO : worker thread finished; awaiting finish of 2 more threads\n",
      "2018-12-20 21:54:49,429 : INFO : worker thread finished; awaiting finish of 1 more threads\n"
     ]
    },
    {
     "name": "stdout",
     "output_type": "stream",
     "text": [
      "iteration 38\n"
     ]
    },
    {
     "name": "stderr",
     "output_type": "stream",
     "text": [
      "2018-12-20 21:54:49,774 : INFO : worker thread finished; awaiting finish of 0 more threads\n",
      "2018-12-20 21:54:49,775 : INFO : EPOCH - 1 : training on 601 raw words (368 effective words) took 0.4s, 1036 effective words/s\n",
      "2018-12-20 21:54:49,780 : INFO : worker thread finished; awaiting finish of 2 more threads\n",
      "2018-12-20 21:54:49,782 : INFO : worker thread finished; awaiting finish of 1 more threads\n",
      "2018-12-20 21:54:50,153 : INFO : worker thread finished; awaiting finish of 0 more threads\n",
      "2018-12-20 21:54:50,157 : INFO : EPOCH - 2 : training on 601 raw words (349 effective words) took 0.4s, 925 effective words/s\n",
      "2018-12-20 21:54:50,173 : INFO : worker thread finished; awaiting finish of 2 more threads\n",
      "2018-12-20 21:54:50,190 : INFO : worker thread finished; awaiting finish of 1 more threads\n",
      "2018-12-20 21:54:50,742 : INFO : worker thread finished; awaiting finish of 0 more threads\n",
      "2018-12-20 21:54:50,747 : INFO : EPOCH - 3 : training on 601 raw words (376 effective words) took 0.6s, 652 effective words/s\n",
      "2018-12-20 21:54:50,762 : INFO : worker thread finished; awaiting finish of 2 more threads\n",
      "2018-12-20 21:54:50,775 : INFO : worker thread finished; awaiting finish of 1 more threads\n",
      "2018-12-20 21:54:51,209 : INFO : worker thread finished; awaiting finish of 0 more threads\n",
      "2018-12-20 21:54:51,214 : INFO : EPOCH - 4 : training on 601 raw words (350 effective words) took 0.5s, 772 effective words/s\n",
      "2018-12-20 21:54:51,225 : INFO : worker thread finished; awaiting finish of 2 more threads\n",
      "2018-12-20 21:54:51,236 : INFO : worker thread finished; awaiting finish of 1 more threads\n",
      "2018-12-20 21:54:51,705 : INFO : worker thread finished; awaiting finish of 0 more threads\n",
      "2018-12-20 21:54:51,709 : INFO : EPOCH - 5 : training on 601 raw words (353 effective words) took 0.5s, 726 effective words/s\n",
      "2018-12-20 21:54:51,713 : INFO : training on a 3005 raw words (1796 effective words) took 2.3s, 782 effective words/s\n",
      "2018-12-20 21:54:51,716 : WARNING : under 10 jobs per worker: consider setting a smaller `batch_words' for smoother alpha decay\n",
      "2018-12-20 21:54:51,719 : INFO : training model with 3 workers on 263 vocabulary and 100 features, using sg=0 hs=0 sample=0.001 negative=5 window=5\n",
      "2018-12-20 21:54:51,732 : INFO : worker thread finished; awaiting finish of 2 more threads\n",
      "2018-12-20 21:54:51,737 : INFO : worker thread finished; awaiting finish of 1 more threads\n"
     ]
    },
    {
     "name": "stdout",
     "output_type": "stream",
     "text": [
      "iteration 39\n"
     ]
    },
    {
     "name": "stderr",
     "output_type": "stream",
     "text": [
      "2018-12-20 21:54:52,214 : INFO : worker thread finished; awaiting finish of 0 more threads\n",
      "2018-12-20 21:54:52,216 : INFO : EPOCH - 1 : training on 601 raw words (360 effective words) took 0.5s, 741 effective words/s\n",
      "2018-12-20 21:54:52,242 : INFO : worker thread finished; awaiting finish of 2 more threads\n",
      "2018-12-20 21:54:52,245 : INFO : worker thread finished; awaiting finish of 1 more threads\n",
      "2018-12-20 21:54:52,729 : INFO : worker thread finished; awaiting finish of 0 more threads\n",
      "2018-12-20 21:54:52,732 : INFO : EPOCH - 2 : training on 601 raw words (357 effective words) took 0.5s, 714 effective words/s\n",
      "2018-12-20 21:54:52,746 : INFO : worker thread finished; awaiting finish of 2 more threads\n",
      "2018-12-20 21:54:52,755 : INFO : worker thread finished; awaiting finish of 1 more threads\n",
      "2018-12-20 21:54:53,098 : INFO : worker thread finished; awaiting finish of 0 more threads\n",
      "2018-12-20 21:54:53,099 : INFO : EPOCH - 3 : training on 601 raw words (348 effective words) took 0.4s, 977 effective words/s\n",
      "2018-12-20 21:54:53,106 : INFO : worker thread finished; awaiting finish of 2 more threads\n",
      "2018-12-20 21:54:53,108 : INFO : worker thread finished; awaiting finish of 1 more threads\n",
      "2018-12-20 21:54:53,507 : INFO : worker thread finished; awaiting finish of 0 more threads\n",
      "2018-12-20 21:54:53,509 : INFO : EPOCH - 4 : training on 601 raw words (359 effective words) took 0.4s, 886 effective words/s\n",
      "2018-12-20 21:54:53,524 : INFO : worker thread finished; awaiting finish of 2 more threads\n",
      "2018-12-20 21:54:53,534 : INFO : worker thread finished; awaiting finish of 1 more threads\n",
      "2018-12-20 21:54:53,993 : INFO : worker thread finished; awaiting finish of 0 more threads\n",
      "2018-12-20 21:54:53,997 : INFO : EPOCH - 5 : training on 601 raw words (357 effective words) took 0.5s, 752 effective words/s\n",
      "2018-12-20 21:54:53,997 : INFO : training on a 3005 raw words (1781 effective words) took 2.3s, 782 effective words/s\n",
      "2018-12-20 21:54:54,008 : WARNING : under 10 jobs per worker: consider setting a smaller `batch_words' for smoother alpha decay\n",
      "2018-12-20 21:54:54,012 : INFO : training model with 3 workers on 263 vocabulary and 100 features, using sg=0 hs=0 sample=0.001 negative=5 window=5\n",
      "2018-12-20 21:54:54,030 : INFO : worker thread finished; awaiting finish of 2 more threads\n",
      "2018-12-20 21:54:54,035 : INFO : worker thread finished; awaiting finish of 1 more threads\n"
     ]
    },
    {
     "name": "stdout",
     "output_type": "stream",
     "text": [
      "iteration 40\n"
     ]
    },
    {
     "name": "stderr",
     "output_type": "stream",
     "text": [
      "2018-12-20 21:54:54,529 : INFO : worker thread finished; awaiting finish of 0 more threads\n",
      "2018-12-20 21:54:54,533 : INFO : EPOCH - 1 : training on 601 raw words (358 effective words) took 0.5s, 705 effective words/s\n",
      "2018-12-20 21:54:54,550 : INFO : worker thread finished; awaiting finish of 2 more threads\n",
      "2018-12-20 21:54:54,557 : INFO : worker thread finished; awaiting finish of 1 more threads\n",
      "2018-12-20 21:54:55,027 : INFO : worker thread finished; awaiting finish of 0 more threads\n",
      "2018-12-20 21:54:55,033 : INFO : EPOCH - 2 : training on 601 raw words (355 effective words) took 0.5s, 729 effective words/s\n",
      "2018-12-20 21:54:55,047 : INFO : worker thread finished; awaiting finish of 2 more threads\n",
      "2018-12-20 21:54:55,059 : INFO : worker thread finished; awaiting finish of 1 more threads\n",
      "2018-12-20 21:54:55,552 : INFO : worker thread finished; awaiting finish of 0 more threads\n",
      "2018-12-20 21:54:55,556 : INFO : EPOCH - 3 : training on 601 raw words (358 effective words) took 0.5s, 701 effective words/s\n",
      "2018-12-20 21:54:55,573 : INFO : worker thread finished; awaiting finish of 2 more threads\n",
      "2018-12-20 21:54:55,579 : INFO : worker thread finished; awaiting finish of 1 more threads\n",
      "2018-12-20 21:54:55,887 : INFO : worker thread finished; awaiting finish of 0 more threads\n",
      "2018-12-20 21:54:55,893 : INFO : EPOCH - 4 : training on 601 raw words (368 effective words) took 0.3s, 1139 effective words/s\n",
      "2018-12-20 21:54:55,898 : INFO : worker thread finished; awaiting finish of 2 more threads\n",
      "2018-12-20 21:54:55,902 : INFO : worker thread finished; awaiting finish of 1 more threads\n",
      "2018-12-20 21:54:56,111 : INFO : worker thread finished; awaiting finish of 0 more threads\n",
      "2018-12-20 21:54:56,114 : INFO : EPOCH - 5 : training on 601 raw words (353 effective words) took 0.2s, 1623 effective words/s\n",
      "2018-12-20 21:54:56,116 : INFO : training on a 3005 raw words (1792 effective words) took 2.1s, 853 effective words/s\n",
      "2018-12-20 21:54:56,120 : WARNING : under 10 jobs per worker: consider setting a smaller `batch_words' for smoother alpha decay\n",
      "2018-12-20 21:54:56,124 : INFO : training model with 3 workers on 263 vocabulary and 100 features, using sg=0 hs=0 sample=0.001 negative=5 window=5\n",
      "2018-12-20 21:54:56,140 : INFO : worker thread finished; awaiting finish of 2 more threads\n",
      "2018-12-20 21:54:56,146 : INFO : worker thread finished; awaiting finish of 1 more threads\n"
     ]
    },
    {
     "name": "stdout",
     "output_type": "stream",
     "text": [
      "iteration 41\n"
     ]
    },
    {
     "name": "stderr",
     "output_type": "stream",
     "text": [
      "2018-12-20 21:54:56,660 : INFO : worker thread finished; awaiting finish of 0 more threads\n",
      "2018-12-20 21:54:56,667 : INFO : EPOCH - 1 : training on 601 raw words (357 effective words) took 0.5s, 677 effective words/s\n",
      "2018-12-20 21:54:56,680 : INFO : worker thread finished; awaiting finish of 2 more threads\n",
      "2018-12-20 21:54:56,688 : INFO : worker thread finished; awaiting finish of 1 more threads\n",
      "2018-12-20 21:54:57,159 : INFO : worker thread finished; awaiting finish of 0 more threads\n",
      "2018-12-20 21:54:57,164 : INFO : EPOCH - 2 : training on 601 raw words (358 effective words) took 0.5s, 737 effective words/s\n",
      "2018-12-20 21:54:57,181 : INFO : worker thread finished; awaiting finish of 2 more threads\n",
      "2018-12-20 21:54:57,188 : INFO : worker thread finished; awaiting finish of 1 more threads\n",
      "2018-12-20 21:54:57,659 : INFO : worker thread finished; awaiting finish of 0 more threads\n",
      "2018-12-20 21:54:57,661 : INFO : EPOCH - 3 : training on 601 raw words (366 effective words) took 0.5s, 758 effective words/s\n",
      "2018-12-20 21:54:57,672 : INFO : worker thread finished; awaiting finish of 2 more threads\n",
      "2018-12-20 21:54:57,678 : INFO : worker thread finished; awaiting finish of 1 more threads\n",
      "2018-12-20 21:54:58,117 : INFO : worker thread finished; awaiting finish of 0 more threads\n",
      "2018-12-20 21:54:58,124 : INFO : EPOCH - 4 : training on 601 raw words (353 effective words) took 0.5s, 776 effective words/s\n",
      "2018-12-20 21:54:58,139 : INFO : worker thread finished; awaiting finish of 2 more threads\n",
      "2018-12-20 21:54:58,148 : INFO : worker thread finished; awaiting finish of 1 more threads\n",
      "2018-12-20 21:54:58,625 : INFO : worker thread finished; awaiting finish of 0 more threads\n",
      "2018-12-20 21:54:58,628 : INFO : EPOCH - 5 : training on 601 raw words (365 effective words) took 0.5s, 740 effective words/s\n",
      "2018-12-20 21:54:58,628 : INFO : training on a 3005 raw words (1799 effective words) took 2.5s, 719 effective words/s\n",
      "2018-12-20 21:54:58,634 : WARNING : under 10 jobs per worker: consider setting a smaller `batch_words' for smoother alpha decay\n",
      "2018-12-20 21:54:58,637 : INFO : training model with 3 workers on 263 vocabulary and 100 features, using sg=0 hs=0 sample=0.001 negative=5 window=5\n",
      "2018-12-20 21:54:58,650 : INFO : worker thread finished; awaiting finish of 2 more threads\n",
      "2018-12-20 21:54:58,657 : INFO : worker thread finished; awaiting finish of 1 more threads\n"
     ]
    },
    {
     "name": "stdout",
     "output_type": "stream",
     "text": [
      "iteration 42\n"
     ]
    },
    {
     "name": "stderr",
     "output_type": "stream",
     "text": [
      "2018-12-20 21:54:59,109 : INFO : worker thread finished; awaiting finish of 0 more threads\n",
      "2018-12-20 21:54:59,112 : INFO : EPOCH - 1 : training on 601 raw words (344 effective words) took 0.5s, 744 effective words/s\n",
      "2018-12-20 21:54:59,129 : INFO : worker thread finished; awaiting finish of 2 more threads\n",
      "2018-12-20 21:54:59,135 : INFO : worker thread finished; awaiting finish of 1 more threads\n",
      "2018-12-20 21:54:59,657 : INFO : worker thread finished; awaiting finish of 0 more threads\n",
      "2018-12-20 21:54:59,662 : INFO : EPOCH - 2 : training on 601 raw words (344 effective words) took 0.5s, 642 effective words/s\n",
      "2018-12-20 21:54:59,675 : INFO : worker thread finished; awaiting finish of 2 more threads\n",
      "2018-12-20 21:54:59,679 : INFO : worker thread finished; awaiting finish of 1 more threads\n",
      "2018-12-20 21:55:00,174 : INFO : worker thread finished; awaiting finish of 0 more threads\n",
      "2018-12-20 21:55:00,178 : INFO : EPOCH - 3 : training on 601 raw words (357 effective words) took 0.5s, 706 effective words/s\n",
      "2018-12-20 21:55:00,192 : INFO : worker thread finished; awaiting finish of 2 more threads\n",
      "2018-12-20 21:55:00,196 : INFO : worker thread finished; awaiting finish of 1 more threads\n",
      "2018-12-20 21:55:00,695 : INFO : worker thread finished; awaiting finish of 0 more threads\n",
      "2018-12-20 21:55:00,702 : INFO : EPOCH - 4 : training on 601 raw words (357 effective words) took 0.5s, 697 effective words/s\n",
      "2018-12-20 21:55:00,721 : INFO : worker thread finished; awaiting finish of 2 more threads\n",
      "2018-12-20 21:55:00,727 : INFO : worker thread finished; awaiting finish of 1 more threads\n",
      "2018-12-20 21:55:01,331 : INFO : worker thread finished; awaiting finish of 0 more threads\n",
      "2018-12-20 21:55:01,337 : INFO : EPOCH - 5 : training on 601 raw words (363 effective words) took 0.6s, 586 effective words/s\n",
      "2018-12-20 21:55:01,340 : INFO : training on a 3005 raw words (1765 effective words) took 2.7s, 654 effective words/s\n",
      "2018-12-20 21:55:01,342 : WARNING : under 10 jobs per worker: consider setting a smaller `batch_words' for smoother alpha decay\n",
      "2018-12-20 21:55:01,346 : INFO : training model with 3 workers on 263 vocabulary and 100 features, using sg=0 hs=0 sample=0.001 negative=5 window=5\n",
      "2018-12-20 21:55:01,361 : INFO : worker thread finished; awaiting finish of 2 more threads\n",
      "2018-12-20 21:55:01,367 : INFO : worker thread finished; awaiting finish of 1 more threads\n"
     ]
    },
    {
     "name": "stdout",
     "output_type": "stream",
     "text": [
      "iteration 43\n"
     ]
    },
    {
     "name": "stderr",
     "output_type": "stream",
     "text": [
      "2018-12-20 21:55:01,630 : INFO : worker thread finished; awaiting finish of 0 more threads\n",
      "2018-12-20 21:55:01,633 : INFO : EPOCH - 1 : training on 601 raw words (348 effective words) took 0.3s, 1273 effective words/s\n",
      "2018-12-20 21:55:01,642 : INFO : worker thread finished; awaiting finish of 2 more threads\n",
      "2018-12-20 21:55:01,654 : INFO : worker thread finished; awaiting finish of 1 more threads\n",
      "2018-12-20 21:55:01,949 : INFO : worker thread finished; awaiting finish of 0 more threads\n",
      "2018-12-20 21:55:01,953 : INFO : EPOCH - 2 : training on 601 raw words (359 effective words) took 0.3s, 1145 effective words/s\n",
      "2018-12-20 21:55:01,962 : INFO : worker thread finished; awaiting finish of 2 more threads\n",
      "2018-12-20 21:55:01,965 : INFO : worker thread finished; awaiting finish of 1 more threads\n",
      "2018-12-20 21:55:02,358 : INFO : worker thread finished; awaiting finish of 0 more threads\n",
      "2018-12-20 21:55:02,363 : INFO : EPOCH - 3 : training on 601 raw words (345 effective words) took 0.4s, 859 effective words/s\n",
      "2018-12-20 21:55:02,375 : INFO : worker thread finished; awaiting finish of 2 more threads\n",
      "2018-12-20 21:55:02,383 : INFO : worker thread finished; awaiting finish of 1 more threads\n",
      "2018-12-20 21:55:02,755 : INFO : worker thread finished; awaiting finish of 0 more threads\n",
      "2018-12-20 21:55:02,757 : INFO : EPOCH - 4 : training on 601 raw words (371 effective words) took 0.4s, 970 effective words/s\n",
      "2018-12-20 21:55:02,764 : INFO : worker thread finished; awaiting finish of 2 more threads\n",
      "2018-12-20 21:55:02,767 : INFO : worker thread finished; awaiting finish of 1 more threads\n",
      "2018-12-20 21:55:03,042 : INFO : worker thread finished; awaiting finish of 0 more threads\n",
      "2018-12-20 21:55:03,045 : INFO : EPOCH - 5 : training on 601 raw words (362 effective words) took 0.3s, 1288 effective words/s\n",
      "2018-12-20 21:55:03,048 : INFO : training on a 3005 raw words (1785 effective words) took 1.7s, 1049 effective words/s\n",
      "2018-12-20 21:55:03,053 : WARNING : under 10 jobs per worker: consider setting a smaller `batch_words' for smoother alpha decay\n",
      "2018-12-20 21:55:03,057 : INFO : training model with 3 workers on 263 vocabulary and 100 features, using sg=0 hs=0 sample=0.001 negative=5 window=5\n",
      "2018-12-20 21:55:03,072 : INFO : worker thread finished; awaiting finish of 2 more threads\n",
      "2018-12-20 21:55:03,082 : INFO : worker thread finished; awaiting finish of 1 more threads\n"
     ]
    },
    {
     "name": "stdout",
     "output_type": "stream",
     "text": [
      "iteration 44\n"
     ]
    },
    {
     "name": "stderr",
     "output_type": "stream",
     "text": [
      "2018-12-20 21:55:03,490 : INFO : worker thread finished; awaiting finish of 0 more threads\n",
      "2018-12-20 21:55:03,494 : INFO : EPOCH - 1 : training on 601 raw words (361 effective words) took 0.4s, 851 effective words/s\n",
      "2018-12-20 21:55:03,512 : INFO : worker thread finished; awaiting finish of 2 more threads\n",
      "2018-12-20 21:55:03,516 : INFO : worker thread finished; awaiting finish of 1 more threads\n",
      "2018-12-20 21:55:03,997 : INFO : worker thread finished; awaiting finish of 0 more threads\n",
      "2018-12-20 21:55:04,005 : INFO : EPOCH - 2 : training on 601 raw words (345 effective words) took 0.5s, 695 effective words/s\n",
      "2018-12-20 21:55:04,017 : INFO : worker thread finished; awaiting finish of 2 more threads\n",
      "2018-12-20 21:55:04,027 : INFO : worker thread finished; awaiting finish of 1 more threads\n",
      "2018-12-20 21:55:04,532 : INFO : worker thread finished; awaiting finish of 0 more threads\n",
      "2018-12-20 21:55:04,537 : INFO : EPOCH - 3 : training on 601 raw words (351 effective words) took 0.5s, 674 effective words/s\n",
      "2018-12-20 21:55:04,554 : INFO : worker thread finished; awaiting finish of 2 more threads\n",
      "2018-12-20 21:55:04,563 : INFO : worker thread finished; awaiting finish of 1 more threads\n",
      "2018-12-20 21:55:05,050 : INFO : worker thread finished; awaiting finish of 0 more threads\n",
      "2018-12-20 21:55:05,057 : INFO : EPOCH - 4 : training on 601 raw words (357 effective words) took 0.5s, 709 effective words/s\n",
      "2018-12-20 21:55:05,068 : INFO : worker thread finished; awaiting finish of 2 more threads\n",
      "2018-12-20 21:55:05,077 : INFO : worker thread finished; awaiting finish of 1 more threads\n",
      "2018-12-20 21:55:05,510 : INFO : worker thread finished; awaiting finish of 0 more threads\n",
      "2018-12-20 21:55:05,513 : INFO : EPOCH - 5 : training on 601 raw words (357 effective words) took 0.4s, 801 effective words/s\n",
      "2018-12-20 21:55:05,513 : INFO : training on a 3005 raw words (1771 effective words) took 2.5s, 722 effective words/s\n",
      "2018-12-20 21:55:05,513 : WARNING : under 10 jobs per worker: consider setting a smaller `batch_words' for smoother alpha decay\n",
      "2018-12-20 21:55:05,513 : INFO : training model with 3 workers on 263 vocabulary and 100 features, using sg=0 hs=0 sample=0.001 negative=5 window=5\n",
      "2018-12-20 21:55:05,531 : INFO : worker thread finished; awaiting finish of 2 more threads\n",
      "2018-12-20 21:55:05,536 : INFO : worker thread finished; awaiting finish of 1 more threads\n"
     ]
    },
    {
     "name": "stdout",
     "output_type": "stream",
     "text": [
      "iteration 45\n"
     ]
    },
    {
     "name": "stderr",
     "output_type": "stream",
     "text": [
      "2018-12-20 21:55:05,925 : INFO : worker thread finished; awaiting finish of 0 more threads\n",
      "2018-12-20 21:55:05,927 : INFO : EPOCH - 1 : training on 601 raw words (359 effective words) took 0.4s, 905 effective words/s\n",
      "2018-12-20 21:55:05,941 : INFO : worker thread finished; awaiting finish of 2 more threads\n",
      "2018-12-20 21:55:05,946 : INFO : worker thread finished; awaiting finish of 1 more threads\n",
      "2018-12-20 21:55:06,428 : INFO : worker thread finished; awaiting finish of 0 more threads\n",
      "2018-12-20 21:55:06,433 : INFO : EPOCH - 2 : training on 601 raw words (358 effective words) took 0.5s, 722 effective words/s\n",
      "2018-12-20 21:55:06,450 : INFO : worker thread finished; awaiting finish of 2 more threads\n",
      "2018-12-20 21:55:06,457 : INFO : worker thread finished; awaiting finish of 1 more threads\n",
      "2018-12-20 21:55:06,852 : INFO : worker thread finished; awaiting finish of 0 more threads\n",
      "2018-12-20 21:55:06,857 : INFO : EPOCH - 3 : training on 601 raw words (354 effective words) took 0.4s, 866 effective words/s\n",
      "2018-12-20 21:55:06,869 : INFO : worker thread finished; awaiting finish of 2 more threads\n",
      "2018-12-20 21:55:06,878 : INFO : worker thread finished; awaiting finish of 1 more threads\n",
      "2018-12-20 21:55:07,401 : INFO : worker thread finished; awaiting finish of 0 more threads\n",
      "2018-12-20 21:55:07,406 : INFO : EPOCH - 4 : training on 601 raw words (363 effective words) took 0.5s, 672 effective words/s\n",
      "2018-12-20 21:55:07,417 : INFO : worker thread finished; awaiting finish of 2 more threads\n",
      "2018-12-20 21:55:07,429 : INFO : worker thread finished; awaiting finish of 1 more threads\n",
      "2018-12-20 21:55:07,731 : INFO : worker thread finished; awaiting finish of 0 more threads\n",
      "2018-12-20 21:55:07,733 : INFO : EPOCH - 5 : training on 601 raw words (361 effective words) took 0.3s, 1140 effective words/s\n",
      "2018-12-20 21:55:07,734 : INFO : training on a 3005 raw words (1795 effective words) took 2.2s, 811 effective words/s\n",
      "2018-12-20 21:55:07,736 : WARNING : under 10 jobs per worker: consider setting a smaller `batch_words' for smoother alpha decay\n",
      "2018-12-20 21:55:07,739 : INFO : training model with 3 workers on 263 vocabulary and 100 features, using sg=0 hs=0 sample=0.001 negative=5 window=5\n",
      "2018-12-20 21:55:07,751 : INFO : worker thread finished; awaiting finish of 2 more threads\n",
      "2018-12-20 21:55:07,755 : INFO : worker thread finished; awaiting finish of 1 more threads\n"
     ]
    },
    {
     "name": "stdout",
     "output_type": "stream",
     "text": [
      "iteration 46\n"
     ]
    },
    {
     "name": "stderr",
     "output_type": "stream",
     "text": [
      "2018-12-20 21:55:08,033 : INFO : worker thread finished; awaiting finish of 0 more threads\n",
      "2018-12-20 21:55:08,038 : INFO : EPOCH - 1 : training on 601 raw words (363 effective words) took 0.3s, 1256 effective words/s\n",
      "2018-12-20 21:55:08,049 : INFO : worker thread finished; awaiting finish of 2 more threads\n",
      "2018-12-20 21:55:08,052 : INFO : worker thread finished; awaiting finish of 1 more threads\n",
      "2018-12-20 21:55:08,462 : INFO : worker thread finished; awaiting finish of 0 more threads\n",
      "2018-12-20 21:55:08,465 : INFO : EPOCH - 2 : training on 601 raw words (363 effective words) took 0.4s, 875 effective words/s\n",
      "2018-12-20 21:55:08,483 : INFO : worker thread finished; awaiting finish of 2 more threads\n",
      "2018-12-20 21:55:08,486 : INFO : worker thread finished; awaiting finish of 1 more threads\n",
      "2018-12-20 21:55:08,903 : INFO : worker thread finished; awaiting finish of 0 more threads\n",
      "2018-12-20 21:55:08,905 : INFO : EPOCH - 3 : training on 601 raw words (353 effective words) took 0.4s, 834 effective words/s\n",
      "2018-12-20 21:55:08,917 : INFO : worker thread finished; awaiting finish of 2 more threads\n",
      "2018-12-20 21:55:08,921 : INFO : worker thread finished; awaiting finish of 1 more threads\n",
      "2018-12-20 21:55:09,363 : INFO : worker thread finished; awaiting finish of 0 more threads\n",
      "2018-12-20 21:55:09,363 : INFO : EPOCH - 4 : training on 601 raw words (366 effective words) took 0.5s, 810 effective words/s\n",
      "2018-12-20 21:55:09,377 : INFO : worker thread finished; awaiting finish of 2 more threads\n",
      "2018-12-20 21:55:09,384 : INFO : worker thread finished; awaiting finish of 1 more threads\n",
      "2018-12-20 21:55:09,849 : INFO : worker thread finished; awaiting finish of 0 more threads\n",
      "2018-12-20 21:55:09,851 : INFO : EPOCH - 5 : training on 601 raw words (367 effective words) took 0.5s, 773 effective words/s\n",
      "2018-12-20 21:55:09,855 : INFO : training on a 3005 raw words (1812 effective words) took 2.1s, 858 effective words/s\n",
      "2018-12-20 21:55:09,857 : WARNING : under 10 jobs per worker: consider setting a smaller `batch_words' for smoother alpha decay\n",
      "2018-12-20 21:55:09,860 : INFO : training model with 3 workers on 263 vocabulary and 100 features, using sg=0 hs=0 sample=0.001 negative=5 window=5\n",
      "2018-12-20 21:55:09,872 : INFO : worker thread finished; awaiting finish of 2 more threads\n",
      "2018-12-20 21:55:09,874 : INFO : worker thread finished; awaiting finish of 1 more threads\n"
     ]
    },
    {
     "name": "stdout",
     "output_type": "stream",
     "text": [
      "iteration 47\n"
     ]
    },
    {
     "name": "stderr",
     "output_type": "stream",
     "text": [
      "2018-12-20 21:55:10,338 : INFO : worker thread finished; awaiting finish of 0 more threads\n",
      "2018-12-20 21:55:10,342 : INFO : EPOCH - 1 : training on 601 raw words (370 effective words) took 0.5s, 786 effective words/s\n",
      "2018-12-20 21:55:10,358 : INFO : worker thread finished; awaiting finish of 2 more threads\n",
      "2018-12-20 21:55:10,362 : INFO : worker thread finished; awaiting finish of 1 more threads\n",
      "2018-12-20 21:55:10,783 : INFO : worker thread finished; awaiting finish of 0 more threads\n",
      "2018-12-20 21:55:10,784 : INFO : EPOCH - 2 : training on 601 raw words (347 effective words) took 0.4s, 803 effective words/s\n",
      "2018-12-20 21:55:10,798 : INFO : worker thread finished; awaiting finish of 2 more threads\n",
      "2018-12-20 21:55:10,802 : INFO : worker thread finished; awaiting finish of 1 more threads\n",
      "2018-12-20 21:55:11,249 : INFO : worker thread finished; awaiting finish of 0 more threads\n",
      "2018-12-20 21:55:11,251 : INFO : EPOCH - 3 : training on 601 raw words (372 effective words) took 0.5s, 821 effective words/s\n",
      "2018-12-20 21:55:11,263 : INFO : worker thread finished; awaiting finish of 2 more threads\n",
      "2018-12-20 21:55:11,270 : INFO : worker thread finished; awaiting finish of 1 more threads\n",
      "2018-12-20 21:55:11,726 : INFO : worker thread finished; awaiting finish of 0 more threads\n",
      "2018-12-20 21:55:11,729 : INFO : EPOCH - 4 : training on 601 raw words (355 effective words) took 0.5s, 759 effective words/s\n",
      "2018-12-20 21:55:11,740 : INFO : worker thread finished; awaiting finish of 2 more threads\n",
      "2018-12-20 21:55:11,748 : INFO : worker thread finished; awaiting finish of 1 more threads\n",
      "2018-12-20 21:55:12,219 : INFO : worker thread finished; awaiting finish of 0 more threads\n",
      "2018-12-20 21:55:12,226 : INFO : EPOCH - 5 : training on 601 raw words (358 effective words) took 0.5s, 736 effective words/s\n",
      "2018-12-20 21:55:12,229 : INFO : training on a 3005 raw words (1802 effective words) took 2.4s, 762 effective words/s\n",
      "2018-12-20 21:55:12,232 : WARNING : under 10 jobs per worker: consider setting a smaller `batch_words' for smoother alpha decay\n",
      "2018-12-20 21:55:12,236 : INFO : training model with 3 workers on 263 vocabulary and 100 features, using sg=0 hs=0 sample=0.001 negative=5 window=5\n",
      "2018-12-20 21:55:12,255 : INFO : worker thread finished; awaiting finish of 2 more threads\n",
      "2018-12-20 21:55:12,265 : INFO : worker thread finished; awaiting finish of 1 more threads\n"
     ]
    },
    {
     "name": "stdout",
     "output_type": "stream",
     "text": [
      "iteration 48\n"
     ]
    },
    {
     "name": "stderr",
     "output_type": "stream",
     "text": [
      "2018-12-20 21:55:12,765 : INFO : worker thread finished; awaiting finish of 0 more threads\n",
      "2018-12-20 21:55:12,769 : INFO : EPOCH - 1 : training on 601 raw words (364 effective words) took 0.5s, 706 effective words/s\n",
      "2018-12-20 21:55:12,781 : INFO : worker thread finished; awaiting finish of 2 more threads\n",
      "2018-12-20 21:55:12,789 : INFO : worker thread finished; awaiting finish of 1 more threads\n",
      "2018-12-20 21:55:13,385 : INFO : worker thread finished; awaiting finish of 0 more threads\n",
      "2018-12-20 21:55:13,387 : INFO : EPOCH - 2 : training on 601 raw words (370 effective words) took 0.6s, 609 effective words/s\n",
      "2018-12-20 21:55:13,396 : INFO : worker thread finished; awaiting finish of 2 more threads\n",
      "2018-12-20 21:55:13,399 : INFO : worker thread finished; awaiting finish of 1 more threads\n",
      "2018-12-20 21:55:13,734 : INFO : worker thread finished; awaiting finish of 0 more threads\n",
      "2018-12-20 21:55:13,738 : INFO : EPOCH - 3 : training on 601 raw words (359 effective words) took 0.3s, 1045 effective words/s\n",
      "2018-12-20 21:55:13,746 : INFO : worker thread finished; awaiting finish of 2 more threads\n",
      "2018-12-20 21:55:13,747 : INFO : worker thread finished; awaiting finish of 1 more threads\n",
      "2018-12-20 21:55:14,014 : INFO : worker thread finished; awaiting finish of 0 more threads\n",
      "2018-12-20 21:55:14,021 : INFO : EPOCH - 4 : training on 601 raw words (351 effective words) took 0.3s, 1276 effective words/s\n",
      "2018-12-20 21:55:14,035 : INFO : worker thread finished; awaiting finish of 2 more threads\n",
      "2018-12-20 21:55:14,043 : INFO : worker thread finished; awaiting finish of 1 more threads\n",
      "2018-12-20 21:55:14,396 : INFO : worker thread finished; awaiting finish of 0 more threads\n",
      "2018-12-20 21:55:14,401 : INFO : EPOCH - 5 : training on 601 raw words (353 effective words) took 0.4s, 960 effective words/s\n",
      "2018-12-20 21:55:14,404 : INFO : training on a 3005 raw words (1797 effective words) took 2.2s, 831 effective words/s\n",
      "2018-12-20 21:55:14,406 : WARNING : under 10 jobs per worker: consider setting a smaller `batch_words' for smoother alpha decay\n",
      "2018-12-20 21:55:14,412 : INFO : training model with 3 workers on 263 vocabulary and 100 features, using sg=0 hs=0 sample=0.001 negative=5 window=5\n",
      "2018-12-20 21:55:14,428 : INFO : worker thread finished; awaiting finish of 2 more threads\n",
      "2018-12-20 21:55:14,432 : INFO : worker thread finished; awaiting finish of 1 more threads\n"
     ]
    },
    {
     "name": "stdout",
     "output_type": "stream",
     "text": [
      "iteration 49\n"
     ]
    },
    {
     "name": "stderr",
     "output_type": "stream",
     "text": [
      "2018-12-20 21:55:14,964 : INFO : worker thread finished; awaiting finish of 0 more threads\n",
      "2018-12-20 21:55:14,966 : INFO : EPOCH - 1 : training on 601 raw words (352 effective words) took 0.5s, 650 effective words/s\n",
      "2018-12-20 21:55:14,979 : INFO : worker thread finished; awaiting finish of 2 more threads\n",
      "2018-12-20 21:55:14,994 : INFO : worker thread finished; awaiting finish of 1 more threads\n",
      "2018-12-20 21:55:15,472 : INFO : worker thread finished; awaiting finish of 0 more threads\n",
      "2018-12-20 21:55:15,476 : INFO : EPOCH - 2 : training on 601 raw words (357 effective words) took 0.5s, 716 effective words/s\n",
      "2018-12-20 21:55:15,490 : INFO : worker thread finished; awaiting finish of 2 more threads\n",
      "2018-12-20 21:55:15,497 : INFO : worker thread finished; awaiting finish of 1 more threads\n",
      "2018-12-20 21:55:15,948 : INFO : worker thread finished; awaiting finish of 0 more threads\n",
      "2018-12-20 21:55:15,949 : INFO : EPOCH - 3 : training on 601 raw words (347 effective words) took 0.5s, 751 effective words/s\n",
      "2018-12-20 21:55:15,966 : INFO : worker thread finished; awaiting finish of 2 more threads\n",
      "2018-12-20 21:55:15,973 : INFO : worker thread finished; awaiting finish of 1 more threads\n",
      "2018-12-20 21:55:16,482 : INFO : worker thread finished; awaiting finish of 0 more threads\n",
      "2018-12-20 21:55:16,484 : INFO : EPOCH - 4 : training on 601 raw words (355 effective words) took 0.5s, 683 effective words/s\n",
      "2018-12-20 21:55:16,490 : INFO : worker thread finished; awaiting finish of 2 more threads\n",
      "2018-12-20 21:55:16,493 : INFO : worker thread finished; awaiting finish of 1 more threads\n",
      "2018-12-20 21:55:16,717 : INFO : worker thread finished; awaiting finish of 0 more threads\n",
      "2018-12-20 21:55:16,717 : INFO : EPOCH - 5 : training on 601 raw words (357 effective words) took 0.2s, 1557 effective words/s\n",
      "2018-12-20 21:55:16,721 : INFO : training on a 3005 raw words (1768 effective words) took 2.3s, 767 effective words/s\n",
      "2018-12-20 21:55:16,724 : WARNING : under 10 jobs per worker: consider setting a smaller `batch_words' for smoother alpha decay\n",
      "2018-12-20 21:55:16,728 : INFO : training model with 3 workers on 263 vocabulary and 100 features, using sg=0 hs=0 sample=0.001 negative=5 window=5\n",
      "2018-12-20 21:55:16,733 : INFO : worker thread finished; awaiting finish of 2 more threads\n",
      "2018-12-20 21:55:16,736 : INFO : worker thread finished; awaiting finish of 1 more threads\n"
     ]
    },
    {
     "name": "stdout",
     "output_type": "stream",
     "text": [
      "iteration 50\n"
     ]
    },
    {
     "name": "stderr",
     "output_type": "stream",
     "text": [
      "2018-12-20 21:55:17,011 : INFO : worker thread finished; awaiting finish of 0 more threads\n",
      "2018-12-20 21:55:17,013 : INFO : EPOCH - 1 : training on 601 raw words (361 effective words) took 0.3s, 1284 effective words/s\n",
      "2018-12-20 21:55:17,032 : INFO : worker thread finished; awaiting finish of 2 more threads\n",
      "2018-12-20 21:55:17,038 : INFO : worker thread finished; awaiting finish of 1 more threads\n",
      "2018-12-20 21:55:17,284 : INFO : worker thread finished; awaiting finish of 0 more threads\n",
      "2018-12-20 21:55:17,285 : INFO : EPOCH - 2 : training on 601 raw words (362 effective words) took 0.3s, 1422 effective words/s\n",
      "2018-12-20 21:55:17,293 : INFO : worker thread finished; awaiting finish of 2 more threads\n",
      "2018-12-20 21:55:17,296 : INFO : worker thread finished; awaiting finish of 1 more threads\n",
      "2018-12-20 21:55:17,576 : INFO : worker thread finished; awaiting finish of 0 more threads\n",
      "2018-12-20 21:55:17,579 : INFO : EPOCH - 3 : training on 601 raw words (362 effective words) took 0.3s, 1266 effective words/s\n",
      "2018-12-20 21:55:17,584 : INFO : worker thread finished; awaiting finish of 2 more threads\n",
      "2018-12-20 21:55:17,586 : INFO : worker thread finished; awaiting finish of 1 more threads\n",
      "2018-12-20 21:55:17,822 : INFO : worker thread finished; awaiting finish of 0 more threads\n",
      "2018-12-20 21:55:17,824 : INFO : EPOCH - 4 : training on 601 raw words (367 effective words) took 0.2s, 1521 effective words/s\n",
      "2018-12-20 21:55:17,834 : INFO : worker thread finished; awaiting finish of 2 more threads\n",
      "2018-12-20 21:55:17,844 : INFO : worker thread finished; awaiting finish of 1 more threads\n",
      "2018-12-20 21:55:18,118 : INFO : worker thread finished; awaiting finish of 0 more threads\n",
      "2018-12-20 21:55:18,120 : INFO : EPOCH - 5 : training on 601 raw words (356 effective words) took 0.3s, 1239 effective words/s\n",
      "2018-12-20 21:55:18,122 : INFO : training on a 3005 raw words (1808 effective words) took 1.4s, 1298 effective words/s\n",
      "2018-12-20 21:55:18,125 : WARNING : under 10 jobs per worker: consider setting a smaller `batch_words' for smoother alpha decay\n",
      "2018-12-20 21:55:18,128 : INFO : training model with 3 workers on 263 vocabulary and 100 features, using sg=0 hs=0 sample=0.001 negative=5 window=5\n",
      "2018-12-20 21:55:18,138 : INFO : worker thread finished; awaiting finish of 2 more threads\n",
      "2018-12-20 21:55:18,148 : INFO : worker thread finished; awaiting finish of 1 more threads\n"
     ]
    },
    {
     "name": "stdout",
     "output_type": "stream",
     "text": [
      "iteration 51\n"
     ]
    },
    {
     "name": "stderr",
     "output_type": "stream",
     "text": [
      "2018-12-20 21:55:18,527 : INFO : worker thread finished; awaiting finish of 0 more threads\n",
      "2018-12-20 21:55:18,531 : INFO : EPOCH - 1 : training on 601 raw words (366 effective words) took 0.4s, 928 effective words/s\n",
      "2018-12-20 21:55:18,547 : INFO : worker thread finished; awaiting finish of 2 more threads\n",
      "2018-12-20 21:55:18,552 : INFO : worker thread finished; awaiting finish of 1 more threads\n",
      "2018-12-20 21:55:19,041 : INFO : worker thread finished; awaiting finish of 0 more threads\n",
      "2018-12-20 21:55:19,044 : INFO : EPOCH - 2 : training on 601 raw words (353 effective words) took 0.5s, 700 effective words/s\n",
      "2018-12-20 21:55:19,061 : INFO : worker thread finished; awaiting finish of 2 more threads\n",
      "2018-12-20 21:55:19,065 : INFO : worker thread finished; awaiting finish of 1 more threads\n",
      "2018-12-20 21:55:19,497 : INFO : worker thread finished; awaiting finish of 0 more threads\n",
      "2018-12-20 21:55:19,499 : INFO : EPOCH - 3 : training on 601 raw words (357 effective words) took 0.4s, 809 effective words/s\n",
      "2018-12-20 21:55:19,504 : INFO : worker thread finished; awaiting finish of 2 more threads\n",
      "2018-12-20 21:55:19,507 : INFO : worker thread finished; awaiting finish of 1 more threads\n",
      "2018-12-20 21:55:19,798 : INFO : worker thread finished; awaiting finish of 0 more threads\n",
      "2018-12-20 21:55:19,800 : INFO : EPOCH - 4 : training on 601 raw words (363 effective words) took 0.3s, 1224 effective words/s\n",
      "2018-12-20 21:55:19,808 : INFO : worker thread finished; awaiting finish of 2 more threads\n",
      "2018-12-20 21:55:19,809 : INFO : worker thread finished; awaiting finish of 1 more threads\n",
      "2018-12-20 21:55:20,147 : INFO : worker thread finished; awaiting finish of 0 more threads\n",
      "2018-12-20 21:55:20,152 : INFO : EPOCH - 5 : training on 601 raw words (366 effective words) took 0.3s, 1054 effective words/s\n",
      "2018-12-20 21:55:20,156 : INFO : training on a 3005 raw words (1805 effective words) took 2.0s, 891 effective words/s\n",
      "2018-12-20 21:55:20,160 : WARNING : under 10 jobs per worker: consider setting a smaller `batch_words' for smoother alpha decay\n",
      "2018-12-20 21:55:20,164 : INFO : training model with 3 workers on 263 vocabulary and 100 features, using sg=0 hs=0 sample=0.001 negative=5 window=5\n",
      "2018-12-20 21:55:20,179 : INFO : worker thread finished; awaiting finish of 2 more threads\n",
      "2018-12-20 21:55:20,190 : INFO : worker thread finished; awaiting finish of 1 more threads\n"
     ]
    },
    {
     "name": "stdout",
     "output_type": "stream",
     "text": [
      "iteration 52\n"
     ]
    },
    {
     "name": "stderr",
     "output_type": "stream",
     "text": [
      "2018-12-20 21:55:20,708 : INFO : worker thread finished; awaiting finish of 0 more threads\n",
      "2018-12-20 21:55:20,712 : INFO : EPOCH - 1 : training on 601 raw words (348 effective words) took 0.5s, 650 effective words/s\n",
      "2018-12-20 21:55:20,726 : INFO : worker thread finished; awaiting finish of 2 more threads\n",
      "2018-12-20 21:55:20,732 : INFO : worker thread finished; awaiting finish of 1 more threads\n",
      "2018-12-20 21:55:21,222 : INFO : worker thread finished; awaiting finish of 0 more threads\n",
      "2018-12-20 21:55:21,226 : INFO : EPOCH - 2 : training on 601 raw words (350 effective words) took 0.5s, 696 effective words/s\n",
      "2018-12-20 21:55:21,240 : INFO : worker thread finished; awaiting finish of 2 more threads\n",
      "2018-12-20 21:55:21,249 : INFO : worker thread finished; awaiting finish of 1 more threads\n",
      "2018-12-20 21:55:21,675 : INFO : worker thread finished; awaiting finish of 0 more threads\n",
      "2018-12-20 21:55:21,675 : INFO : EPOCH - 3 : training on 601 raw words (363 effective words) took 0.4s, 826 effective words/s\n",
      "2018-12-20 21:55:21,684 : INFO : worker thread finished; awaiting finish of 2 more threads\n",
      "2018-12-20 21:55:21,689 : INFO : worker thread finished; awaiting finish of 1 more threads\n",
      "2018-12-20 21:55:22,027 : INFO : worker thread finished; awaiting finish of 0 more threads\n",
      "2018-12-20 21:55:22,031 : INFO : EPOCH - 4 : training on 601 raw words (365 effective words) took 0.3s, 1050 effective words/s\n",
      "2018-12-20 21:55:22,046 : INFO : worker thread finished; awaiting finish of 2 more threads\n",
      "2018-12-20 21:55:22,049 : INFO : worker thread finished; awaiting finish of 1 more threads\n",
      "2018-12-20 21:55:22,492 : INFO : worker thread finished; awaiting finish of 0 more threads\n",
      "2018-12-20 21:55:22,495 : INFO : EPOCH - 5 : training on 601 raw words (357 effective words) took 0.5s, 785 effective words/s\n",
      "2018-12-20 21:55:22,495 : INFO : training on a 3005 raw words (1783 effective words) took 2.3s, 765 effective words/s\n",
      "2018-12-20 21:55:22,498 : WARNING : under 10 jobs per worker: consider setting a smaller `batch_words' for smoother alpha decay\n",
      "2018-12-20 21:55:22,502 : INFO : training model with 3 workers on 263 vocabulary and 100 features, using sg=0 hs=0 sample=0.001 negative=5 window=5\n",
      "2018-12-20 21:55:22,524 : INFO : worker thread finished; awaiting finish of 2 more threads\n",
      "2018-12-20 21:55:22,536 : INFO : worker thread finished; awaiting finish of 1 more threads\n"
     ]
    },
    {
     "name": "stdout",
     "output_type": "stream",
     "text": [
      "iteration 53\n"
     ]
    },
    {
     "name": "stderr",
     "output_type": "stream",
     "text": [
      "2018-12-20 21:55:22,886 : INFO : worker thread finished; awaiting finish of 0 more threads\n",
      "2018-12-20 21:55:22,889 : INFO : EPOCH - 1 : training on 601 raw words (346 effective words) took 0.4s, 933 effective words/s\n",
      "2018-12-20 21:55:22,894 : INFO : worker thread finished; awaiting finish of 2 more threads\n",
      "2018-12-20 21:55:22,896 : INFO : worker thread finished; awaiting finish of 1 more threads\n",
      "2018-12-20 21:55:23,126 : INFO : worker thread finished; awaiting finish of 0 more threads\n",
      "2018-12-20 21:55:23,130 : INFO : EPOCH - 2 : training on 601 raw words (356 effective words) took 0.2s, 1508 effective words/s\n",
      "2018-12-20 21:55:23,142 : INFO : worker thread finished; awaiting finish of 2 more threads\n",
      "2018-12-20 21:55:23,146 : INFO : worker thread finished; awaiting finish of 1 more threads\n",
      "2018-12-20 21:55:23,388 : INFO : worker thread finished; awaiting finish of 0 more threads\n",
      "2018-12-20 21:55:23,390 : INFO : EPOCH - 3 : training on 601 raw words (371 effective words) took 0.2s, 1489 effective words/s\n",
      "2018-12-20 21:55:23,398 : INFO : worker thread finished; awaiting finish of 2 more threads\n",
      "2018-12-20 21:55:23,399 : INFO : worker thread finished; awaiting finish of 1 more threads\n",
      "2018-12-20 21:55:23,783 : INFO : worker thread finished; awaiting finish of 0 more threads\n",
      "2018-12-20 21:55:23,786 : INFO : EPOCH - 4 : training on 601 raw words (350 effective words) took 0.4s, 897 effective words/s\n",
      "2018-12-20 21:55:23,800 : INFO : worker thread finished; awaiting finish of 2 more threads\n",
      "2018-12-20 21:55:23,813 : INFO : worker thread finished; awaiting finish of 1 more threads\n",
      "2018-12-20 21:55:24,324 : INFO : worker thread finished; awaiting finish of 0 more threads\n",
      "2018-12-20 21:55:24,329 : INFO : EPOCH - 5 : training on 601 raw words (345 effective words) took 0.5s, 649 effective words/s\n",
      "2018-12-20 21:55:24,333 : INFO : training on a 3005 raw words (1768 effective words) took 1.8s, 967 effective words/s\n",
      "2018-12-20 21:55:24,337 : WARNING : under 10 jobs per worker: consider setting a smaller `batch_words' for smoother alpha decay\n",
      "2018-12-20 21:55:24,340 : INFO : training model with 3 workers on 263 vocabulary and 100 features, using sg=0 hs=0 sample=0.001 negative=5 window=5\n",
      "2018-12-20 21:55:24,358 : INFO : worker thread finished; awaiting finish of 2 more threads\n",
      "2018-12-20 21:55:24,374 : INFO : worker thread finished; awaiting finish of 1 more threads\n"
     ]
    },
    {
     "name": "stdout",
     "output_type": "stream",
     "text": [
      "iteration 54\n"
     ]
    },
    {
     "name": "stderr",
     "output_type": "stream",
     "text": [
      "2018-12-20 21:55:24,946 : INFO : worker thread finished; awaiting finish of 0 more threads\n",
      "2018-12-20 21:55:24,950 : INFO : EPOCH - 1 : training on 601 raw words (362 effective words) took 0.6s, 609 effective words/s\n",
      "2018-12-20 21:55:24,956 : INFO : worker thread finished; awaiting finish of 2 more threads\n",
      "2018-12-20 21:55:24,962 : INFO : worker thread finished; awaiting finish of 1 more threads\n",
      "2018-12-20 21:55:25,258 : INFO : worker thread finished; awaiting finish of 0 more threads\n",
      "2018-12-20 21:55:25,262 : INFO : EPOCH - 2 : training on 601 raw words (365 effective words) took 0.3s, 1187 effective words/s\n",
      "2018-12-20 21:55:25,268 : INFO : worker thread finished; awaiting finish of 2 more threads\n",
      "2018-12-20 21:55:25,272 : INFO : worker thread finished; awaiting finish of 1 more threads\n",
      "2018-12-20 21:55:25,752 : INFO : worker thread finished; awaiting finish of 0 more threads\n",
      "2018-12-20 21:55:25,756 : INFO : EPOCH - 3 : training on 601 raw words (357 effective words) took 0.5s, 730 effective words/s\n",
      "2018-12-20 21:55:25,768 : INFO : worker thread finished; awaiting finish of 2 more threads\n",
      "2018-12-20 21:55:25,792 : INFO : worker thread finished; awaiting finish of 1 more threads\n",
      "2018-12-20 21:55:26,125 : INFO : worker thread finished; awaiting finish of 0 more threads\n",
      "2018-12-20 21:55:26,128 : INFO : EPOCH - 4 : training on 601 raw words (373 effective words) took 0.4s, 1032 effective words/s\n",
      "2018-12-20 21:55:26,135 : INFO : worker thread finished; awaiting finish of 2 more threads\n",
      "2018-12-20 21:55:26,145 : INFO : worker thread finished; awaiting finish of 1 more threads\n",
      "2018-12-20 21:55:26,508 : INFO : worker thread finished; awaiting finish of 0 more threads\n",
      "2018-12-20 21:55:26,510 : INFO : EPOCH - 5 : training on 601 raw words (369 effective words) took 0.4s, 981 effective words/s\n",
      "2018-12-20 21:55:26,511 : INFO : training on a 3005 raw words (1826 effective words) took 2.2s, 843 effective words/s\n",
      "2018-12-20 21:55:26,512 : WARNING : under 10 jobs per worker: consider setting a smaller `batch_words' for smoother alpha decay\n",
      "2018-12-20 21:55:26,513 : INFO : training model with 3 workers on 263 vocabulary and 100 features, using sg=0 hs=0 sample=0.001 negative=5 window=5\n",
      "2018-12-20 21:55:26,517 : INFO : worker thread finished; awaiting finish of 2 more threads\n",
      "2018-12-20 21:55:26,520 : INFO : worker thread finished; awaiting finish of 1 more threads\n"
     ]
    },
    {
     "name": "stdout",
     "output_type": "stream",
     "text": [
      "iteration 55\n"
     ]
    },
    {
     "name": "stderr",
     "output_type": "stream",
     "text": [
      "2018-12-20 21:55:26,844 : INFO : worker thread finished; awaiting finish of 0 more threads\n",
      "2018-12-20 21:55:26,846 : INFO : EPOCH - 1 : training on 601 raw words (367 effective words) took 0.3s, 1117 effective words/s\n",
      "2018-12-20 21:55:26,858 : INFO : worker thread finished; awaiting finish of 2 more threads\n",
      "2018-12-20 21:55:26,864 : INFO : worker thread finished; awaiting finish of 1 more threads\n",
      "2018-12-20 21:55:27,343 : INFO : worker thread finished; awaiting finish of 0 more threads\n",
      "2018-12-20 21:55:27,347 : INFO : EPOCH - 2 : training on 601 raw words (375 effective words) took 0.5s, 762 effective words/s\n",
      "2018-12-20 21:55:27,359 : INFO : worker thread finished; awaiting finish of 2 more threads\n",
      "2018-12-20 21:55:27,377 : INFO : worker thread finished; awaiting finish of 1 more threads\n",
      "2018-12-20 21:55:27,821 : INFO : worker thread finished; awaiting finish of 0 more threads\n",
      "2018-12-20 21:55:27,826 : INFO : EPOCH - 3 : training on 601 raw words (353 effective words) took 0.5s, 754 effective words/s\n",
      "2018-12-20 21:55:27,835 : INFO : worker thread finished; awaiting finish of 2 more threads\n",
      "2018-12-20 21:55:27,845 : INFO : worker thread finished; awaiting finish of 1 more threads\n",
      "2018-12-20 21:55:28,289 : INFO : worker thread finished; awaiting finish of 0 more threads\n",
      "2018-12-20 21:55:28,295 : INFO : EPOCH - 4 : training on 601 raw words (357 effective words) took 0.5s, 775 effective words/s\n",
      "2018-12-20 21:55:28,313 : INFO : worker thread finished; awaiting finish of 2 more threads\n",
      "2018-12-20 21:55:28,325 : INFO : worker thread finished; awaiting finish of 1 more threads\n",
      "2018-12-20 21:55:28,751 : INFO : worker thread finished; awaiting finish of 0 more threads\n",
      "2018-12-20 21:55:28,753 : INFO : EPOCH - 5 : training on 601 raw words (349 effective words) took 0.4s, 783 effective words/s\n",
      "2018-12-20 21:55:28,755 : INFO : training on a 3005 raw words (1801 effective words) took 2.2s, 804 effective words/s\n",
      "2018-12-20 21:55:28,758 : WARNING : under 10 jobs per worker: consider setting a smaller `batch_words' for smoother alpha decay\n",
      "2018-12-20 21:55:28,762 : INFO : training model with 3 workers on 263 vocabulary and 100 features, using sg=0 hs=0 sample=0.001 negative=5 window=5\n",
      "2018-12-20 21:55:28,771 : INFO : worker thread finished; awaiting finish of 2 more threads\n",
      "2018-12-20 21:55:28,780 : INFO : worker thread finished; awaiting finish of 1 more threads\n"
     ]
    },
    {
     "name": "stdout",
     "output_type": "stream",
     "text": [
      "iteration 56\n"
     ]
    },
    {
     "name": "stderr",
     "output_type": "stream",
     "text": [
      "2018-12-20 21:55:29,214 : INFO : worker thread finished; awaiting finish of 0 more threads\n",
      "2018-12-20 21:55:29,215 : INFO : EPOCH - 1 : training on 601 raw words (368 effective words) took 0.4s, 825 effective words/s\n",
      "2018-12-20 21:55:29,228 : INFO : worker thread finished; awaiting finish of 2 more threads\n",
      "2018-12-20 21:55:29,240 : INFO : worker thread finished; awaiting finish of 1 more threads\n",
      "2018-12-20 21:55:29,658 : INFO : worker thread finished; awaiting finish of 0 more threads\n",
      "2018-12-20 21:55:29,659 : INFO : EPOCH - 2 : training on 601 raw words (366 effective words) took 0.4s, 843 effective words/s\n",
      "2018-12-20 21:55:29,666 : INFO : worker thread finished; awaiting finish of 2 more threads\n",
      "2018-12-20 21:55:29,670 : INFO : worker thread finished; awaiting finish of 1 more threads\n",
      "2018-12-20 21:55:30,020 : INFO : worker thread finished; awaiting finish of 0 more threads\n",
      "2018-12-20 21:55:30,023 : INFO : EPOCH - 3 : training on 601 raw words (364 effective words) took 0.4s, 1020 effective words/s\n",
      "2018-12-20 21:55:30,031 : INFO : worker thread finished; awaiting finish of 2 more threads\n",
      "2018-12-20 21:55:30,036 : INFO : worker thread finished; awaiting finish of 1 more threads\n",
      "2018-12-20 21:55:30,381 : INFO : worker thread finished; awaiting finish of 0 more threads\n",
      "2018-12-20 21:55:30,384 : INFO : EPOCH - 4 : training on 601 raw words (364 effective words) took 0.4s, 1034 effective words/s\n",
      "2018-12-20 21:55:30,393 : INFO : worker thread finished; awaiting finish of 2 more threads\n",
      "2018-12-20 21:55:30,396 : INFO : worker thread finished; awaiting finish of 1 more threads\n",
      "2018-12-20 21:55:30,752 : INFO : worker thread finished; awaiting finish of 0 more threads\n",
      "2018-12-20 21:55:30,756 : INFO : EPOCH - 5 : training on 601 raw words (353 effective words) took 0.4s, 970 effective words/s\n",
      "2018-12-20 21:55:30,756 : INFO : training on a 3005 raw words (1815 effective words) took 2.0s, 911 effective words/s\n",
      "2018-12-20 21:55:30,756 : WARNING : under 10 jobs per worker: consider setting a smaller `batch_words' for smoother alpha decay\n",
      "2018-12-20 21:55:30,762 : INFO : training model with 3 workers on 263 vocabulary and 100 features, using sg=0 hs=0 sample=0.001 negative=5 window=5\n",
      "2018-12-20 21:55:30,775 : INFO : worker thread finished; awaiting finish of 2 more threads\n",
      "2018-12-20 21:55:30,778 : INFO : worker thread finished; awaiting finish of 1 more threads\n"
     ]
    },
    {
     "name": "stdout",
     "output_type": "stream",
     "text": [
      "iteration 57\n"
     ]
    },
    {
     "name": "stderr",
     "output_type": "stream",
     "text": [
      "2018-12-20 21:55:31,147 : INFO : worker thread finished; awaiting finish of 0 more threads\n",
      "2018-12-20 21:55:31,156 : INFO : EPOCH - 1 : training on 601 raw words (349 effective words) took 0.4s, 911 effective words/s\n",
      "2018-12-20 21:55:31,164 : INFO : worker thread finished; awaiting finish of 2 more threads\n",
      "2018-12-20 21:55:31,169 : INFO : worker thread finished; awaiting finish of 1 more threads\n",
      "2018-12-20 21:55:31,789 : INFO : worker thread finished; awaiting finish of 0 more threads\n",
      "2018-12-20 21:55:31,797 : INFO : EPOCH - 2 : training on 601 raw words (362 effective words) took 0.6s, 571 effective words/s\n",
      "2018-12-20 21:55:31,816 : INFO : worker thread finished; awaiting finish of 2 more threads\n",
      "2018-12-20 21:55:31,826 : INFO : worker thread finished; awaiting finish of 1 more threads\n",
      "2018-12-20 21:55:32,313 : INFO : worker thread finished; awaiting finish of 0 more threads\n",
      "2018-12-20 21:55:32,315 : INFO : EPOCH - 3 : training on 601 raw words (353 effective words) took 0.5s, 705 effective words/s\n",
      "2018-12-20 21:55:32,323 : INFO : worker thread finished; awaiting finish of 2 more threads\n",
      "2018-12-20 21:55:32,326 : INFO : worker thread finished; awaiting finish of 1 more threads\n",
      "2018-12-20 21:55:32,831 : INFO : worker thread finished; awaiting finish of 0 more threads\n",
      "2018-12-20 21:55:32,836 : INFO : EPOCH - 4 : training on 601 raw words (348 effective words) took 0.5s, 679 effective words/s\n",
      "2018-12-20 21:55:32,847 : INFO : worker thread finished; awaiting finish of 2 more threads\n",
      "2018-12-20 21:55:32,857 : INFO : worker thread finished; awaiting finish of 1 more threads\n",
      "2018-12-20 21:55:33,507 : INFO : worker thread finished; awaiting finish of 0 more threads\n",
      "2018-12-20 21:55:33,513 : INFO : EPOCH - 5 : training on 601 raw words (371 effective words) took 0.7s, 557 effective words/s\n",
      "2018-12-20 21:55:33,517 : INFO : training on a 3005 raw words (1783 effective words) took 2.8s, 648 effective words/s\n",
      "2018-12-20 21:55:33,521 : WARNING : under 10 jobs per worker: consider setting a smaller `batch_words' for smoother alpha decay\n",
      "2018-12-20 21:55:33,525 : INFO : training model with 3 workers on 263 vocabulary and 100 features, using sg=0 hs=0 sample=0.001 negative=5 window=5\n",
      "2018-12-20 21:55:33,542 : INFO : worker thread finished; awaiting finish of 2 more threads\n",
      "2018-12-20 21:55:33,550 : INFO : worker thread finished; awaiting finish of 1 more threads\n"
     ]
    },
    {
     "name": "stdout",
     "output_type": "stream",
     "text": [
      "iteration 58\n"
     ]
    },
    {
     "name": "stderr",
     "output_type": "stream",
     "text": [
      "2018-12-20 21:55:34,090 : INFO : worker thread finished; awaiting finish of 0 more threads\n",
      "2018-12-20 21:55:34,094 : INFO : EPOCH - 1 : training on 601 raw words (357 effective words) took 0.6s, 645 effective words/s\n",
      "2018-12-20 21:55:34,107 : INFO : worker thread finished; awaiting finish of 2 more threads\n",
      "2018-12-20 21:55:34,111 : INFO : worker thread finished; awaiting finish of 1 more threads\n",
      "2018-12-20 21:55:34,541 : INFO : worker thread finished; awaiting finish of 0 more threads\n",
      "2018-12-20 21:55:34,543 : INFO : EPOCH - 2 : training on 601 raw words (355 effective words) took 0.4s, 809 effective words/s\n",
      "2018-12-20 21:55:34,559 : INFO : worker thread finished; awaiting finish of 2 more threads\n",
      "2018-12-20 21:55:34,572 : INFO : worker thread finished; awaiting finish of 1 more threads\n",
      "2018-12-20 21:55:35,045 : INFO : worker thread finished; awaiting finish of 0 more threads\n",
      "2018-12-20 21:55:35,056 : INFO : EPOCH - 3 : training on 601 raw words (356 effective words) took 0.5s, 713 effective words/s\n",
      "2018-12-20 21:55:35,067 : INFO : worker thread finished; awaiting finish of 2 more threads\n",
      "2018-12-20 21:55:35,070 : INFO : worker thread finished; awaiting finish of 1 more threads\n",
      "2018-12-20 21:55:35,470 : INFO : worker thread finished; awaiting finish of 0 more threads\n",
      "2018-12-20 21:55:35,473 : INFO : EPOCH - 4 : training on 601 raw words (367 effective words) took 0.4s, 896 effective words/s\n",
      "2018-12-20 21:55:35,485 : INFO : worker thread finished; awaiting finish of 2 more threads\n",
      "2018-12-20 21:55:35,490 : INFO : worker thread finished; awaiting finish of 1 more threads\n",
      "2018-12-20 21:55:35,910 : INFO : worker thread finished; awaiting finish of 0 more threads\n",
      "2018-12-20 21:55:35,913 : INFO : EPOCH - 5 : training on 601 raw words (361 effective words) took 0.4s, 841 effective words/s\n",
      "2018-12-20 21:55:35,915 : INFO : training on a 3005 raw words (1796 effective words) took 2.4s, 753 effective words/s\n",
      "2018-12-20 21:55:35,915 : WARNING : under 10 jobs per worker: consider setting a smaller `batch_words' for smoother alpha decay\n",
      "2018-12-20 21:55:35,920 : INFO : training model with 3 workers on 263 vocabulary and 100 features, using sg=0 hs=0 sample=0.001 negative=5 window=5\n",
      "2018-12-20 21:55:35,932 : INFO : worker thread finished; awaiting finish of 2 more threads\n",
      "2018-12-20 21:55:35,941 : INFO : worker thread finished; awaiting finish of 1 more threads\n"
     ]
    },
    {
     "name": "stdout",
     "output_type": "stream",
     "text": [
      "iteration 59\n"
     ]
    },
    {
     "name": "stderr",
     "output_type": "stream",
     "text": [
      "2018-12-20 21:55:36,398 : INFO : worker thread finished; awaiting finish of 0 more threads\n",
      "2018-12-20 21:55:36,401 : INFO : EPOCH - 1 : training on 601 raw words (368 effective words) took 0.5s, 785 effective words/s\n",
      "2018-12-20 21:55:36,412 : INFO : worker thread finished; awaiting finish of 2 more threads\n",
      "2018-12-20 21:55:36,418 : INFO : worker thread finished; awaiting finish of 1 more threads\n",
      "2018-12-20 21:55:36,808 : INFO : worker thread finished; awaiting finish of 0 more threads\n",
      "2018-12-20 21:55:36,809 : INFO : EPOCH - 2 : training on 601 raw words (363 effective words) took 0.4s, 906 effective words/s\n",
      "2018-12-20 21:55:36,818 : INFO : worker thread finished; awaiting finish of 2 more threads\n",
      "2018-12-20 21:55:36,826 : INFO : worker thread finished; awaiting finish of 1 more threads\n",
      "2018-12-20 21:55:37,206 : INFO : worker thread finished; awaiting finish of 0 more threads\n",
      "2018-12-20 21:55:37,210 : INFO : EPOCH - 3 : training on 601 raw words (357 effective words) took 0.4s, 907 effective words/s\n",
      "2018-12-20 21:55:37,224 : INFO : worker thread finished; awaiting finish of 2 more threads\n",
      "2018-12-20 21:55:37,240 : INFO : worker thread finished; awaiting finish of 1 more threads\n",
      "2018-12-20 21:55:37,685 : INFO : worker thread finished; awaiting finish of 0 more threads\n",
      "2018-12-20 21:55:37,688 : INFO : EPOCH - 4 : training on 601 raw words (360 effective words) took 0.5s, 768 effective words/s\n",
      "2018-12-20 21:55:37,696 : INFO : worker thread finished; awaiting finish of 2 more threads\n",
      "2018-12-20 21:55:37,702 : INFO : worker thread finished; awaiting finish of 1 more threads\n",
      "2018-12-20 21:55:37,940 : INFO : worker thread finished; awaiting finish of 0 more threads\n",
      "2018-12-20 21:55:37,943 : INFO : EPOCH - 5 : training on 601 raw words (343 effective words) took 0.2s, 1385 effective words/s\n",
      "2018-12-20 21:55:37,943 : INFO : training on a 3005 raw words (1791 effective words) took 2.0s, 887 effective words/s\n",
      "2018-12-20 21:55:37,944 : WARNING : under 10 jobs per worker: consider setting a smaller `batch_words' for smoother alpha decay\n",
      "2018-12-20 21:55:37,946 : INFO : training model with 3 workers on 263 vocabulary and 100 features, using sg=0 hs=0 sample=0.001 negative=5 window=5\n",
      "2018-12-20 21:55:37,951 : INFO : worker thread finished; awaiting finish of 2 more threads\n",
      "2018-12-20 21:55:37,953 : INFO : worker thread finished; awaiting finish of 1 more threads\n"
     ]
    },
    {
     "name": "stdout",
     "output_type": "stream",
     "text": [
      "iteration 60\n"
     ]
    },
    {
     "name": "stderr",
     "output_type": "stream",
     "text": [
      "2018-12-20 21:55:38,240 : INFO : worker thread finished; awaiting finish of 0 more threads\n",
      "2018-12-20 21:55:38,242 : INFO : EPOCH - 1 : training on 601 raw words (349 effective words) took 0.3s, 1194 effective words/s\n",
      "2018-12-20 21:55:38,255 : INFO : worker thread finished; awaiting finish of 2 more threads\n",
      "2018-12-20 21:55:38,258 : INFO : worker thread finished; awaiting finish of 1 more threads\n",
      "2018-12-20 21:55:38,634 : INFO : worker thread finished; awaiting finish of 0 more threads\n",
      "2018-12-20 21:55:38,636 : INFO : EPOCH - 2 : training on 601 raw words (363 effective words) took 0.4s, 945 effective words/s\n",
      "2018-12-20 21:55:38,650 : INFO : worker thread finished; awaiting finish of 2 more threads\n",
      "2018-12-20 21:55:38,655 : INFO : worker thread finished; awaiting finish of 1 more threads\n",
      "2018-12-20 21:55:38,895 : INFO : worker thread finished; awaiting finish of 0 more threads\n",
      "2018-12-20 21:55:38,895 : INFO : EPOCH - 3 : training on 601 raw words (350 effective words) took 0.3s, 1363 effective words/s\n",
      "2018-12-20 21:55:38,914 : INFO : worker thread finished; awaiting finish of 2 more threads\n",
      "2018-12-20 21:55:38,915 : INFO : worker thread finished; awaiting finish of 1 more threads\n",
      "2018-12-20 21:55:39,174 : INFO : worker thread finished; awaiting finish of 0 more threads\n",
      "2018-12-20 21:55:39,176 : INFO : EPOCH - 4 : training on 601 raw words (349 effective words) took 0.3s, 1311 effective words/s\n",
      "2018-12-20 21:55:39,184 : INFO : worker thread finished; awaiting finish of 2 more threads\n",
      "2018-12-20 21:55:39,191 : INFO : worker thread finished; awaiting finish of 1 more threads\n",
      "2018-12-20 21:55:39,372 : INFO : worker thread finished; awaiting finish of 0 more threads\n",
      "2018-12-20 21:55:39,382 : INFO : EPOCH - 5 : training on 601 raw words (344 effective words) took 0.2s, 1721 effective words/s\n",
      "2018-12-20 21:55:39,384 : INFO : training on a 3005 raw words (1755 effective words) took 1.4s, 1221 effective words/s\n",
      "2018-12-20 21:55:39,385 : WARNING : under 10 jobs per worker: consider setting a smaller `batch_words' for smoother alpha decay\n",
      "2018-12-20 21:55:39,388 : INFO : training model with 3 workers on 263 vocabulary and 100 features, using sg=0 hs=0 sample=0.001 negative=5 window=5\n",
      "2018-12-20 21:55:39,396 : INFO : worker thread finished; awaiting finish of 2 more threads\n",
      "2018-12-20 21:55:39,398 : INFO : worker thread finished; awaiting finish of 1 more threads\n"
     ]
    },
    {
     "name": "stdout",
     "output_type": "stream",
     "text": [
      "iteration 61\n"
     ]
    },
    {
     "name": "stderr",
     "output_type": "stream",
     "text": [
      "2018-12-20 21:55:39,693 : INFO : worker thread finished; awaiting finish of 0 more threads\n",
      "2018-12-20 21:55:39,693 : INFO : EPOCH - 1 : training on 601 raw words (366 effective words) took 0.3s, 1202 effective words/s\n",
      "2018-12-20 21:55:39,711 : INFO : worker thread finished; awaiting finish of 2 more threads\n",
      "2018-12-20 21:55:39,714 : INFO : worker thread finished; awaiting finish of 1 more threads\n",
      "2018-12-20 21:55:40,025 : INFO : worker thread finished; awaiting finish of 0 more threads\n",
      "2018-12-20 21:55:40,033 : INFO : EPOCH - 2 : training on 601 raw words (345 effective words) took 0.3s, 1066 effective words/s\n",
      "2018-12-20 21:55:40,043 : INFO : worker thread finished; awaiting finish of 2 more threads\n",
      "2018-12-20 21:55:40,047 : INFO : worker thread finished; awaiting finish of 1 more threads\n",
      "2018-12-20 21:55:40,356 : INFO : worker thread finished; awaiting finish of 0 more threads\n",
      "2018-12-20 21:55:40,363 : INFO : EPOCH - 3 : training on 601 raw words (350 effective words) took 0.3s, 1089 effective words/s\n",
      "2018-12-20 21:55:40,374 : INFO : worker thread finished; awaiting finish of 2 more threads\n",
      "2018-12-20 21:55:40,378 : INFO : worker thread finished; awaiting finish of 1 more threads\n",
      "2018-12-20 21:55:40,692 : INFO : worker thread finished; awaiting finish of 0 more threads\n",
      "2018-12-20 21:55:40,694 : INFO : EPOCH - 4 : training on 601 raw words (353 effective words) took 0.3s, 1098 effective words/s\n",
      "2018-12-20 21:55:40,708 : INFO : worker thread finished; awaiting finish of 2 more threads\n",
      "2018-12-20 21:55:40,711 : INFO : worker thread finished; awaiting finish of 1 more threads\n",
      "2018-12-20 21:55:41,024 : INFO : worker thread finished; awaiting finish of 0 more threads\n",
      "2018-12-20 21:55:41,026 : INFO : EPOCH - 5 : training on 601 raw words (353 effective words) took 0.3s, 1087 effective words/s\n",
      "2018-12-20 21:55:41,026 : INFO : training on a 3005 raw words (1767 effective words) took 1.6s, 1079 effective words/s\n",
      "2018-12-20 21:55:41,026 : WARNING : under 10 jobs per worker: consider setting a smaller `batch_words' for smoother alpha decay\n",
      "2018-12-20 21:55:41,032 : INFO : training model with 3 workers on 263 vocabulary and 100 features, using sg=0 hs=0 sample=0.001 negative=5 window=5\n",
      "2018-12-20 21:55:41,045 : INFO : worker thread finished; awaiting finish of 2 more threads\n",
      "2018-12-20 21:55:41,048 : INFO : worker thread finished; awaiting finish of 1 more threads\n"
     ]
    },
    {
     "name": "stdout",
     "output_type": "stream",
     "text": [
      "iteration 62\n"
     ]
    },
    {
     "name": "stderr",
     "output_type": "stream",
     "text": [
      "2018-12-20 21:55:41,305 : INFO : worker thread finished; awaiting finish of 0 more threads\n",
      "2018-12-20 21:55:41,305 : INFO : EPOCH - 1 : training on 601 raw words (362 effective words) took 0.3s, 1360 effective words/s\n",
      "2018-12-20 21:55:41,314 : INFO : worker thread finished; awaiting finish of 2 more threads\n",
      "2018-12-20 21:55:41,317 : INFO : worker thread finished; awaiting finish of 1 more threads\n",
      "2018-12-20 21:55:41,502 : INFO : worker thread finished; awaiting finish of 0 more threads\n",
      "2018-12-20 21:55:41,506 : INFO : EPOCH - 2 : training on 601 raw words (355 effective words) took 0.2s, 1838 effective words/s\n",
      "2018-12-20 21:55:41,516 : INFO : worker thread finished; awaiting finish of 2 more threads\n",
      "2018-12-20 21:55:41,521 : INFO : worker thread finished; awaiting finish of 1 more threads\n",
      "2018-12-20 21:55:41,840 : INFO : worker thread finished; awaiting finish of 0 more threads\n",
      "2018-12-20 21:55:41,843 : INFO : EPOCH - 3 : training on 601 raw words (355 effective words) took 0.3s, 1081 effective words/s\n",
      "2018-12-20 21:55:41,852 : INFO : worker thread finished; awaiting finish of 2 more threads\n",
      "2018-12-20 21:55:41,858 : INFO : worker thread finished; awaiting finish of 1 more threads\n",
      "2018-12-20 21:55:42,082 : INFO : worker thread finished; awaiting finish of 0 more threads\n",
      "2018-12-20 21:55:42,085 : INFO : EPOCH - 4 : training on 601 raw words (364 effective words) took 0.2s, 1563 effective words/s\n",
      "2018-12-20 21:55:42,090 : INFO : worker thread finished; awaiting finish of 2 more threads\n",
      "2018-12-20 21:55:42,095 : INFO : worker thread finished; awaiting finish of 1 more threads\n",
      "2018-12-20 21:55:42,357 : INFO : worker thread finished; awaiting finish of 0 more threads\n",
      "2018-12-20 21:55:42,357 : INFO : EPOCH - 5 : training on 601 raw words (360 effective words) took 0.3s, 1328 effective words/s\n",
      "2018-12-20 21:55:42,362 : INFO : training on a 3005 raw words (1796 effective words) took 1.3s, 1352 effective words/s\n",
      "2018-12-20 21:55:42,362 : WARNING : under 10 jobs per worker: consider setting a smaller `batch_words' for smoother alpha decay\n",
      "2018-12-20 21:55:42,366 : INFO : training model with 3 workers on 263 vocabulary and 100 features, using sg=0 hs=0 sample=0.001 negative=5 window=5\n",
      "2018-12-20 21:55:42,379 : INFO : worker thread finished; awaiting finish of 2 more threads\n",
      "2018-12-20 21:55:42,383 : INFO : worker thread finished; awaiting finish of 1 more threads\n"
     ]
    },
    {
     "name": "stdout",
     "output_type": "stream",
     "text": [
      "iteration 63\n"
     ]
    },
    {
     "name": "stderr",
     "output_type": "stream",
     "text": [
      "2018-12-20 21:55:42,713 : INFO : worker thread finished; awaiting finish of 0 more threads\n",
      "2018-12-20 21:55:42,715 : INFO : EPOCH - 1 : training on 601 raw words (349 effective words) took 0.3s, 1034 effective words/s\n",
      "2018-12-20 21:55:42,726 : INFO : worker thread finished; awaiting finish of 2 more threads\n",
      "2018-12-20 21:55:42,729 : INFO : worker thread finished; awaiting finish of 1 more threads\n",
      "2018-12-20 21:55:43,066 : INFO : worker thread finished; awaiting finish of 0 more threads\n",
      "2018-12-20 21:55:43,066 : INFO : EPOCH - 2 : training on 601 raw words (365 effective words) took 0.3s, 1057 effective words/s\n",
      "2018-12-20 21:55:43,079 : INFO : worker thread finished; awaiting finish of 2 more threads\n",
      "2018-12-20 21:55:43,085 : INFO : worker thread finished; awaiting finish of 1 more threads\n",
      "2018-12-20 21:55:43,385 : INFO : worker thread finished; awaiting finish of 0 more threads\n",
      "2018-12-20 21:55:43,386 : INFO : EPOCH - 3 : training on 601 raw words (378 effective words) took 0.3s, 1231 effective words/s\n",
      "2018-12-20 21:55:43,394 : INFO : worker thread finished; awaiting finish of 2 more threads\n",
      "2018-12-20 21:55:43,397 : INFO : worker thread finished; awaiting finish of 1 more threads\n",
      "2018-12-20 21:55:43,654 : INFO : worker thread finished; awaiting finish of 0 more threads\n",
      "2018-12-20 21:55:43,655 : INFO : EPOCH - 4 : training on 601 raw words (345 effective words) took 0.3s, 1315 effective words/s\n",
      "2018-12-20 21:55:43,665 : INFO : worker thread finished; awaiting finish of 2 more threads\n",
      "2018-12-20 21:55:43,668 : INFO : worker thread finished; awaiting finish of 1 more threads\n",
      "2018-12-20 21:55:43,923 : INFO : worker thread finished; awaiting finish of 0 more threads\n",
      "2018-12-20 21:55:43,925 : INFO : EPOCH - 5 : training on 601 raw words (363 effective words) took 0.3s, 1391 effective words/s\n",
      "2018-12-20 21:55:43,925 : INFO : training on a 3005 raw words (1800 effective words) took 1.6s, 1155 effective words/s\n",
      "2018-12-20 21:55:43,925 : WARNING : under 10 jobs per worker: consider setting a smaller `batch_words' for smoother alpha decay\n",
      "2018-12-20 21:55:43,931 : INFO : training model with 3 workers on 263 vocabulary and 100 features, using sg=0 hs=0 sample=0.001 negative=5 window=5\n",
      "2018-12-20 21:55:43,939 : INFO : worker thread finished; awaiting finish of 2 more threads\n",
      "2018-12-20 21:55:43,942 : INFO : worker thread finished; awaiting finish of 1 more threads\n"
     ]
    },
    {
     "name": "stdout",
     "output_type": "stream",
     "text": [
      "iteration 64\n"
     ]
    },
    {
     "name": "stderr",
     "output_type": "stream",
     "text": [
      "2018-12-20 21:55:44,158 : INFO : worker thread finished; awaiting finish of 0 more threads\n",
      "2018-12-20 21:55:44,160 : INFO : EPOCH - 1 : training on 601 raw words (365 effective words) took 0.2s, 1636 effective words/s\n",
      "2018-12-20 21:55:44,168 : INFO : worker thread finished; awaiting finish of 2 more threads\n",
      "2018-12-20 21:55:44,174 : INFO : worker thread finished; awaiting finish of 1 more threads\n",
      "2018-12-20 21:55:44,432 : INFO : worker thread finished; awaiting finish of 0 more threads\n",
      "2018-12-20 21:55:44,434 : INFO : EPOCH - 2 : training on 601 raw words (366 effective words) took 0.3s, 1378 effective words/s\n",
      "2018-12-20 21:55:44,442 : INFO : worker thread finished; awaiting finish of 2 more threads\n",
      "2018-12-20 21:55:44,445 : INFO : worker thread finished; awaiting finish of 1 more threads\n",
      "2018-12-20 21:55:44,773 : INFO : worker thread finished; awaiting finish of 0 more threads\n",
      "2018-12-20 21:55:44,774 : INFO : EPOCH - 3 : training on 601 raw words (349 effective words) took 0.3s, 1050 effective words/s\n",
      "2018-12-20 21:55:44,783 : INFO : worker thread finished; awaiting finish of 2 more threads\n",
      "2018-12-20 21:55:44,793 : INFO : worker thread finished; awaiting finish of 1 more threads\n",
      "2018-12-20 21:55:45,124 : INFO : worker thread finished; awaiting finish of 0 more threads\n",
      "2018-12-20 21:55:45,127 : INFO : EPOCH - 4 : training on 601 raw words (352 effective words) took 0.3s, 1022 effective words/s\n",
      "2018-12-20 21:55:45,137 : INFO : worker thread finished; awaiting finish of 2 more threads\n",
      "2018-12-20 21:55:45,143 : INFO : worker thread finished; awaiting finish of 1 more threads\n",
      "2018-12-20 21:55:45,454 : INFO : worker thread finished; awaiting finish of 0 more threads\n",
      "2018-12-20 21:55:45,456 : INFO : EPOCH - 5 : training on 601 raw words (355 effective words) took 0.3s, 1108 effective words/s\n",
      "2018-12-20 21:55:45,456 : INFO : training on a 3005 raw words (1787 effective words) took 1.5s, 1171 effective words/s\n",
      "2018-12-20 21:55:45,460 : WARNING : under 10 jobs per worker: consider setting a smaller `batch_words' for smoother alpha decay\n",
      "2018-12-20 21:55:45,463 : INFO : training model with 3 workers on 263 vocabulary and 100 features, using sg=0 hs=0 sample=0.001 negative=5 window=5\n",
      "2018-12-20 21:55:45,473 : INFO : worker thread finished; awaiting finish of 2 more threads\n",
      "2018-12-20 21:55:45,482 : INFO : worker thread finished; awaiting finish of 1 more threads\n"
     ]
    },
    {
     "name": "stdout",
     "output_type": "stream",
     "text": [
      "iteration 65\n"
     ]
    },
    {
     "name": "stderr",
     "output_type": "stream",
     "text": [
      "2018-12-20 21:55:45,802 : INFO : worker thread finished; awaiting finish of 0 more threads\n",
      "2018-12-20 21:55:45,804 : INFO : EPOCH - 1 : training on 601 raw words (362 effective words) took 0.3s, 1093 effective words/s\n",
      "2018-12-20 21:55:45,812 : INFO : worker thread finished; awaiting finish of 2 more threads\n",
      "2018-12-20 21:55:45,816 : INFO : worker thread finished; awaiting finish of 1 more threads\n",
      "2018-12-20 21:55:46,044 : INFO : worker thread finished; awaiting finish of 0 more threads\n",
      "2018-12-20 21:55:46,049 : INFO : EPOCH - 2 : training on 601 raw words (350 effective words) took 0.2s, 1476 effective words/s\n",
      "2018-12-20 21:55:46,056 : INFO : worker thread finished; awaiting finish of 2 more threads\n",
      "2018-12-20 21:55:46,060 : INFO : worker thread finished; awaiting finish of 1 more threads\n",
      "2018-12-20 21:55:46,449 : INFO : worker thread finished; awaiting finish of 0 more threads\n",
      "2018-12-20 21:55:46,453 : INFO : EPOCH - 3 : training on 601 raw words (351 effective words) took 0.4s, 884 effective words/s\n",
      "2018-12-20 21:55:46,467 : INFO : worker thread finished; awaiting finish of 2 more threads\n",
      "2018-12-20 21:55:46,475 : INFO : worker thread finished; awaiting finish of 1 more threads\n",
      "2018-12-20 21:55:46,790 : INFO : worker thread finished; awaiting finish of 0 more threads\n",
      "2018-12-20 21:55:46,793 : INFO : EPOCH - 4 : training on 601 raw words (369 effective words) took 0.3s, 1125 effective words/s\n",
      "2018-12-20 21:55:46,815 : INFO : worker thread finished; awaiting finish of 2 more threads\n",
      "2018-12-20 21:55:46,827 : INFO : worker thread finished; awaiting finish of 1 more threads\n",
      "2018-12-20 21:55:47,127 : INFO : worker thread finished; awaiting finish of 0 more threads\n",
      "2018-12-20 21:55:47,131 : INFO : EPOCH - 5 : training on 601 raw words (370 effective words) took 0.3s, 1151 effective words/s\n",
      "2018-12-20 21:55:47,132 : INFO : training on a 3005 raw words (1802 effective words) took 1.7s, 1081 effective words/s\n",
      "2018-12-20 21:55:47,134 : WARNING : under 10 jobs per worker: consider setting a smaller `batch_words' for smoother alpha decay\n",
      "2018-12-20 21:55:47,136 : INFO : training model with 3 workers on 263 vocabulary and 100 features, using sg=0 hs=0 sample=0.001 negative=5 window=5\n",
      "2018-12-20 21:55:47,143 : INFO : worker thread finished; awaiting finish of 2 more threads\n",
      "2018-12-20 21:55:47,148 : INFO : worker thread finished; awaiting finish of 1 more threads\n"
     ]
    },
    {
     "name": "stdout",
     "output_type": "stream",
     "text": [
      "iteration 66\n"
     ]
    },
    {
     "name": "stderr",
     "output_type": "stream",
     "text": [
      "2018-12-20 21:55:47,481 : INFO : worker thread finished; awaiting finish of 0 more threads\n",
      "2018-12-20 21:55:47,483 : INFO : EPOCH - 1 : training on 601 raw words (366 effective words) took 0.3s, 1073 effective words/s\n",
      "2018-12-20 21:55:47,495 : INFO : worker thread finished; awaiting finish of 2 more threads\n",
      "2018-12-20 21:55:47,501 : INFO : worker thread finished; awaiting finish of 1 more threads\n",
      "2018-12-20 21:55:48,071 : INFO : worker thread finished; awaiting finish of 0 more threads\n",
      "2018-12-20 21:55:48,078 : INFO : EPOCH - 2 : training on 601 raw words (355 effective words) took 0.6s, 606 effective words/s\n",
      "2018-12-20 21:55:48,094 : INFO : worker thread finished; awaiting finish of 2 more threads\n",
      "2018-12-20 21:55:48,100 : INFO : worker thread finished; awaiting finish of 1 more threads\n",
      "2018-12-20 21:55:48,536 : INFO : worker thread finished; awaiting finish of 0 more threads\n",
      "2018-12-20 21:55:48,541 : INFO : EPOCH - 3 : training on 601 raw words (353 effective words) took 0.4s, 785 effective words/s\n",
      "2018-12-20 21:55:48,557 : INFO : worker thread finished; awaiting finish of 2 more threads\n",
      "2018-12-20 21:55:48,563 : INFO : worker thread finished; awaiting finish of 1 more threads\n",
      "2018-12-20 21:55:49,052 : INFO : worker thread finished; awaiting finish of 0 more threads\n",
      "2018-12-20 21:55:49,056 : INFO : EPOCH - 4 : training on 601 raw words (359 effective words) took 0.5s, 710 effective words/s\n",
      "2018-12-20 21:55:49,066 : INFO : worker thread finished; awaiting finish of 2 more threads\n",
      "2018-12-20 21:55:49,072 : INFO : worker thread finished; awaiting finish of 1 more threads\n",
      "2018-12-20 21:55:49,496 : INFO : worker thread finished; awaiting finish of 0 more threads\n",
      "2018-12-20 21:55:49,501 : INFO : EPOCH - 5 : training on 601 raw words (363 effective words) took 0.4s, 833 effective words/s\n",
      "2018-12-20 21:55:49,502 : INFO : training on a 3005 raw words (1796 effective words) took 2.4s, 759 effective words/s\n",
      "2018-12-20 21:55:49,503 : WARNING : under 10 jobs per worker: consider setting a smaller `batch_words' for smoother alpha decay\n",
      "2018-12-20 21:55:49,505 : INFO : training model with 3 workers on 263 vocabulary and 100 features, using sg=0 hs=0 sample=0.001 negative=5 window=5\n",
      "2018-12-20 21:55:49,513 : INFO : worker thread finished; awaiting finish of 2 more threads\n",
      "2018-12-20 21:55:49,516 : INFO : worker thread finished; awaiting finish of 1 more threads\n"
     ]
    },
    {
     "name": "stdout",
     "output_type": "stream",
     "text": [
      "iteration 67\n"
     ]
    },
    {
     "name": "stderr",
     "output_type": "stream",
     "text": [
      "2018-12-20 21:55:49,800 : INFO : worker thread finished; awaiting finish of 0 more threads\n",
      "2018-12-20 21:55:49,802 : INFO : EPOCH - 1 : training on 601 raw words (359 effective words) took 0.3s, 1244 effective words/s\n",
      "2018-12-20 21:55:49,808 : INFO : worker thread finished; awaiting finish of 2 more threads\n",
      "2018-12-20 21:55:49,812 : INFO : worker thread finished; awaiting finish of 1 more threads\n",
      "2018-12-20 21:55:50,083 : INFO : worker thread finished; awaiting finish of 0 more threads\n",
      "2018-12-20 21:55:50,085 : INFO : EPOCH - 2 : training on 601 raw words (343 effective words) took 0.3s, 1237 effective words/s\n",
      "2018-12-20 21:55:50,092 : INFO : worker thread finished; awaiting finish of 2 more threads\n",
      "2018-12-20 21:55:50,094 : INFO : worker thread finished; awaiting finish of 1 more threads\n",
      "2018-12-20 21:55:50,410 : INFO : worker thread finished; awaiting finish of 0 more threads\n",
      "2018-12-20 21:55:50,415 : INFO : EPOCH - 3 : training on 601 raw words (353 effective words) took 0.3s, 1086 effective words/s\n",
      "2018-12-20 21:55:50,428 : INFO : worker thread finished; awaiting finish of 2 more threads\n",
      "2018-12-20 21:55:50,430 : INFO : worker thread finished; awaiting finish of 1 more threads\n",
      "2018-12-20 21:55:50,752 : INFO : worker thread finished; awaiting finish of 0 more threads\n",
      "2018-12-20 21:55:50,758 : INFO : EPOCH - 4 : training on 601 raw words (356 effective words) took 0.3s, 1073 effective words/s\n",
      "2018-12-20 21:55:50,770 : INFO : worker thread finished; awaiting finish of 2 more threads\n",
      "2018-12-20 21:55:50,779 : INFO : worker thread finished; awaiting finish of 1 more threads\n",
      "2018-12-20 21:55:51,087 : INFO : worker thread finished; awaiting finish of 0 more threads\n",
      "2018-12-20 21:55:51,092 : INFO : EPOCH - 5 : training on 601 raw words (338 effective words) took 0.3s, 1045 effective words/s\n",
      "2018-12-20 21:55:51,094 : INFO : training on a 3005 raw words (1749 effective words) took 1.6s, 1103 effective words/s\n",
      "2018-12-20 21:55:51,096 : WARNING : under 10 jobs per worker: consider setting a smaller `batch_words' for smoother alpha decay\n",
      "2018-12-20 21:55:51,099 : INFO : training model with 3 workers on 263 vocabulary and 100 features, using sg=0 hs=0 sample=0.001 negative=5 window=5\n",
      "2018-12-20 21:55:51,111 : INFO : worker thread finished; awaiting finish of 2 more threads\n",
      "2018-12-20 21:55:51,121 : INFO : worker thread finished; awaiting finish of 1 more threads\n"
     ]
    },
    {
     "name": "stdout",
     "output_type": "stream",
     "text": [
      "iteration 68\n"
     ]
    },
    {
     "name": "stderr",
     "output_type": "stream",
     "text": [
      "2018-12-20 21:55:51,668 : INFO : worker thread finished; awaiting finish of 0 more threads\n",
      "2018-12-20 21:55:51,671 : INFO : EPOCH - 1 : training on 601 raw words (364 effective words) took 0.6s, 649 effective words/s\n",
      "2018-12-20 21:55:51,678 : INFO : worker thread finished; awaiting finish of 2 more threads\n",
      "2018-12-20 21:55:51,681 : INFO : worker thread finished; awaiting finish of 1 more threads\n",
      "2018-12-20 21:55:51,985 : INFO : worker thread finished; awaiting finish of 0 more threads\n",
      "2018-12-20 21:55:51,996 : INFO : EPOCH - 2 : training on 601 raw words (365 effective words) took 0.3s, 1142 effective words/s\n",
      "2018-12-20 21:55:52,012 : INFO : worker thread finished; awaiting finish of 2 more threads\n",
      "2018-12-20 21:55:52,018 : INFO : worker thread finished; awaiting finish of 1 more threads\n",
      "2018-12-20 21:55:52,358 : INFO : worker thread finished; awaiting finish of 0 more threads\n",
      "2018-12-20 21:55:52,363 : INFO : EPOCH - 3 : training on 601 raw words (370 effective words) took 0.4s, 1048 effective words/s\n",
      "2018-12-20 21:55:52,369 : INFO : worker thread finished; awaiting finish of 2 more threads\n",
      "2018-12-20 21:55:52,375 : INFO : worker thread finished; awaiting finish of 1 more threads\n",
      "2018-12-20 21:55:52,866 : INFO : worker thread finished; awaiting finish of 0 more threads\n",
      "2018-12-20 21:55:52,869 : INFO : EPOCH - 4 : training on 601 raw words (371 effective words) took 0.5s, 743 effective words/s\n",
      "2018-12-20 21:55:52,874 : INFO : worker thread finished; awaiting finish of 2 more threads\n",
      "2018-12-20 21:55:52,880 : INFO : worker thread finished; awaiting finish of 1 more threads\n",
      "2018-12-20 21:55:53,096 : INFO : worker thread finished; awaiting finish of 0 more threads\n",
      "2018-12-20 21:55:53,098 : INFO : EPOCH - 5 : training on 601 raw words (373 effective words) took 0.2s, 1668 effective words/s\n",
      "2018-12-20 21:55:53,098 : INFO : training on a 3005 raw words (1843 effective words) took 2.0s, 922 effective words/s\n",
      "2018-12-20 21:55:53,098 : WARNING : under 10 jobs per worker: consider setting a smaller `batch_words' for smoother alpha decay\n",
      "2018-12-20 21:55:53,098 : INFO : training model with 3 workers on 263 vocabulary and 100 features, using sg=0 hs=0 sample=0.001 negative=5 window=5\n",
      "2018-12-20 21:55:53,108 : INFO : worker thread finished; awaiting finish of 2 more threads\n",
      "2018-12-20 21:55:53,110 : INFO : worker thread finished; awaiting finish of 1 more threads\n"
     ]
    },
    {
     "name": "stdout",
     "output_type": "stream",
     "text": [
      "iteration 69\n"
     ]
    },
    {
     "name": "stderr",
     "output_type": "stream",
     "text": [
      "2018-12-20 21:55:53,412 : INFO : worker thread finished; awaiting finish of 0 more threads\n",
      "2018-12-20 21:55:53,417 : INFO : EPOCH - 1 : training on 601 raw words (354 effective words) took 0.3s, 1145 effective words/s\n",
      "2018-12-20 21:55:53,430 : INFO : worker thread finished; awaiting finish of 2 more threads\n",
      "2018-12-20 21:55:53,433 : INFO : worker thread finished; awaiting finish of 1 more threads\n",
      "2018-12-20 21:55:53,840 : INFO : worker thread finished; awaiting finish of 0 more threads\n",
      "2018-12-20 21:55:53,843 : INFO : EPOCH - 2 : training on 601 raw words (371 effective words) took 0.4s, 893 effective words/s\n",
      "2018-12-20 21:55:53,854 : INFO : worker thread finished; awaiting finish of 2 more threads\n",
      "2018-12-20 21:55:53,859 : INFO : worker thread finished; awaiting finish of 1 more threads\n",
      "2018-12-20 21:55:54,110 : INFO : worker thread finished; awaiting finish of 0 more threads\n",
      "2018-12-20 21:55:54,114 : INFO : EPOCH - 3 : training on 601 raw words (362 effective words) took 0.3s, 1391 effective words/s\n",
      "2018-12-20 21:55:54,130 : INFO : worker thread finished; awaiting finish of 2 more threads\n",
      "2018-12-20 21:55:54,145 : INFO : worker thread finished; awaiting finish of 1 more threads\n",
      "2018-12-20 21:55:54,721 : INFO : worker thread finished; awaiting finish of 0 more threads\n",
      "2018-12-20 21:55:54,725 : INFO : EPOCH - 4 : training on 601 raw words (362 effective words) took 0.6s, 607 effective words/s\n",
      "2018-12-20 21:55:54,738 : INFO : worker thread finished; awaiting finish of 2 more threads\n",
      "2018-12-20 21:55:54,741 : INFO : worker thread finished; awaiting finish of 1 more threads\n",
      "2018-12-20 21:55:55,250 : INFO : worker thread finished; awaiting finish of 0 more threads\n",
      "2018-12-20 21:55:55,258 : INFO : EPOCH - 5 : training on 601 raw words (355 effective words) took 0.5s, 680 effective words/s\n",
      "2018-12-20 21:55:55,268 : INFO : training on a 3005 raw words (1804 effective words) took 2.2s, 833 effective words/s\n",
      "2018-12-20 21:55:55,278 : WARNING : under 10 jobs per worker: consider setting a smaller `batch_words' for smoother alpha decay\n",
      "2018-12-20 21:55:55,293 : INFO : training model with 3 workers on 263 vocabulary and 100 features, using sg=0 hs=0 sample=0.001 negative=5 window=5\n",
      "2018-12-20 21:55:55,324 : INFO : worker thread finished; awaiting finish of 2 more threads\n",
      "2018-12-20 21:55:55,331 : INFO : worker thread finished; awaiting finish of 1 more threads\n"
     ]
    },
    {
     "name": "stdout",
     "output_type": "stream",
     "text": [
      "iteration 70\n"
     ]
    },
    {
     "name": "stderr",
     "output_type": "stream",
     "text": [
      "2018-12-20 21:55:55,589 : INFO : worker thread finished; awaiting finish of 0 more threads\n",
      "2018-12-20 21:55:55,592 : INFO : EPOCH - 1 : training on 601 raw words (352 effective words) took 0.3s, 1306 effective words/s\n",
      "2018-12-20 21:55:55,597 : INFO : worker thread finished; awaiting finish of 2 more threads\n",
      "2018-12-20 21:55:55,608 : INFO : worker thread finished; awaiting finish of 1 more threads\n",
      "2018-12-20 21:55:55,832 : INFO : worker thread finished; awaiting finish of 0 more threads\n",
      "2018-12-20 21:55:55,834 : INFO : EPOCH - 2 : training on 601 raw words (356 effective words) took 0.2s, 1508 effective words/s\n",
      "2018-12-20 21:55:55,843 : INFO : worker thread finished; awaiting finish of 2 more threads\n",
      "2018-12-20 21:55:55,845 : INFO : worker thread finished; awaiting finish of 1 more threads\n",
      "2018-12-20 21:55:56,307 : INFO : worker thread finished; awaiting finish of 0 more threads\n",
      "2018-12-20 21:55:56,310 : INFO : EPOCH - 3 : training on 601 raw words (363 effective words) took 0.5s, 775 effective words/s\n",
      "2018-12-20 21:55:56,321 : INFO : worker thread finished; awaiting finish of 2 more threads\n",
      "2018-12-20 21:55:56,330 : INFO : worker thread finished; awaiting finish of 1 more threads\n",
      "2018-12-20 21:55:56,736 : INFO : worker thread finished; awaiting finish of 0 more threads\n",
      "2018-12-20 21:55:56,740 : INFO : EPOCH - 4 : training on 601 raw words (363 effective words) took 0.4s, 866 effective words/s\n",
      "2018-12-20 21:55:56,754 : INFO : worker thread finished; awaiting finish of 2 more threads\n",
      "2018-12-20 21:55:56,766 : INFO : worker thread finished; awaiting finish of 1 more threads\n",
      "2018-12-20 21:55:57,096 : INFO : worker thread finished; awaiting finish of 0 more threads\n",
      "2018-12-20 21:55:57,100 : INFO : EPOCH - 5 : training on 601 raw words (358 effective words) took 0.3s, 1023 effective words/s\n",
      "2018-12-20 21:55:57,103 : INFO : training on a 3005 raw words (1792 effective words) took 1.8s, 996 effective words/s\n",
      "2018-12-20 21:55:57,106 : WARNING : under 10 jobs per worker: consider setting a smaller `batch_words' for smoother alpha decay\n",
      "2018-12-20 21:55:57,109 : INFO : training model with 3 workers on 263 vocabulary and 100 features, using sg=0 hs=0 sample=0.001 negative=5 window=5\n",
      "2018-12-20 21:55:57,120 : INFO : worker thread finished; awaiting finish of 2 more threads\n",
      "2018-12-20 21:55:57,125 : INFO : worker thread finished; awaiting finish of 1 more threads\n"
     ]
    },
    {
     "name": "stdout",
     "output_type": "stream",
     "text": [
      "iteration 71\n"
     ]
    },
    {
     "name": "stderr",
     "output_type": "stream",
     "text": [
      "2018-12-20 21:55:57,507 : INFO : worker thread finished; awaiting finish of 0 more threads\n",
      "2018-12-20 21:55:57,507 : INFO : EPOCH - 1 : training on 601 raw words (369 effective words) took 0.4s, 945 effective words/s\n",
      "2018-12-20 21:55:57,522 : INFO : worker thread finished; awaiting finish of 2 more threads\n",
      "2018-12-20 21:55:57,528 : INFO : worker thread finished; awaiting finish of 1 more threads\n",
      "2018-12-20 21:55:57,876 : INFO : worker thread finished; awaiting finish of 0 more threads\n",
      "2018-12-20 21:55:57,879 : INFO : EPOCH - 2 : training on 601 raw words (357 effective words) took 0.4s, 990 effective words/s\n",
      "2018-12-20 21:55:57,892 : INFO : worker thread finished; awaiting finish of 2 more threads\n",
      "2018-12-20 21:55:57,897 : INFO : worker thread finished; awaiting finish of 1 more threads\n",
      "2018-12-20 21:55:58,232 : INFO : worker thread finished; awaiting finish of 0 more threads\n",
      "2018-12-20 21:55:58,233 : INFO : EPOCH - 3 : training on 601 raw words (348 effective words) took 0.3s, 1010 effective words/s\n",
      "2018-12-20 21:55:58,245 : INFO : worker thread finished; awaiting finish of 2 more threads\n",
      "2018-12-20 21:55:58,248 : INFO : worker thread finished; awaiting finish of 1 more threads\n",
      "2018-12-20 21:55:58,582 : INFO : worker thread finished; awaiting finish of 0 more threads\n",
      "2018-12-20 21:55:58,586 : INFO : EPOCH - 4 : training on 601 raw words (347 effective words) took 0.3s, 1013 effective words/s\n",
      "2018-12-20 21:55:58,595 : INFO : worker thread finished; awaiting finish of 2 more threads\n",
      "2018-12-20 21:55:58,600 : INFO : worker thread finished; awaiting finish of 1 more threads\n",
      "2018-12-20 21:55:58,913 : INFO : worker thread finished; awaiting finish of 0 more threads\n",
      "2018-12-20 21:55:58,914 : INFO : EPOCH - 5 : training on 601 raw words (359 effective words) took 0.3s, 1120 effective words/s\n",
      "2018-12-20 21:55:58,915 : INFO : training on a 3005 raw words (1780 effective words) took 1.8s, 987 effective words/s\n",
      "2018-12-20 21:55:58,915 : WARNING : under 10 jobs per worker: consider setting a smaller `batch_words' for smoother alpha decay\n",
      "2018-12-20 21:55:58,915 : INFO : training model with 3 workers on 263 vocabulary and 100 features, using sg=0 hs=0 sample=0.001 negative=5 window=5\n",
      "2018-12-20 21:55:58,924 : INFO : worker thread finished; awaiting finish of 2 more threads\n",
      "2018-12-20 21:55:58,928 : INFO : worker thread finished; awaiting finish of 1 more threads\n"
     ]
    },
    {
     "name": "stdout",
     "output_type": "stream",
     "text": [
      "iteration 72\n"
     ]
    },
    {
     "name": "stderr",
     "output_type": "stream",
     "text": [
      "2018-12-20 21:55:59,163 : INFO : worker thread finished; awaiting finish of 0 more threads\n",
      "2018-12-20 21:55:59,166 : INFO : EPOCH - 1 : training on 601 raw words (369 effective words) took 0.2s, 1529 effective words/s\n",
      "2018-12-20 21:55:59,173 : INFO : worker thread finished; awaiting finish of 2 more threads\n",
      "2018-12-20 21:55:59,176 : INFO : worker thread finished; awaiting finish of 1 more threads\n",
      "2018-12-20 21:55:59,396 : INFO : worker thread finished; awaiting finish of 0 more threads\n",
      "2018-12-20 21:55:59,398 : INFO : EPOCH - 2 : training on 601 raw words (346 effective words) took 0.2s, 1536 effective words/s\n",
      "2018-12-20 21:55:59,410 : INFO : worker thread finished; awaiting finish of 2 more threads\n",
      "2018-12-20 21:55:59,414 : INFO : worker thread finished; awaiting finish of 1 more threads\n",
      "2018-12-20 21:55:59,707 : INFO : worker thread finished; awaiting finish of 0 more threads\n",
      "2018-12-20 21:55:59,710 : INFO : EPOCH - 3 : training on 601 raw words (350 effective words) took 0.3s, 1162 effective words/s\n",
      "2018-12-20 21:55:59,719 : INFO : worker thread finished; awaiting finish of 2 more threads\n",
      "2018-12-20 21:55:59,723 : INFO : worker thread finished; awaiting finish of 1 more threads\n",
      "2018-12-20 21:56:00,050 : INFO : worker thread finished; awaiting finish of 0 more threads\n",
      "2018-12-20 21:56:00,052 : INFO : EPOCH - 4 : training on 601 raw words (369 effective words) took 0.3s, 1106 effective words/s\n",
      "2018-12-20 21:56:00,061 : INFO : worker thread finished; awaiting finish of 2 more threads\n",
      "2018-12-20 21:56:00,067 : INFO : worker thread finished; awaiting finish of 1 more threads\n",
      "2018-12-20 21:56:00,347 : INFO : worker thread finished; awaiting finish of 0 more threads\n",
      "2018-12-20 21:56:00,348 : INFO : EPOCH - 5 : training on 601 raw words (373 effective words) took 0.3s, 1292 effective words/s\n",
      "2018-12-20 21:56:00,352 : INFO : training on a 3005 raw words (1807 effective words) took 1.4s, 1261 effective words/s\n",
      "2018-12-20 21:56:00,355 : WARNING : under 10 jobs per worker: consider setting a smaller `batch_words' for smoother alpha decay\n",
      "2018-12-20 21:56:00,358 : INFO : training model with 3 workers on 263 vocabulary and 100 features, using sg=0 hs=0 sample=0.001 negative=5 window=5\n",
      "2018-12-20 21:56:00,368 : INFO : worker thread finished; awaiting finish of 2 more threads\n",
      "2018-12-20 21:56:00,379 : INFO : worker thread finished; awaiting finish of 1 more threads\n"
     ]
    },
    {
     "name": "stdout",
     "output_type": "stream",
     "text": [
      "iteration 73\n"
     ]
    },
    {
     "name": "stderr",
     "output_type": "stream",
     "text": [
      "2018-12-20 21:56:00,845 : INFO : worker thread finished; awaiting finish of 0 more threads\n",
      "2018-12-20 21:56:00,849 : INFO : EPOCH - 1 : training on 601 raw words (367 effective words) took 0.5s, 762 effective words/s\n",
      "2018-12-20 21:56:00,860 : INFO : worker thread finished; awaiting finish of 2 more threads\n",
      "2018-12-20 21:56:00,868 : INFO : worker thread finished; awaiting finish of 1 more threads\n",
      "2018-12-20 21:56:01,381 : INFO : worker thread finished; awaiting finish of 0 more threads\n",
      "2018-12-20 21:56:01,387 : INFO : EPOCH - 2 : training on 601 raw words (359 effective words) took 0.5s, 681 effective words/s\n",
      "2018-12-20 21:56:01,397 : INFO : worker thread finished; awaiting finish of 2 more threads\n",
      "2018-12-20 21:56:01,403 : INFO : worker thread finished; awaiting finish of 1 more threads\n",
      "2018-12-20 21:56:01,639 : INFO : worker thread finished; awaiting finish of 0 more threads\n",
      "2018-12-20 21:56:01,642 : INFO : EPOCH - 3 : training on 601 raw words (357 effective words) took 0.2s, 1448 effective words/s\n",
      "2018-12-20 21:56:01,648 : INFO : worker thread finished; awaiting finish of 2 more threads\n",
      "2018-12-20 21:56:01,649 : INFO : worker thread finished; awaiting finish of 1 more threads\n",
      "2018-12-20 21:56:01,864 : INFO : worker thread finished; awaiting finish of 0 more threads\n",
      "2018-12-20 21:56:01,868 : INFO : EPOCH - 4 : training on 601 raw words (359 effective words) took 0.2s, 1622 effective words/s\n",
      "2018-12-20 21:56:01,882 : INFO : worker thread finished; awaiting finish of 2 more threads\n",
      "2018-12-20 21:56:01,885 : INFO : worker thread finished; awaiting finish of 1 more threads\n",
      "2018-12-20 21:56:02,295 : INFO : worker thread finished; awaiting finish of 0 more threads\n",
      "2018-12-20 21:56:02,296 : INFO : EPOCH - 5 : training on 601 raw words (366 effective words) took 0.4s, 877 effective words/s\n",
      "2018-12-20 21:56:02,296 : INFO : training on a 3005 raw words (1808 effective words) took 1.9s, 933 effective words/s\n",
      "2018-12-20 21:56:02,296 : WARNING : under 10 jobs per worker: consider setting a smaller `batch_words' for smoother alpha decay\n",
      "2018-12-20 21:56:02,302 : INFO : training model with 3 workers on 263 vocabulary and 100 features, using sg=0 hs=0 sample=0.001 negative=5 window=5\n",
      "2018-12-20 21:56:02,319 : INFO : worker thread finished; awaiting finish of 2 more threads\n",
      "2018-12-20 21:56:02,326 : INFO : worker thread finished; awaiting finish of 1 more threads\n"
     ]
    },
    {
     "name": "stdout",
     "output_type": "stream",
     "text": [
      "iteration 74\n"
     ]
    },
    {
     "name": "stderr",
     "output_type": "stream",
     "text": [
      "2018-12-20 21:56:02,804 : INFO : worker thread finished; awaiting finish of 0 more threads\n",
      "2018-12-20 21:56:02,806 : INFO : EPOCH - 1 : training on 601 raw words (355 effective words) took 0.5s, 722 effective words/s\n",
      "2018-12-20 21:56:02,820 : INFO : worker thread finished; awaiting finish of 2 more threads\n",
      "2018-12-20 21:56:02,825 : INFO : worker thread finished; awaiting finish of 1 more threads\n",
      "2018-12-20 21:56:03,223 : INFO : worker thread finished; awaiting finish of 0 more threads\n",
      "2018-12-20 21:56:03,226 : INFO : EPOCH - 2 : training on 601 raw words (357 effective words) took 0.4s, 876 effective words/s\n",
      "2018-12-20 21:56:03,235 : INFO : worker thread finished; awaiting finish of 2 more threads\n",
      "2018-12-20 21:56:03,240 : INFO : worker thread finished; awaiting finish of 1 more threads\n",
      "2018-12-20 21:56:03,633 : INFO : worker thread finished; awaiting finish of 0 more threads\n",
      "2018-12-20 21:56:03,634 : INFO : EPOCH - 3 : training on 601 raw words (357 effective words) took 0.4s, 889 effective words/s\n",
      "2018-12-20 21:56:03,647 : INFO : worker thread finished; awaiting finish of 2 more threads\n",
      "2018-12-20 21:56:03,652 : INFO : worker thread finished; awaiting finish of 1 more threads\n",
      "2018-12-20 21:56:04,076 : INFO : worker thread finished; awaiting finish of 0 more threads\n",
      "2018-12-20 21:56:04,079 : INFO : EPOCH - 4 : training on 601 raw words (367 effective words) took 0.4s, 850 effective words/s\n",
      "2018-12-20 21:56:04,091 : INFO : worker thread finished; awaiting finish of 2 more threads\n",
      "2018-12-20 21:56:04,094 : INFO : worker thread finished; awaiting finish of 1 more threads\n",
      "2018-12-20 21:56:04,529 : INFO : worker thread finished; awaiting finish of 0 more threads\n",
      "2018-12-20 21:56:04,532 : INFO : EPOCH - 5 : training on 601 raw words (347 effective words) took 0.4s, 787 effective words/s\n",
      "2018-12-20 21:56:04,535 : INFO : training on a 3005 raw words (1783 effective words) took 2.2s, 801 effective words/s\n",
      "2018-12-20 21:56:04,537 : WARNING : under 10 jobs per worker: consider setting a smaller `batch_words' for smoother alpha decay\n",
      "2018-12-20 21:56:04,540 : INFO : training model with 3 workers on 263 vocabulary and 100 features, using sg=0 hs=0 sample=0.001 negative=5 window=5\n",
      "2018-12-20 21:56:04,550 : INFO : worker thread finished; awaiting finish of 2 more threads\n",
      "2018-12-20 21:56:04,553 : INFO : worker thread finished; awaiting finish of 1 more threads\n"
     ]
    },
    {
     "name": "stdout",
     "output_type": "stream",
     "text": [
      "iteration 75\n"
     ]
    },
    {
     "name": "stderr",
     "output_type": "stream",
     "text": [
      "2018-12-20 21:56:04,911 : INFO : worker thread finished; awaiting finish of 0 more threads\n",
      "2018-12-20 21:56:04,912 : INFO : EPOCH - 1 : training on 601 raw words (354 effective words) took 0.4s, 978 effective words/s\n",
      "2018-12-20 21:56:04,918 : INFO : worker thread finished; awaiting finish of 2 more threads\n",
      "2018-12-20 21:56:04,923 : INFO : worker thread finished; awaiting finish of 1 more threads\n",
      "2018-12-20 21:56:05,113 : INFO : worker thread finished; awaiting finish of 0 more threads\n",
      "2018-12-20 21:56:05,114 : INFO : EPOCH - 2 : training on 601 raw words (360 effective words) took 0.2s, 1837 effective words/s\n",
      "2018-12-20 21:56:05,119 : INFO : worker thread finished; awaiting finish of 2 more threads\n",
      "2018-12-20 21:56:05,123 : INFO : worker thread finished; awaiting finish of 1 more threads\n",
      "2018-12-20 21:56:05,302 : INFO : worker thread finished; awaiting finish of 0 more threads\n",
      "2018-12-20 21:56:05,307 : INFO : EPOCH - 3 : training on 601 raw words (361 effective words) took 0.2s, 1916 effective words/s\n",
      "2018-12-20 21:56:05,317 : INFO : worker thread finished; awaiting finish of 2 more threads\n",
      "2018-12-20 21:56:05,332 : INFO : worker thread finished; awaiting finish of 1 more threads\n",
      "2018-12-20 21:56:05,625 : INFO : worker thread finished; awaiting finish of 0 more threads\n",
      "2018-12-20 21:56:05,632 : INFO : EPOCH - 4 : training on 601 raw words (362 effective words) took 0.3s, 1150 effective words/s\n",
      "2018-12-20 21:56:05,638 : INFO : worker thread finished; awaiting finish of 2 more threads\n",
      "2018-12-20 21:56:05,641 : INFO : worker thread finished; awaiting finish of 1 more threads\n",
      "2018-12-20 21:56:05,815 : INFO : worker thread finished; awaiting finish of 0 more threads\n",
      "2018-12-20 21:56:05,815 : INFO : EPOCH - 5 : training on 601 raw words (363 effective words) took 0.2s, 2004 effective words/s\n",
      "2018-12-20 21:56:05,815 : INFO : training on a 3005 raw words (1800 effective words) took 1.3s, 1409 effective words/s\n",
      "2018-12-20 21:56:05,815 : WARNING : under 10 jobs per worker: consider setting a smaller `batch_words' for smoother alpha decay\n",
      "2018-12-20 21:56:05,823 : INFO : training model with 3 workers on 263 vocabulary and 100 features, using sg=0 hs=0 sample=0.001 negative=5 window=5\n",
      "2018-12-20 21:56:05,830 : INFO : worker thread finished; awaiting finish of 2 more threads\n",
      "2018-12-20 21:56:05,831 : INFO : worker thread finished; awaiting finish of 1 more threads\n",
      "2018-12-20 21:56:06,014 : INFO : worker thread finished; awaiting finish of 0 more threads\n"
     ]
    },
    {
     "name": "stdout",
     "output_type": "stream",
     "text": [
      "iteration 76\n"
     ]
    },
    {
     "name": "stderr",
     "output_type": "stream",
     "text": [
      "2018-12-20 21:56:06,016 : INFO : EPOCH - 1 : training on 601 raw words (355 effective words) took 0.2s, 1887 effective words/s\n",
      "2018-12-20 21:56:06,022 : INFO : worker thread finished; awaiting finish of 2 more threads\n",
      "2018-12-20 21:56:06,027 : INFO : worker thread finished; awaiting finish of 1 more threads\n",
      "2018-12-20 21:56:06,201 : INFO : worker thread finished; awaiting finish of 0 more threads\n",
      "2018-12-20 21:56:06,203 : INFO : EPOCH - 2 : training on 601 raw words (346 effective words) took 0.2s, 1905 effective words/s\n",
      "2018-12-20 21:56:06,208 : INFO : worker thread finished; awaiting finish of 2 more threads\n",
      "2018-12-20 21:56:06,210 : INFO : worker thread finished; awaiting finish of 1 more threads\n",
      "2018-12-20 21:56:06,386 : INFO : worker thread finished; awaiting finish of 0 more threads\n",
      "2018-12-20 21:56:06,388 : INFO : EPOCH - 3 : training on 601 raw words (353 effective words) took 0.2s, 1965 effective words/s\n",
      "2018-12-20 21:56:06,393 : INFO : worker thread finished; awaiting finish of 2 more threads\n",
      "2018-12-20 21:56:06,397 : INFO : worker thread finished; awaiting finish of 1 more threads\n",
      "2018-12-20 21:56:06,576 : INFO : worker thread finished; awaiting finish of 0 more threads\n",
      "2018-12-20 21:56:06,578 : INFO : EPOCH - 4 : training on 601 raw words (361 effective words) took 0.2s, 1954 effective words/s\n",
      "2018-12-20 21:56:06,582 : INFO : worker thread finished; awaiting finish of 2 more threads\n",
      "2018-12-20 21:56:06,585 : INFO : worker thread finished; awaiting finish of 1 more threads\n",
      "2018-12-20 21:56:06,755 : INFO : worker thread finished; awaiting finish of 0 more threads\n",
      "2018-12-20 21:56:06,757 : INFO : EPOCH - 5 : training on 601 raw words (358 effective words) took 0.2s, 2038 effective words/s\n",
      "2018-12-20 21:56:06,759 : INFO : training on a 3005 raw words (1773 effective words) took 0.9s, 1896 effective words/s\n",
      "2018-12-20 21:56:06,760 : WARNING : under 10 jobs per worker: consider setting a smaller `batch_words' for smoother alpha decay\n",
      "2018-12-20 21:56:06,762 : INFO : training model with 3 workers on 263 vocabulary and 100 features, using sg=0 hs=0 sample=0.001 negative=5 window=5\n",
      "2018-12-20 21:56:06,768 : INFO : worker thread finished; awaiting finish of 2 more threads\n",
      "2018-12-20 21:56:06,778 : INFO : worker thread finished; awaiting finish of 1 more threads\n"
     ]
    },
    {
     "name": "stdout",
     "output_type": "stream",
     "text": [
      "iteration 77\n"
     ]
    },
    {
     "name": "stderr",
     "output_type": "stream",
     "text": [
      "2018-12-20 21:56:07,018 : INFO : worker thread finished; awaiting finish of 0 more threads\n",
      "2018-12-20 21:56:07,018 : INFO : EPOCH - 1 : training on 601 raw words (359 effective words) took 0.3s, 1414 effective words/s\n",
      "2018-12-20 21:56:07,033 : INFO : worker thread finished; awaiting finish of 2 more threads\n",
      "2018-12-20 21:56:07,036 : INFO : worker thread finished; awaiting finish of 1 more threads\n",
      "2018-12-20 21:56:07,234 : INFO : worker thread finished; awaiting finish of 0 more threads\n",
      "2018-12-20 21:56:07,237 : INFO : EPOCH - 2 : training on 601 raw words (356 effective words) took 0.2s, 1719 effective words/s\n",
      "2018-12-20 21:56:07,245 : INFO : worker thread finished; awaiting finish of 2 more threads\n",
      "2018-12-20 21:56:07,250 : INFO : worker thread finished; awaiting finish of 1 more threads\n",
      "2018-12-20 21:56:07,461 : INFO : worker thread finished; awaiting finish of 0 more threads\n",
      "2018-12-20 21:56:07,463 : INFO : EPOCH - 3 : training on 601 raw words (349 effective words) took 0.2s, 1595 effective words/s\n",
      "2018-12-20 21:56:07,469 : INFO : worker thread finished; awaiting finish of 2 more threads\n",
      "2018-12-20 21:56:07,477 : INFO : worker thread finished; awaiting finish of 1 more threads\n",
      "2018-12-20 21:56:07,694 : INFO : worker thread finished; awaiting finish of 0 more threads\n",
      "2018-12-20 21:56:07,699 : INFO : EPOCH - 4 : training on 601 raw words (367 effective words) took 0.2s, 1589 effective words/s\n",
      "2018-12-20 21:56:07,703 : INFO : worker thread finished; awaiting finish of 2 more threads\n",
      "2018-12-20 21:56:07,706 : INFO : worker thread finished; awaiting finish of 1 more threads\n",
      "2018-12-20 21:56:08,010 : INFO : worker thread finished; awaiting finish of 0 more threads\n",
      "2018-12-20 21:56:08,013 : INFO : EPOCH - 5 : training on 601 raw words (357 effective words) took 0.3s, 1153 effective words/s\n",
      "2018-12-20 21:56:08,015 : INFO : training on a 3005 raw words (1788 effective words) took 1.3s, 1428 effective words/s\n",
      "2018-12-20 21:56:08,016 : WARNING : under 10 jobs per worker: consider setting a smaller `batch_words' for smoother alpha decay\n",
      "2018-12-20 21:56:08,021 : INFO : training model with 3 workers on 263 vocabulary and 100 features, using sg=0 hs=0 sample=0.001 negative=5 window=5\n",
      "2018-12-20 21:56:08,038 : INFO : worker thread finished; awaiting finish of 2 more threads\n",
      "2018-12-20 21:56:08,048 : INFO : worker thread finished; awaiting finish of 1 more threads\n"
     ]
    },
    {
     "name": "stdout",
     "output_type": "stream",
     "text": [
      "iteration 78\n"
     ]
    },
    {
     "name": "stderr",
     "output_type": "stream",
     "text": [
      "2018-12-20 21:56:08,436 : INFO : worker thread finished; awaiting finish of 0 more threads\n",
      "2018-12-20 21:56:08,438 : INFO : EPOCH - 1 : training on 601 raw words (331 effective words) took 0.4s, 820 effective words/s\n",
      "2018-12-20 21:56:08,450 : INFO : worker thread finished; awaiting finish of 2 more threads\n",
      "2018-12-20 21:56:08,455 : INFO : worker thread finished; awaiting finish of 1 more threads\n",
      "2018-12-20 21:56:08,853 : INFO : worker thread finished; awaiting finish of 0 more threads\n",
      "2018-12-20 21:56:08,856 : INFO : EPOCH - 2 : training on 601 raw words (362 effective words) took 0.4s, 886 effective words/s\n",
      "2018-12-20 21:56:08,866 : INFO : worker thread finished; awaiting finish of 2 more threads\n",
      "2018-12-20 21:56:08,874 : INFO : worker thread finished; awaiting finish of 1 more threads\n",
      "2018-12-20 21:56:09,159 : INFO : worker thread finished; awaiting finish of 0 more threads\n",
      "2018-12-20 21:56:09,162 : INFO : EPOCH - 3 : training on 601 raw words (357 effective words) took 0.3s, 1201 effective words/s\n",
      "2018-12-20 21:56:09,170 : INFO : worker thread finished; awaiting finish of 2 more threads\n",
      "2018-12-20 21:56:09,174 : INFO : worker thread finished; awaiting finish of 1 more threads\n",
      "2018-12-20 21:56:09,390 : INFO : worker thread finished; awaiting finish of 0 more threads\n",
      "2018-12-20 21:56:09,391 : INFO : EPOCH - 4 : training on 601 raw words (354 effective words) took 0.2s, 1592 effective words/s\n",
      "2018-12-20 21:56:09,397 : INFO : worker thread finished; awaiting finish of 2 more threads\n",
      "2018-12-20 21:56:09,400 : INFO : worker thread finished; awaiting finish of 1 more threads\n",
      "2018-12-20 21:56:09,579 : INFO : worker thread finished; awaiting finish of 0 more threads\n",
      "2018-12-20 21:56:09,582 : INFO : EPOCH - 5 : training on 601 raw words (369 effective words) took 0.2s, 1986 effective words/s\n",
      "2018-12-20 21:56:09,583 : INFO : training on a 3005 raw words (1773 effective words) took 1.6s, 1137 effective words/s\n",
      "2018-12-20 21:56:09,584 : WARNING : under 10 jobs per worker: consider setting a smaller `batch_words' for smoother alpha decay\n",
      "2018-12-20 21:56:09,585 : INFO : training model with 3 workers on 263 vocabulary and 100 features, using sg=0 hs=0 sample=0.001 negative=5 window=5\n",
      "2018-12-20 21:56:09,591 : INFO : worker thread finished; awaiting finish of 2 more threads\n",
      "2018-12-20 21:56:09,595 : INFO : worker thread finished; awaiting finish of 1 more threads\n",
      "2018-12-20 21:56:09,779 : INFO : worker thread finished; awaiting finish of 0 more threads"
     ]
    },
    {
     "name": "stdout",
     "output_type": "stream",
     "text": [
      "iteration 79\n"
     ]
    },
    {
     "name": "stderr",
     "output_type": "stream",
     "text": [
      "\n",
      "2018-12-20 21:56:09,782 : INFO : EPOCH - 1 : training on 601 raw words (365 effective words) took 0.2s, 1909 effective words/s\n",
      "2018-12-20 21:56:09,787 : INFO : worker thread finished; awaiting finish of 2 more threads\n",
      "2018-12-20 21:56:09,792 : INFO : worker thread finished; awaiting finish of 1 more threads\n",
      "2018-12-20 21:56:09,978 : INFO : worker thread finished; awaiting finish of 0 more threads\n",
      "2018-12-20 21:56:09,980 : INFO : EPOCH - 2 : training on 601 raw words (352 effective words) took 0.2s, 1818 effective words/s\n",
      "2018-12-20 21:56:09,986 : INFO : worker thread finished; awaiting finish of 2 more threads\n",
      "2018-12-20 21:56:09,989 : INFO : worker thread finished; awaiting finish of 1 more threads\n",
      "2018-12-20 21:56:10,169 : INFO : worker thread finished; awaiting finish of 0 more threads\n",
      "2018-12-20 21:56:10,170 : INFO : EPOCH - 3 : training on 601 raw words (352 effective words) took 0.2s, 1899 effective words/s\n",
      "2018-12-20 21:56:10,175 : INFO : worker thread finished; awaiting finish of 2 more threads\n",
      "2018-12-20 21:56:10,177 : INFO : worker thread finished; awaiting finish of 1 more threads\n",
      "2018-12-20 21:56:10,367 : INFO : worker thread finished; awaiting finish of 0 more threads\n",
      "2018-12-20 21:56:10,369 : INFO : EPOCH - 4 : training on 601 raw words (361 effective words) took 0.2s, 1862 effective words/s\n",
      "2018-12-20 21:56:10,375 : INFO : worker thread finished; awaiting finish of 2 more threads\n",
      "2018-12-20 21:56:10,378 : INFO : worker thread finished; awaiting finish of 1 more threads\n",
      "2018-12-20 21:56:10,565 : INFO : worker thread finished; awaiting finish of 0 more threads\n",
      "2018-12-20 21:56:10,567 : INFO : EPOCH - 5 : training on 601 raw words (359 effective words) took 0.2s, 1877 effective words/s\n",
      "2018-12-20 21:56:10,568 : INFO : training on a 3005 raw words (1789 effective words) took 1.0s, 1822 effective words/s\n",
      "2018-12-20 21:56:10,569 : WARNING : under 10 jobs per worker: consider setting a smaller `batch_words' for smoother alpha decay\n",
      "2018-12-20 21:56:10,569 : INFO : training model with 3 workers on 263 vocabulary and 100 features, using sg=0 hs=0 sample=0.001 negative=5 window=5\n",
      "2018-12-20 21:56:10,576 : INFO : worker thread finished; awaiting finish of 2 more threads\n",
      "2018-12-20 21:56:10,580 : INFO : worker thread finished; awaiting finish of 1 more threads\n",
      "2018-12-20 21:56:10,756 : INFO : worker thread finished; awaiting finish of 0 more threads\n"
     ]
    },
    {
     "name": "stdout",
     "output_type": "stream",
     "text": [
      "iteration 80\n"
     ]
    },
    {
     "name": "stderr",
     "output_type": "stream",
     "text": [
      "2018-12-20 21:56:10,759 : INFO : EPOCH - 1 : training on 601 raw words (352 effective words) took 0.2s, 1934 effective words/s\n",
      "2018-12-20 21:56:10,765 : INFO : worker thread finished; awaiting finish of 2 more threads\n",
      "2018-12-20 21:56:10,768 : INFO : worker thread finished; awaiting finish of 1 more threads\n",
      "2018-12-20 21:56:10,952 : INFO : worker thread finished; awaiting finish of 0 more threads\n",
      "2018-12-20 21:56:10,954 : INFO : EPOCH - 2 : training on 601 raw words (370 effective words) took 0.2s, 1954 effective words/s\n",
      "2018-12-20 21:56:10,959 : INFO : worker thread finished; awaiting finish of 2 more threads\n",
      "2018-12-20 21:56:10,963 : INFO : worker thread finished; awaiting finish of 1 more threads\n",
      "2018-12-20 21:56:11,141 : INFO : worker thread finished; awaiting finish of 0 more threads\n",
      "2018-12-20 21:56:11,143 : INFO : EPOCH - 3 : training on 601 raw words (358 effective words) took 0.2s, 1948 effective words/s\n",
      "2018-12-20 21:56:11,148 : INFO : worker thread finished; awaiting finish of 2 more threads\n",
      "2018-12-20 21:56:11,151 : INFO : worker thread finished; awaiting finish of 1 more threads\n",
      "2018-12-20 21:56:11,333 : INFO : worker thread finished; awaiting finish of 0 more threads\n",
      "2018-12-20 21:56:11,334 : INFO : EPOCH - 4 : training on 601 raw words (354 effective words) took 0.2s, 1893 effective words/s\n",
      "2018-12-20 21:56:11,341 : INFO : worker thread finished; awaiting finish of 2 more threads\n",
      "2018-12-20 21:56:11,345 : INFO : worker thread finished; awaiting finish of 1 more threads\n",
      "2018-12-20 21:56:11,506 : INFO : worker thread finished; awaiting finish of 0 more threads\n",
      "2018-12-20 21:56:11,508 : INFO : EPOCH - 5 : training on 601 raw words (378 effective words) took 0.2s, 2258 effective words/s\n",
      "2018-12-20 21:56:11,509 : INFO : training on a 3005 raw words (1812 effective words) took 0.9s, 1933 effective words/s\n",
      "2018-12-20 21:56:11,510 : WARNING : under 10 jobs per worker: consider setting a smaller `batch_words' for smoother alpha decay\n",
      "2018-12-20 21:56:11,512 : INFO : training model with 3 workers on 263 vocabulary and 100 features, using sg=0 hs=0 sample=0.001 negative=5 window=5\n",
      "2018-12-20 21:56:11,518 : INFO : worker thread finished; awaiting finish of 2 more threads\n",
      "2018-12-20 21:56:11,521 : INFO : worker thread finished; awaiting finish of 1 more threads\n",
      "2018-12-20 21:56:11,705 : INFO : worker thread finished; awaiting finish of 0 more threads"
     ]
    },
    {
     "name": "stdout",
     "output_type": "stream",
     "text": [
      "iteration 81\n"
     ]
    },
    {
     "name": "stderr",
     "output_type": "stream",
     "text": [
      "\n",
      "2018-12-20 21:56:11,708 : INFO : EPOCH - 1 : training on 601 raw words (349 effective words) took 0.2s, 1826 effective words/s\n",
      "2018-12-20 21:56:11,713 : INFO : worker thread finished; awaiting finish of 2 more threads\n",
      "2018-12-20 21:56:11,715 : INFO : worker thread finished; awaiting finish of 1 more threads\n",
      "2018-12-20 21:56:11,906 : INFO : worker thread finished; awaiting finish of 0 more threads\n",
      "2018-12-20 21:56:11,908 : INFO : EPOCH - 2 : training on 601 raw words (367 effective words) took 0.2s, 1870 effective words/s\n",
      "2018-12-20 21:56:11,915 : INFO : worker thread finished; awaiting finish of 2 more threads\n",
      "2018-12-20 21:56:11,918 : INFO : worker thread finished; awaiting finish of 1 more threads\n",
      "2018-12-20 21:56:12,141 : INFO : worker thread finished; awaiting finish of 0 more threads\n",
      "2018-12-20 21:56:12,143 : INFO : EPOCH - 3 : training on 601 raw words (348 effective words) took 0.2s, 1519 effective words/s\n",
      "2018-12-20 21:56:12,148 : INFO : worker thread finished; awaiting finish of 2 more threads\n",
      "2018-12-20 21:56:12,149 : INFO : worker thread finished; awaiting finish of 1 more threads\n",
      "2018-12-20 21:56:12,326 : INFO : worker thread finished; awaiting finish of 0 more threads\n",
      "2018-12-20 21:56:12,328 : INFO : EPOCH - 4 : training on 601 raw words (354 effective words) took 0.2s, 1970 effective words/s\n",
      "2018-12-20 21:56:12,332 : INFO : worker thread finished; awaiting finish of 2 more threads\n",
      "2018-12-20 21:56:12,334 : INFO : worker thread finished; awaiting finish of 1 more threads\n",
      "2018-12-20 21:56:12,593 : INFO : worker thread finished; awaiting finish of 0 more threads\n",
      "2018-12-20 21:56:12,595 : INFO : EPOCH - 5 : training on 601 raw words (361 effective words) took 0.3s, 1373 effective words/s\n",
      "2018-12-20 21:56:12,595 : INFO : training on a 3005 raw words (1779 effective words) took 1.1s, 1641 effective words/s\n",
      "2018-12-20 21:56:12,595 : WARNING : under 10 jobs per worker: consider setting a smaller `batch_words' for smoother alpha decay\n",
      "2018-12-20 21:56:12,595 : INFO : training model with 3 workers on 263 vocabulary and 100 features, using sg=0 hs=0 sample=0.001 negative=5 window=5\n",
      "2018-12-20 21:56:12,610 : INFO : worker thread finished; awaiting finish of 2 more threads\n",
      "2018-12-20 21:56:12,614 : INFO : worker thread finished; awaiting finish of 1 more threads\n"
     ]
    },
    {
     "name": "stdout",
     "output_type": "stream",
     "text": [
      "iteration 82\n"
     ]
    },
    {
     "name": "stderr",
     "output_type": "stream",
     "text": [
      "2018-12-20 21:56:12,860 : INFO : worker thread finished; awaiting finish of 0 more threads\n",
      "2018-12-20 21:56:12,863 : INFO : EPOCH - 1 : training on 601 raw words (352 effective words) took 0.3s, 1377 effective words/s\n",
      "2018-12-20 21:56:12,870 : INFO : worker thread finished; awaiting finish of 2 more threads\n",
      "2018-12-20 21:56:12,874 : INFO : worker thread finished; awaiting finish of 1 more threads\n",
      "2018-12-20 21:56:13,092 : INFO : worker thread finished; awaiting finish of 0 more threads\n",
      "2018-12-20 21:56:13,093 : INFO : EPOCH - 2 : training on 601 raw words (350 effective words) took 0.2s, 1574 effective words/s\n",
      "2018-12-20 21:56:13,095 : INFO : worker thread finished; awaiting finish of 2 more threads\n",
      "2018-12-20 21:56:13,099 : INFO : worker thread finished; awaiting finish of 1 more threads\n",
      "2018-12-20 21:56:13,302 : INFO : worker thread finished; awaiting finish of 0 more threads\n",
      "2018-12-20 21:56:13,304 : INFO : EPOCH - 3 : training on 601 raw words (359 effective words) took 0.2s, 1741 effective words/s\n",
      "2018-12-20 21:56:13,310 : INFO : worker thread finished; awaiting finish of 2 more threads\n",
      "2018-12-20 21:56:13,314 : INFO : worker thread finished; awaiting finish of 1 more threads\n",
      "2018-12-20 21:56:13,533 : INFO : worker thread finished; awaiting finish of 0 more threads\n",
      "2018-12-20 21:56:13,540 : INFO : EPOCH - 4 : training on 601 raw words (362 effective words) took 0.2s, 1567 effective words/s\n",
      "2018-12-20 21:56:13,546 : INFO : worker thread finished; awaiting finish of 2 more threads\n",
      "2018-12-20 21:56:13,549 : INFO : worker thread finished; awaiting finish of 1 more threads\n",
      "2018-12-20 21:56:13,854 : INFO : worker thread finished; awaiting finish of 0 more threads\n",
      "2018-12-20 21:56:13,856 : INFO : EPOCH - 5 : training on 601 raw words (358 effective words) took 0.3s, 1149 effective words/s\n",
      "2018-12-20 21:56:13,859 : INFO : training on a 3005 raw words (1781 effective words) took 1.3s, 1416 effective words/s\n",
      "2018-12-20 21:56:13,864 : WARNING : under 10 jobs per worker: consider setting a smaller `batch_words' for smoother alpha decay\n",
      "2018-12-20 21:56:13,868 : INFO : training model with 3 workers on 263 vocabulary and 100 features, using sg=0 hs=0 sample=0.001 negative=5 window=5\n",
      "2018-12-20 21:56:13,885 : INFO : worker thread finished; awaiting finish of 2 more threads\n",
      "2018-12-20 21:56:13,887 : INFO : worker thread finished; awaiting finish of 1 more threads\n"
     ]
    },
    {
     "name": "stdout",
     "output_type": "stream",
     "text": [
      "iteration 83\n"
     ]
    },
    {
     "name": "stderr",
     "output_type": "stream",
     "text": [
      "2018-12-20 21:56:14,296 : INFO : worker thread finished; awaiting finish of 0 more threads\n",
      "2018-12-20 21:56:14,302 : INFO : EPOCH - 1 : training on 601 raw words (360 effective words) took 0.4s, 861 effective words/s\n",
      "2018-12-20 21:56:14,316 : INFO : worker thread finished; awaiting finish of 2 more threads\n",
      "2018-12-20 21:56:14,323 : INFO : worker thread finished; awaiting finish of 1 more threads\n",
      "2018-12-20 21:56:14,729 : INFO : worker thread finished; awaiting finish of 0 more threads\n",
      "2018-12-20 21:56:14,732 : INFO : EPOCH - 2 : training on 601 raw words (357 effective words) took 0.4s, 859 effective words/s\n",
      "2018-12-20 21:56:14,745 : INFO : worker thread finished; awaiting finish of 2 more threads\n",
      "2018-12-20 21:56:14,750 : INFO : worker thread finished; awaiting finish of 1 more threads\n",
      "2018-12-20 21:56:15,108 : INFO : worker thread finished; awaiting finish of 0 more threads\n",
      "2018-12-20 21:56:15,109 : INFO : EPOCH - 3 : training on 601 raw words (346 effective words) took 0.4s, 950 effective words/s\n",
      "2018-12-20 21:56:15,118 : INFO : worker thread finished; awaiting finish of 2 more threads\n",
      "2018-12-20 21:56:15,123 : INFO : worker thread finished; awaiting finish of 1 more threads\n",
      "2018-12-20 21:56:15,448 : INFO : worker thread finished; awaiting finish of 0 more threads\n",
      "2018-12-20 21:56:15,455 : INFO : EPOCH - 4 : training on 601 raw words (348 effective words) took 0.3s, 1029 effective words/s\n",
      "2018-12-20 21:56:15,463 : INFO : worker thread finished; awaiting finish of 2 more threads\n",
      "2018-12-20 21:56:15,468 : INFO : worker thread finished; awaiting finish of 1 more threads\n",
      "2018-12-20 21:56:15,881 : INFO : worker thread finished; awaiting finish of 0 more threads\n",
      "2018-12-20 21:56:15,887 : INFO : EPOCH - 5 : training on 601 raw words (388 effective words) took 0.4s, 917 effective words/s\n",
      "2018-12-20 21:56:15,890 : INFO : training on a 3005 raw words (1799 effective words) took 2.0s, 891 effective words/s\n",
      "2018-12-20 21:56:15,894 : WARNING : under 10 jobs per worker: consider setting a smaller `batch_words' for smoother alpha decay\n",
      "2018-12-20 21:56:15,896 : INFO : training model with 3 workers on 263 vocabulary and 100 features, using sg=0 hs=0 sample=0.001 negative=5 window=5\n",
      "2018-12-20 21:56:15,909 : INFO : worker thread finished; awaiting finish of 2 more threads\n",
      "2018-12-20 21:56:15,917 : INFO : worker thread finished; awaiting finish of 1 more threads\n"
     ]
    },
    {
     "name": "stdout",
     "output_type": "stream",
     "text": [
      "iteration 84\n"
     ]
    },
    {
     "name": "stderr",
     "output_type": "stream",
     "text": [
      "2018-12-20 21:56:16,345 : INFO : worker thread finished; awaiting finish of 0 more threads\n",
      "2018-12-20 21:56:16,351 : INFO : EPOCH - 1 : training on 601 raw words (362 effective words) took 0.4s, 817 effective words/s\n",
      "2018-12-20 21:56:16,363 : INFO : worker thread finished; awaiting finish of 2 more threads\n",
      "2018-12-20 21:56:16,366 : INFO : worker thread finished; awaiting finish of 1 more threads\n",
      "2018-12-20 21:56:16,785 : INFO : worker thread finished; awaiting finish of 0 more threads\n",
      "2018-12-20 21:56:16,786 : INFO : EPOCH - 2 : training on 601 raw words (361 effective words) took 0.4s, 850 effective words/s\n",
      "2018-12-20 21:56:16,800 : INFO : worker thread finished; awaiting finish of 2 more threads\n",
      "2018-12-20 21:56:16,805 : INFO : worker thread finished; awaiting finish of 1 more threads\n",
      "2018-12-20 21:56:17,200 : INFO : worker thread finished; awaiting finish of 0 more threads\n",
      "2018-12-20 21:56:17,203 : INFO : EPOCH - 3 : training on 601 raw words (353 effective words) took 0.4s, 873 effective words/s\n",
      "2018-12-20 21:56:17,219 : INFO : worker thread finished; awaiting finish of 2 more threads\n",
      "2018-12-20 21:56:17,225 : INFO : worker thread finished; awaiting finish of 1 more threads\n",
      "2018-12-20 21:56:17,597 : INFO : worker thread finished; awaiting finish of 0 more threads\n",
      "2018-12-20 21:56:17,597 : INFO : EPOCH - 4 : training on 601 raw words (362 effective words) took 0.4s, 938 effective words/s\n",
      "2018-12-20 21:56:17,614 : INFO : worker thread finished; awaiting finish of 2 more threads\n",
      "2018-12-20 21:56:17,616 : INFO : worker thread finished; awaiting finish of 1 more threads\n",
      "2018-12-20 21:56:17,985 : INFO : worker thread finished; awaiting finish of 0 more threads\n",
      "2018-12-20 21:56:17,988 : INFO : EPOCH - 5 : training on 601 raw words (349 effective words) took 0.4s, 927 effective words/s\n",
      "2018-12-20 21:56:17,991 : INFO : training on a 3005 raw words (1787 effective words) took 2.1s, 854 effective words/s\n",
      "2018-12-20 21:56:17,994 : WARNING : under 10 jobs per worker: consider setting a smaller `batch_words' for smoother alpha decay\n",
      "2018-12-20 21:56:17,997 : INFO : training model with 3 workers on 263 vocabulary and 100 features, using sg=0 hs=0 sample=0.001 negative=5 window=5\n",
      "2018-12-20 21:56:18,009 : INFO : worker thread finished; awaiting finish of 2 more threads\n",
      "2018-12-20 21:56:18,016 : INFO : worker thread finished; awaiting finish of 1 more threads\n"
     ]
    },
    {
     "name": "stdout",
     "output_type": "stream",
     "text": [
      "iteration 85\n"
     ]
    },
    {
     "name": "stderr",
     "output_type": "stream",
     "text": [
      "2018-12-20 21:56:18,344 : INFO : worker thread finished; awaiting finish of 0 more threads\n",
      "2018-12-20 21:56:18,349 : INFO : EPOCH - 1 : training on 601 raw words (365 effective words) took 0.3s, 1067 effective words/s\n",
      "2018-12-20 21:56:18,357 : INFO : worker thread finished; awaiting finish of 2 more threads\n",
      "2018-12-20 21:56:18,360 : INFO : worker thread finished; awaiting finish of 1 more threads\n",
      "2018-12-20 21:56:18,536 : INFO : worker thread finished; awaiting finish of 0 more threads\n",
      "2018-12-20 21:56:18,537 : INFO : EPOCH - 2 : training on 601 raw words (359 effective words) took 0.2s, 1971 effective words/s\n",
      "2018-12-20 21:56:18,542 : INFO : worker thread finished; awaiting finish of 2 more threads\n",
      "2018-12-20 21:56:18,547 : INFO : worker thread finished; awaiting finish of 1 more threads\n",
      "2018-12-20 21:56:18,723 : INFO : worker thread finished; awaiting finish of 0 more threads\n",
      "2018-12-20 21:56:18,724 : INFO : EPOCH - 3 : training on 601 raw words (359 effective words) took 0.2s, 1969 effective words/s\n",
      "2018-12-20 21:56:18,729 : INFO : worker thread finished; awaiting finish of 2 more threads\n",
      "2018-12-20 21:56:18,733 : INFO : worker thread finished; awaiting finish of 1 more threads\n",
      "2018-12-20 21:56:18,885 : INFO : worker thread finished; awaiting finish of 0 more threads\n",
      "2018-12-20 21:56:18,887 : INFO : EPOCH - 4 : training on 601 raw words (364 effective words) took 0.2s, 2307 effective words/s\n",
      "2018-12-20 21:56:18,891 : INFO : worker thread finished; awaiting finish of 2 more threads\n",
      "2018-12-20 21:56:18,894 : INFO : worker thread finished; awaiting finish of 1 more threads\n",
      "2018-12-20 21:56:19,081 : INFO : worker thread finished; awaiting finish of 0 more threads\n",
      "2018-12-20 21:56:19,084 : INFO : EPOCH - 5 : training on 601 raw words (363 effective words) took 0.2s, 1886 effective words/s\n",
      "2018-12-20 21:56:19,086 : INFO : training on a 3005 raw words (1810 effective words) took 1.1s, 1667 effective words/s\n",
      "2018-12-20 21:56:19,087 : WARNING : under 10 jobs per worker: consider setting a smaller `batch_words' for smoother alpha decay\n",
      "2018-12-20 21:56:19,089 : INFO : training model with 3 workers on 263 vocabulary and 100 features, using sg=0 hs=0 sample=0.001 negative=5 window=5\n",
      "2018-12-20 21:56:19,096 : INFO : worker thread finished; awaiting finish of 2 more threads\n",
      "2018-12-20 21:56:19,098 : INFO : worker thread finished; awaiting finish of 1 more threads\n"
     ]
    },
    {
     "name": "stdout",
     "output_type": "stream",
     "text": [
      "iteration 86\n"
     ]
    },
    {
     "name": "stderr",
     "output_type": "stream",
     "text": [
      "2018-12-20 21:56:19,404 : INFO : worker thread finished; awaiting finish of 0 more threads\n",
      "2018-12-20 21:56:19,406 : INFO : EPOCH - 1 : training on 601 raw words (356 effective words) took 0.3s, 1143 effective words/s\n",
      "2018-12-20 21:56:19,415 : INFO : worker thread finished; awaiting finish of 2 more threads\n",
      "2018-12-20 21:56:19,419 : INFO : worker thread finished; awaiting finish of 1 more threads\n",
      "2018-12-20 21:56:19,644 : INFO : worker thread finished; awaiting finish of 0 more threads\n",
      "2018-12-20 21:56:19,645 : INFO : EPOCH - 2 : training on 601 raw words (380 effective words) took 0.2s, 1638 effective words/s\n",
      "2018-12-20 21:56:19,650 : INFO : worker thread finished; awaiting finish of 2 more threads\n",
      "2018-12-20 21:56:19,652 : INFO : worker thread finished; awaiting finish of 1 more threads\n",
      "2018-12-20 21:56:19,932 : INFO : worker thread finished; awaiting finish of 0 more threads\n",
      "2018-12-20 21:56:19,934 : INFO : EPOCH - 3 : training on 601 raw words (357 effective words) took 0.3s, 1256 effective words/s\n",
      "2018-12-20 21:56:19,940 : INFO : worker thread finished; awaiting finish of 2 more threads\n",
      "2018-12-20 21:56:19,944 : INFO : worker thread finished; awaiting finish of 1 more threads\n",
      "2018-12-20 21:56:20,107 : INFO : worker thread finished; awaiting finish of 0 more threads\n",
      "2018-12-20 21:56:20,108 : INFO : EPOCH - 4 : training on 601 raw words (359 effective words) took 0.2s, 2134 effective words/s\n",
      "2018-12-20 21:56:20,113 : INFO : worker thread finished; awaiting finish of 2 more threads\n",
      "2018-12-20 21:56:20,116 : INFO : worker thread finished; awaiting finish of 1 more threads\n",
      "2018-12-20 21:56:20,299 : INFO : worker thread finished; awaiting finish of 0 more threads\n",
      "2018-12-20 21:56:20,301 : INFO : EPOCH - 5 : training on 601 raw words (359 effective words) took 0.2s, 1907 effective words/s\n",
      "2018-12-20 21:56:20,302 : INFO : training on a 3005 raw words (1811 effective words) took 1.2s, 1494 effective words/s\n",
      "2018-12-20 21:56:20,303 : WARNING : under 10 jobs per worker: consider setting a smaller `batch_words' for smoother alpha decay\n",
      "2018-12-20 21:56:20,306 : INFO : training model with 3 workers on 263 vocabulary and 100 features, using sg=0 hs=0 sample=0.001 negative=5 window=5\n",
      "2018-12-20 21:56:20,311 : INFO : worker thread finished; awaiting finish of 2 more threads\n",
      "2018-12-20 21:56:20,314 : INFO : worker thread finished; awaiting finish of 1 more threads\n"
     ]
    },
    {
     "name": "stdout",
     "output_type": "stream",
     "text": [
      "iteration 87\n"
     ]
    },
    {
     "name": "stderr",
     "output_type": "stream",
     "text": [
      "2018-12-20 21:56:20,510 : INFO : worker thread finished; awaiting finish of 0 more threads\n",
      "2018-12-20 21:56:20,512 : INFO : EPOCH - 1 : training on 601 raw words (355 effective words) took 0.2s, 1763 effective words/s\n",
      "2018-12-20 21:56:20,519 : INFO : worker thread finished; awaiting finish of 2 more threads\n",
      "2018-12-20 21:56:20,521 : INFO : worker thread finished; awaiting finish of 1 more threads\n",
      "2018-12-20 21:56:20,707 : INFO : worker thread finished; awaiting finish of 0 more threads\n",
      "2018-12-20 21:56:20,707 : INFO : EPOCH - 2 : training on 601 raw words (369 effective words) took 0.2s, 1905 effective words/s\n",
      "2018-12-20 21:56:20,718 : INFO : worker thread finished; awaiting finish of 2 more threads\n",
      "2018-12-20 21:56:20,720 : INFO : worker thread finished; awaiting finish of 1 more threads\n",
      "2018-12-20 21:56:20,976 : INFO : worker thread finished; awaiting finish of 0 more threads\n",
      "2018-12-20 21:56:20,980 : INFO : EPOCH - 3 : training on 601 raw words (350 effective words) took 0.3s, 1337 effective words/s\n",
      "2018-12-20 21:56:20,990 : INFO : worker thread finished; awaiting finish of 2 more threads\n",
      "2018-12-20 21:56:20,994 : INFO : worker thread finished; awaiting finish of 1 more threads\n",
      "2018-12-20 21:56:21,336 : INFO : worker thread finished; awaiting finish of 0 more threads\n",
      "2018-12-20 21:56:21,338 : INFO : EPOCH - 4 : training on 601 raw words (354 effective words) took 0.3s, 1013 effective words/s\n",
      "2018-12-20 21:56:21,349 : INFO : worker thread finished; awaiting finish of 2 more threads\n",
      "2018-12-20 21:56:21,355 : INFO : worker thread finished; awaiting finish of 1 more threads\n",
      "2018-12-20 21:56:21,718 : INFO : worker thread finished; awaiting finish of 0 more threads\n",
      "2018-12-20 21:56:21,719 : INFO : EPOCH - 5 : training on 601 raw words (344 effective words) took 0.4s, 922 effective words/s\n",
      "2018-12-20 21:56:21,722 : INFO : training on a 3005 raw words (1772 effective words) took 1.4s, 1252 effective words/s\n",
      "2018-12-20 21:56:21,726 : WARNING : under 10 jobs per worker: consider setting a smaller `batch_words' for smoother alpha decay\n",
      "2018-12-20 21:56:21,729 : INFO : training model with 3 workers on 263 vocabulary and 100 features, using sg=0 hs=0 sample=0.001 negative=5 window=5\n",
      "2018-12-20 21:56:21,746 : INFO : worker thread finished; awaiting finish of 2 more threads\n",
      "2018-12-20 21:56:21,756 : INFO : worker thread finished; awaiting finish of 1 more threads\n"
     ]
    },
    {
     "name": "stdout",
     "output_type": "stream",
     "text": [
      "iteration 88\n"
     ]
    },
    {
     "name": "stderr",
     "output_type": "stream",
     "text": [
      "2018-12-20 21:56:22,161 : INFO : worker thread finished; awaiting finish of 0 more threads\n",
      "2018-12-20 21:56:22,163 : INFO : EPOCH - 1 : training on 601 raw words (366 effective words) took 0.4s, 868 effective words/s\n",
      "2018-12-20 21:56:22,182 : INFO : worker thread finished; awaiting finish of 2 more threads\n",
      "2018-12-20 21:56:22,187 : INFO : worker thread finished; awaiting finish of 1 more threads\n",
      "2018-12-20 21:56:22,586 : INFO : worker thread finished; awaiting finish of 0 more threads\n",
      "2018-12-20 21:56:22,594 : INFO : EPOCH - 2 : training on 601 raw words (358 effective words) took 0.4s, 848 effective words/s\n",
      "2018-12-20 21:56:22,606 : INFO : worker thread finished; awaiting finish of 2 more threads\n",
      "2018-12-20 21:56:22,620 : INFO : worker thread finished; awaiting finish of 1 more threads\n",
      "2018-12-20 21:56:23,010 : INFO : worker thread finished; awaiting finish of 0 more threads\n",
      "2018-12-20 21:56:23,014 : INFO : EPOCH - 3 : training on 601 raw words (363 effective words) took 0.4s, 891 effective words/s\n",
      "2018-12-20 21:56:23,025 : INFO : worker thread finished; awaiting finish of 2 more threads\n",
      "2018-12-20 21:56:23,030 : INFO : worker thread finished; awaiting finish of 1 more threads\n",
      "2018-12-20 21:56:23,395 : INFO : worker thread finished; awaiting finish of 0 more threads\n",
      "2018-12-20 21:56:23,401 : INFO : EPOCH - 4 : training on 601 raw words (365 effective words) took 0.4s, 971 effective words/s\n",
      "2018-12-20 21:56:23,406 : INFO : worker thread finished; awaiting finish of 2 more threads\n",
      "2018-12-20 21:56:23,409 : INFO : worker thread finished; awaiting finish of 1 more threads\n",
      "2018-12-20 21:56:23,602 : INFO : worker thread finished; awaiting finish of 0 more threads\n",
      "2018-12-20 21:56:23,603 : INFO : EPOCH - 5 : training on 601 raw words (355 effective words) took 0.2s, 1792 effective words/s\n",
      "2018-12-20 21:56:23,605 : INFO : training on a 3005 raw words (1807 effective words) took 1.9s, 965 effective words/s\n",
      "2018-12-20 21:56:23,607 : WARNING : under 10 jobs per worker: consider setting a smaller `batch_words' for smoother alpha decay\n",
      "2018-12-20 21:56:23,610 : INFO : training model with 3 workers on 263 vocabulary and 100 features, using sg=0 hs=0 sample=0.001 negative=5 window=5\n",
      "2018-12-20 21:56:23,617 : INFO : worker thread finished; awaiting finish of 2 more threads\n",
      "2018-12-20 21:56:23,618 : INFO : worker thread finished; awaiting finish of 1 more threads\n"
     ]
    },
    {
     "name": "stdout",
     "output_type": "stream",
     "text": [
      "iteration 89\n"
     ]
    },
    {
     "name": "stderr",
     "output_type": "stream",
     "text": [
      "2018-12-20 21:56:23,901 : INFO : worker thread finished; awaiting finish of 0 more threads\n",
      "2018-12-20 21:56:23,903 : INFO : EPOCH - 1 : training on 601 raw words (354 effective words) took 0.3s, 1238 effective words/s\n",
      "2018-12-20 21:56:23,913 : INFO : worker thread finished; awaiting finish of 2 more threads\n",
      "2018-12-20 21:56:23,919 : INFO : worker thread finished; awaiting finish of 1 more threads\n",
      "2018-12-20 21:56:24,234 : INFO : worker thread finished; awaiting finish of 0 more threads\n",
      "2018-12-20 21:56:24,235 : INFO : EPOCH - 2 : training on 601 raw words (356 effective words) took 0.3s, 1102 effective words/s\n",
      "2018-12-20 21:56:24,243 : INFO : worker thread finished; awaiting finish of 2 more threads\n",
      "2018-12-20 21:56:24,247 : INFO : worker thread finished; awaiting finish of 1 more threads\n",
      "2018-12-20 21:56:24,491 : INFO : worker thread finished; awaiting finish of 0 more threads\n",
      "2018-12-20 21:56:24,494 : INFO : EPOCH - 3 : training on 601 raw words (348 effective words) took 0.3s, 1380 effective words/s\n",
      "2018-12-20 21:56:24,501 : INFO : worker thread finished; awaiting finish of 2 more threads\n",
      "2018-12-20 21:56:24,503 : INFO : worker thread finished; awaiting finish of 1 more threads\n",
      "2018-12-20 21:56:24,723 : INFO : worker thread finished; awaiting finish of 0 more threads\n",
      "2018-12-20 21:56:24,724 : INFO : EPOCH - 4 : training on 601 raw words (368 effective words) took 0.2s, 1644 effective words/s\n",
      "2018-12-20 21:56:24,729 : INFO : worker thread finished; awaiting finish of 2 more threads\n",
      "2018-12-20 21:56:24,734 : INFO : worker thread finished; awaiting finish of 1 more threads\n",
      "2018-12-20 21:56:24,918 : INFO : worker thread finished; awaiting finish of 0 more threads\n",
      "2018-12-20 21:56:24,918 : INFO : EPOCH - 5 : training on 601 raw words (377 effective words) took 0.2s, 1982 effective words/s\n",
      "2018-12-20 21:56:24,918 : INFO : training on a 3005 raw words (1803 effective words) took 1.3s, 1378 effective words/s\n",
      "2018-12-20 21:56:24,918 : WARNING : under 10 jobs per worker: consider setting a smaller `batch_words' for smoother alpha decay\n",
      "2018-12-20 21:56:24,923 : INFO : training model with 3 workers on 263 vocabulary and 100 features, using sg=0 hs=0 sample=0.001 negative=5 window=5\n",
      "2018-12-20 21:56:24,927 : INFO : worker thread finished; awaiting finish of 2 more threads\n",
      "2018-12-20 21:56:24,930 : INFO : worker thread finished; awaiting finish of 1 more threads\n",
      "2018-12-20 21:56:25,115 : INFO : worker thread finished; awaiting finish of 0 more threads"
     ]
    },
    {
     "name": "stdout",
     "output_type": "stream",
     "text": [
      "iteration 90\n"
     ]
    },
    {
     "name": "stderr",
     "output_type": "stream",
     "text": [
      "\n",
      "2018-12-20 21:56:25,118 : INFO : EPOCH - 1 : training on 601 raw words (348 effective words) took 0.2s, 1832 effective words/s\n",
      "2018-12-20 21:56:25,125 : INFO : worker thread finished; awaiting finish of 2 more threads\n",
      "2018-12-20 21:56:25,127 : INFO : worker thread finished; awaiting finish of 1 more threads\n",
      "2018-12-20 21:56:25,329 : INFO : worker thread finished; awaiting finish of 0 more threads\n",
      "2018-12-20 21:56:25,331 : INFO : EPOCH - 2 : training on 601 raw words (354 effective words) took 0.2s, 1713 effective words/s\n",
      "2018-12-20 21:56:25,337 : INFO : worker thread finished; awaiting finish of 2 more threads\n",
      "2018-12-20 21:56:25,341 : INFO : worker thread finished; awaiting finish of 1 more threads\n",
      "2018-12-20 21:56:25,562 : INFO : worker thread finished; awaiting finish of 0 more threads\n",
      "2018-12-20 21:56:25,567 : INFO : EPOCH - 3 : training on 601 raw words (377 effective words) took 0.2s, 1630 effective words/s\n",
      "2018-12-20 21:56:25,577 : INFO : worker thread finished; awaiting finish of 2 more threads\n",
      "2018-12-20 21:56:25,579 : INFO : worker thread finished; awaiting finish of 1 more threads\n",
      "2018-12-20 21:56:25,803 : INFO : worker thread finished; awaiting finish of 0 more threads\n",
      "2018-12-20 21:56:25,805 : INFO : EPOCH - 4 : training on 601 raw words (367 effective words) took 0.2s, 1596 effective words/s\n",
      "2018-12-20 21:56:25,813 : INFO : worker thread finished; awaiting finish of 2 more threads\n",
      "2018-12-20 21:56:25,816 : INFO : worker thread finished; awaiting finish of 1 more threads\n",
      "2018-12-20 21:56:26,188 : INFO : worker thread finished; awaiting finish of 0 more threads\n",
      "2018-12-20 21:56:26,194 : INFO : EPOCH - 5 : training on 601 raw words (356 effective words) took 0.4s, 936 effective words/s\n",
      "2018-12-20 21:56:26,197 : INFO : training on a 3005 raw words (1802 effective words) took 1.3s, 1416 effective words/s\n",
      "2018-12-20 21:56:26,198 : WARNING : under 10 jobs per worker: consider setting a smaller `batch_words' for smoother alpha decay\n",
      "2018-12-20 21:56:26,201 : INFO : training model with 3 workers on 263 vocabulary and 100 features, using sg=0 hs=0 sample=0.001 negative=5 window=5\n",
      "2018-12-20 21:56:26,220 : INFO : worker thread finished; awaiting finish of 2 more threads\n",
      "2018-12-20 21:56:26,229 : INFO : worker thread finished; awaiting finish of 1 more threads\n"
     ]
    },
    {
     "name": "stdout",
     "output_type": "stream",
     "text": [
      "iteration 91\n"
     ]
    },
    {
     "name": "stderr",
     "output_type": "stream",
     "text": [
      "2018-12-20 21:56:26,654 : INFO : worker thread finished; awaiting finish of 0 more threads\n",
      "2018-12-20 21:56:26,655 : INFO : EPOCH - 1 : training on 601 raw words (360 effective words) took 0.4s, 811 effective words/s\n",
      "2018-12-20 21:56:26,669 : INFO : worker thread finished; awaiting finish of 2 more threads\n",
      "2018-12-20 21:56:26,677 : INFO : worker thread finished; awaiting finish of 1 more threads\n",
      "2018-12-20 21:56:27,002 : INFO : worker thread finished; awaiting finish of 0 more threads\n",
      "2018-12-20 21:56:27,009 : INFO : EPOCH - 2 : training on 601 raw words (355 effective words) took 0.3s, 1039 effective words/s\n",
      "2018-12-20 21:56:27,018 : INFO : worker thread finished; awaiting finish of 2 more threads\n",
      "2018-12-20 21:56:27,021 : INFO : worker thread finished; awaiting finish of 1 more threads\n",
      "2018-12-20 21:56:27,378 : INFO : worker thread finished; awaiting finish of 0 more threads\n",
      "2018-12-20 21:56:27,380 : INFO : EPOCH - 3 : training on 601 raw words (352 effective words) took 0.4s, 972 effective words/s\n",
      "2018-12-20 21:56:27,390 : INFO : worker thread finished; awaiting finish of 2 more threads\n",
      "2018-12-20 21:56:27,395 : INFO : worker thread finished; awaiting finish of 1 more threads\n",
      "2018-12-20 21:56:27,803 : INFO : worker thread finished; awaiting finish of 0 more threads\n",
      "2018-12-20 21:56:27,806 : INFO : EPOCH - 4 : training on 601 raw words (353 effective words) took 0.4s, 849 effective words/s\n",
      "2018-12-20 21:56:27,817 : INFO : worker thread finished; awaiting finish of 2 more threads\n",
      "2018-12-20 21:56:27,825 : INFO : worker thread finished; awaiting finish of 1 more threads\n",
      "2018-12-20 21:56:28,159 : INFO : worker thread finished; awaiting finish of 0 more threads\n",
      "2018-12-20 21:56:28,161 : INFO : EPOCH - 5 : training on 601 raw words (359 effective words) took 0.3s, 1040 effective words/s\n",
      "2018-12-20 21:56:28,163 : INFO : training on a 3005 raw words (1779 effective words) took 2.0s, 908 effective words/s\n",
      "2018-12-20 21:56:28,163 : WARNING : under 10 jobs per worker: consider setting a smaller `batch_words' for smoother alpha decay\n",
      "2018-12-20 21:56:28,166 : INFO : training model with 3 workers on 263 vocabulary and 100 features, using sg=0 hs=0 sample=0.001 negative=5 window=5\n",
      "2018-12-20 21:56:28,179 : INFO : worker thread finished; awaiting finish of 2 more threads\n",
      "2018-12-20 21:56:28,184 : INFO : worker thread finished; awaiting finish of 1 more threads\n"
     ]
    },
    {
     "name": "stdout",
     "output_type": "stream",
     "text": [
      "iteration 92\n"
     ]
    },
    {
     "name": "stderr",
     "output_type": "stream",
     "text": [
      "2018-12-20 21:56:28,553 : INFO : worker thread finished; awaiting finish of 0 more threads\n",
      "2018-12-20 21:56:28,556 : INFO : EPOCH - 1 : training on 601 raw words (361 effective words) took 0.4s, 956 effective words/s\n",
      "2018-12-20 21:56:28,567 : INFO : worker thread finished; awaiting finish of 2 more threads\n",
      "2018-12-20 21:56:28,571 : INFO : worker thread finished; awaiting finish of 1 more threads\n",
      "2018-12-20 21:56:28,920 : INFO : worker thread finished; awaiting finish of 0 more threads\n",
      "2018-12-20 21:56:28,922 : INFO : EPOCH - 2 : training on 601 raw words (364 effective words) took 0.4s, 1020 effective words/s\n",
      "2018-12-20 21:56:28,935 : INFO : worker thread finished; awaiting finish of 2 more threads\n",
      "2018-12-20 21:56:28,937 : INFO : worker thread finished; awaiting finish of 1 more threads\n",
      "2018-12-20 21:56:29,262 : INFO : worker thread finished; awaiting finish of 0 more threads\n",
      "2018-12-20 21:56:29,267 : INFO : EPOCH - 3 : training on 601 raw words (358 effective words) took 0.3s, 1077 effective words/s\n",
      "2018-12-20 21:56:29,276 : INFO : worker thread finished; awaiting finish of 2 more threads\n",
      "2018-12-20 21:56:29,280 : INFO : worker thread finished; awaiting finish of 1 more threads\n",
      "2018-12-20 21:56:29,628 : INFO : worker thread finished; awaiting finish of 0 more threads\n",
      "2018-12-20 21:56:29,629 : INFO : EPOCH - 4 : training on 601 raw words (368 effective words) took 0.4s, 1036 effective words/s\n",
      "2018-12-20 21:56:29,635 : INFO : worker thread finished; awaiting finish of 2 more threads\n",
      "2018-12-20 21:56:29,636 : INFO : worker thread finished; awaiting finish of 1 more threads\n",
      "2018-12-20 21:56:29,827 : INFO : worker thread finished; awaiting finish of 0 more threads\n",
      "2018-12-20 21:56:29,827 : INFO : EPOCH - 5 : training on 601 raw words (359 effective words) took 0.2s, 1849 effective words/s\n",
      "2018-12-20 21:56:29,827 : INFO : training on a 3005 raw words (1810 effective words) took 1.7s, 1089 effective words/s\n",
      "2018-12-20 21:56:29,831 : WARNING : under 10 jobs per worker: consider setting a smaller `batch_words' for smoother alpha decay\n",
      "2018-12-20 21:56:29,834 : INFO : training model with 3 workers on 263 vocabulary and 100 features, using sg=0 hs=0 sample=0.001 negative=5 window=5\n",
      "2018-12-20 21:56:29,842 : INFO : worker thread finished; awaiting finish of 2 more threads\n",
      "2018-12-20 21:56:29,844 : INFO : worker thread finished; awaiting finish of 1 more threads\n"
     ]
    },
    {
     "name": "stdout",
     "output_type": "stream",
     "text": [
      "iteration 93\n"
     ]
    },
    {
     "name": "stderr",
     "output_type": "stream",
     "text": [
      "2018-12-20 21:56:30,115 : INFO : worker thread finished; awaiting finish of 0 more threads\n",
      "2018-12-20 21:56:30,117 : INFO : EPOCH - 1 : training on 601 raw words (373 effective words) took 0.3s, 1348 effective words/s\n",
      "2018-12-20 21:56:30,125 : INFO : worker thread finished; awaiting finish of 2 more threads\n",
      "2018-12-20 21:56:30,127 : INFO : worker thread finished; awaiting finish of 1 more threads\n",
      "2018-12-20 21:56:30,368 : INFO : worker thread finished; awaiting finish of 0 more threads\n",
      "2018-12-20 21:56:30,369 : INFO : EPOCH - 2 : training on 601 raw words (370 effective words) took 0.2s, 1508 effective words/s\n",
      "2018-12-20 21:56:30,373 : INFO : worker thread finished; awaiting finish of 2 more threads\n",
      "2018-12-20 21:56:30,376 : INFO : worker thread finished; awaiting finish of 1 more threads\n",
      "2018-12-20 21:56:30,562 : INFO : worker thread finished; awaiting finish of 0 more threads\n",
      "2018-12-20 21:56:30,564 : INFO : EPOCH - 3 : training on 601 raw words (363 effective words) took 0.2s, 1903 effective words/s\n",
      "2018-12-20 21:56:30,570 : INFO : worker thread finished; awaiting finish of 2 more threads\n",
      "2018-12-20 21:56:30,572 : INFO : worker thread finished; awaiting finish of 1 more threads\n",
      "2018-12-20 21:56:30,772 : INFO : worker thread finished; awaiting finish of 0 more threads\n",
      "2018-12-20 21:56:30,773 : INFO : EPOCH - 4 : training on 601 raw words (372 effective words) took 0.2s, 1833 effective words/s\n",
      "2018-12-20 21:56:30,779 : INFO : worker thread finished; awaiting finish of 2 more threads\n",
      "2018-12-20 21:56:30,782 : INFO : worker thread finished; awaiting finish of 1 more threads\n",
      "2018-12-20 21:56:30,973 : INFO : worker thread finished; awaiting finish of 0 more threads\n",
      "2018-12-20 21:56:30,975 : INFO : EPOCH - 5 : training on 601 raw words (350 effective words) took 0.2s, 1779 effective words/s\n",
      "2018-12-20 21:56:30,976 : INFO : training on a 3005 raw words (1828 effective words) took 1.1s, 1602 effective words/s\n",
      "2018-12-20 21:56:30,976 : WARNING : under 10 jobs per worker: consider setting a smaller `batch_words' for smoother alpha decay\n",
      "2018-12-20 21:56:30,978 : INFO : training model with 3 workers on 263 vocabulary and 100 features, using sg=0 hs=0 sample=0.001 negative=5 window=5\n",
      "2018-12-20 21:56:30,985 : INFO : worker thread finished; awaiting finish of 2 more threads\n",
      "2018-12-20 21:56:30,988 : INFO : worker thread finished; awaiting finish of 1 more threads\n"
     ]
    },
    {
     "name": "stdout",
     "output_type": "stream",
     "text": [
      "iteration 94\n"
     ]
    },
    {
     "name": "stderr",
     "output_type": "stream",
     "text": [
      "2018-12-20 21:56:31,202 : INFO : worker thread finished; awaiting finish of 0 more threads\n",
      "2018-12-20 21:56:31,205 : INFO : EPOCH - 1 : training on 601 raw words (354 effective words) took 0.2s, 1609 effective words/s\n",
      "2018-12-20 21:56:31,213 : INFO : worker thread finished; awaiting finish of 2 more threads\n",
      "2018-12-20 21:56:31,217 : INFO : worker thread finished; awaiting finish of 1 more threads\n",
      "2018-12-20 21:56:31,442 : INFO : worker thread finished; awaiting finish of 0 more threads\n",
      "2018-12-20 21:56:31,444 : INFO : EPOCH - 2 : training on 601 raw words (364 effective words) took 0.2s, 1564 effective words/s\n",
      "2018-12-20 21:56:31,449 : INFO : worker thread finished; awaiting finish of 2 more threads\n",
      "2018-12-20 21:56:31,457 : INFO : worker thread finished; awaiting finish of 1 more threads\n",
      "2018-12-20 21:56:31,682 : INFO : worker thread finished; awaiting finish of 0 more threads\n",
      "2018-12-20 21:56:31,684 : INFO : EPOCH - 3 : training on 601 raw words (348 effective words) took 0.2s, 1471 effective words/s\n",
      "2018-12-20 21:56:31,689 : INFO : worker thread finished; awaiting finish of 2 more threads\n",
      "2018-12-20 21:56:31,694 : INFO : worker thread finished; awaiting finish of 1 more threads\n",
      "2018-12-20 21:56:31,977 : INFO : worker thread finished; awaiting finish of 0 more threads\n",
      "2018-12-20 21:56:31,980 : INFO : EPOCH - 4 : training on 601 raw words (353 effective words) took 0.3s, 1211 effective words/s\n",
      "2018-12-20 21:56:31,992 : INFO : worker thread finished; awaiting finish of 2 more threads\n",
      "2018-12-20 21:56:31,999 : INFO : worker thread finished; awaiting finish of 1 more threads\n",
      "2018-12-20 21:56:32,341 : INFO : worker thread finished; awaiting finish of 0 more threads\n",
      "2018-12-20 21:56:32,344 : INFO : EPOCH - 5 : training on 601 raw words (353 effective words) took 0.4s, 991 effective words/s\n",
      "2018-12-20 21:56:32,347 : INFO : training on a 3005 raw words (1772 effective words) took 1.4s, 1296 effective words/s\n",
      "2018-12-20 21:56:32,349 : WARNING : under 10 jobs per worker: consider setting a smaller `batch_words' for smoother alpha decay\n",
      "2018-12-20 21:56:32,352 : INFO : training model with 3 workers on 263 vocabulary and 100 features, using sg=0 hs=0 sample=0.001 negative=5 window=5\n",
      "2018-12-20 21:56:32,361 : INFO : worker thread finished; awaiting finish of 2 more threads\n",
      "2018-12-20 21:56:32,367 : INFO : worker thread finished; awaiting finish of 1 more threads\n"
     ]
    },
    {
     "name": "stdout",
     "output_type": "stream",
     "text": [
      "iteration 95\n"
     ]
    },
    {
     "name": "stderr",
     "output_type": "stream",
     "text": [
      "2018-12-20 21:56:32,736 : INFO : worker thread finished; awaiting finish of 0 more threads\n",
      "2018-12-20 21:56:32,739 : INFO : EPOCH - 1 : training on 601 raw words (359 effective words) took 0.4s, 947 effective words/s\n",
      "2018-12-20 21:56:32,749 : INFO : worker thread finished; awaiting finish of 2 more threads\n",
      "2018-12-20 21:56:32,760 : INFO : worker thread finished; awaiting finish of 1 more threads\n",
      "2018-12-20 21:56:33,111 : INFO : worker thread finished; awaiting finish of 0 more threads\n",
      "2018-12-20 21:56:33,112 : INFO : EPOCH - 2 : training on 601 raw words (367 effective words) took 0.4s, 1009 effective words/s\n",
      "2018-12-20 21:56:33,124 : INFO : worker thread finished; awaiting finish of 2 more threads\n",
      "2018-12-20 21:56:33,128 : INFO : worker thread finished; awaiting finish of 1 more threads\n",
      "2018-12-20 21:56:33,451 : INFO : worker thread finished; awaiting finish of 0 more threads\n",
      "2018-12-20 21:56:33,453 : INFO : EPOCH - 3 : training on 601 raw words (361 effective words) took 0.3s, 1098 effective words/s\n",
      "2018-12-20 21:56:33,460 : INFO : worker thread finished; awaiting finish of 2 more threads\n",
      "2018-12-20 21:56:33,464 : INFO : worker thread finished; awaiting finish of 1 more threads\n",
      "2018-12-20 21:56:33,648 : INFO : worker thread finished; awaiting finish of 0 more threads\n",
      "2018-12-20 21:56:33,649 : INFO : EPOCH - 4 : training on 601 raw words (375 effective words) took 0.2s, 1983 effective words/s\n",
      "2018-12-20 21:56:33,655 : INFO : worker thread finished; awaiting finish of 2 more threads\n",
      "2018-12-20 21:56:33,658 : INFO : worker thread finished; awaiting finish of 1 more threads\n",
      "2018-12-20 21:56:33,864 : INFO : worker thread finished; awaiting finish of 0 more threads\n",
      "2018-12-20 21:56:33,864 : INFO : EPOCH - 5 : training on 601 raw words (361 effective words) took 0.2s, 1687 effective words/s\n",
      "2018-12-20 21:56:33,864 : INFO : training on a 3005 raw words (1823 effective words) took 1.5s, 1202 effective words/s\n",
      "2018-12-20 21:56:33,873 : WARNING : under 10 jobs per worker: consider setting a smaller `batch_words' for smoother alpha decay\n",
      "2018-12-20 21:56:33,877 : INFO : training model with 3 workers on 263 vocabulary and 100 features, using sg=0 hs=0 sample=0.001 negative=5 window=5\n",
      "2018-12-20 21:56:33,885 : INFO : worker thread finished; awaiting finish of 2 more threads\n",
      "2018-12-20 21:56:33,896 : INFO : worker thread finished; awaiting finish of 1 more threads\n"
     ]
    },
    {
     "name": "stdout",
     "output_type": "stream",
     "text": [
      "iteration 96\n"
     ]
    },
    {
     "name": "stderr",
     "output_type": "stream",
     "text": [
      "2018-12-20 21:56:34,291 : INFO : worker thread finished; awaiting finish of 0 more threads\n",
      "2018-12-20 21:56:34,295 : INFO : EPOCH - 1 : training on 601 raw words (356 effective words) took 0.4s, 866 effective words/s\n",
      "2018-12-20 21:56:34,305 : INFO : worker thread finished; awaiting finish of 2 more threads\n",
      "2018-12-20 21:56:34,315 : INFO : worker thread finished; awaiting finish of 1 more threads\n",
      "2018-12-20 21:56:34,687 : INFO : worker thread finished; awaiting finish of 0 more threads\n",
      "2018-12-20 21:56:34,688 : INFO : EPOCH - 2 : training on 601 raw words (355 effective words) took 0.4s, 919 effective words/s\n",
      "2018-12-20 21:56:34,701 : INFO : worker thread finished; awaiting finish of 2 more threads\n",
      "2018-12-20 21:56:34,705 : INFO : worker thread finished; awaiting finish of 1 more threads\n",
      "2018-12-20 21:56:35,077 : INFO : worker thread finished; awaiting finish of 0 more threads\n",
      "2018-12-20 21:56:35,079 : INFO : EPOCH - 3 : training on 601 raw words (360 effective words) took 0.4s, 950 effective words/s\n",
      "2018-12-20 21:56:35,090 : INFO : worker thread finished; awaiting finish of 2 more threads\n",
      "2018-12-20 21:56:35,097 : INFO : worker thread finished; awaiting finish of 1 more threads\n",
      "2018-12-20 21:56:35,480 : INFO : worker thread finished; awaiting finish of 0 more threads\n",
      "2018-12-20 21:56:35,481 : INFO : EPOCH - 4 : training on 601 raw words (364 effective words) took 0.4s, 925 effective words/s\n",
      "2018-12-20 21:56:35,489 : INFO : worker thread finished; awaiting finish of 2 more threads\n",
      "2018-12-20 21:56:35,494 : INFO : worker thread finished; awaiting finish of 1 more threads\n",
      "2018-12-20 21:56:35,884 : INFO : worker thread finished; awaiting finish of 0 more threads\n",
      "2018-12-20 21:56:35,886 : INFO : EPOCH - 5 : training on 601 raw words (349 effective words) took 0.4s, 878 effective words/s\n",
      "2018-12-20 21:56:35,889 : INFO : training on a 3005 raw words (1784 effective words) took 2.0s, 887 effective words/s\n",
      "2018-12-20 21:56:35,892 : WARNING : under 10 jobs per worker: consider setting a smaller `batch_words' for smoother alpha decay\n",
      "2018-12-20 21:56:35,896 : INFO : training model with 3 workers on 263 vocabulary and 100 features, using sg=0 hs=0 sample=0.001 negative=5 window=5\n",
      "2018-12-20 21:56:35,912 : INFO : worker thread finished; awaiting finish of 2 more threads\n",
      "2018-12-20 21:56:35,928 : INFO : worker thread finished; awaiting finish of 1 more threads\n"
     ]
    },
    {
     "name": "stdout",
     "output_type": "stream",
     "text": [
      "iteration 97\n"
     ]
    },
    {
     "name": "stderr",
     "output_type": "stream",
     "text": [
      "2018-12-20 21:56:36,333 : INFO : worker thread finished; awaiting finish of 0 more threads\n",
      "2018-12-20 21:56:36,342 : INFO : EPOCH - 1 : training on 601 raw words (354 effective words) took 0.4s, 821 effective words/s\n",
      "2018-12-20 21:56:36,353 : INFO : worker thread finished; awaiting finish of 2 more threads\n",
      "2018-12-20 21:56:36,359 : INFO : worker thread finished; awaiting finish of 1 more threads\n",
      "2018-12-20 21:56:36,740 : INFO : worker thread finished; awaiting finish of 0 more threads\n",
      "2018-12-20 21:56:36,744 : INFO : EPOCH - 2 : training on 601 raw words (353 effective words) took 0.4s, 902 effective words/s\n",
      "2018-12-20 21:56:36,755 : INFO : worker thread finished; awaiting finish of 2 more threads\n",
      "2018-12-20 21:56:36,759 : INFO : worker thread finished; awaiting finish of 1 more threads\n",
      "2018-12-20 21:56:37,136 : INFO : worker thread finished; awaiting finish of 0 more threads\n",
      "2018-12-20 21:56:37,141 : INFO : EPOCH - 3 : training on 601 raw words (354 effective words) took 0.4s, 912 effective words/s\n",
      "2018-12-20 21:56:37,151 : INFO : worker thread finished; awaiting finish of 2 more threads\n",
      "2018-12-20 21:56:37,161 : INFO : worker thread finished; awaiting finish of 1 more threads\n",
      "2018-12-20 21:56:37,572 : INFO : worker thread finished; awaiting finish of 0 more threads\n",
      "2018-12-20 21:56:37,575 : INFO : EPOCH - 4 : training on 601 raw words (361 effective words) took 0.4s, 850 effective words/s\n",
      "2018-12-20 21:56:37,581 : INFO : worker thread finished; awaiting finish of 2 more threads\n",
      "2018-12-20 21:56:37,584 : INFO : worker thread finished; awaiting finish of 1 more threads\n",
      "2018-12-20 21:56:37,893 : INFO : worker thread finished; awaiting finish of 0 more threads\n",
      "2018-12-20 21:56:37,894 : INFO : EPOCH - 5 : training on 601 raw words (359 effective words) took 0.3s, 1140 effective words/s\n",
      "2018-12-20 21:56:37,894 : INFO : training on a 3005 raw words (1781 effective words) took 2.0s, 891 effective words/s\n",
      "2018-12-20 21:56:37,894 : WARNING : under 10 jobs per worker: consider setting a smaller `batch_words' for smoother alpha decay\n",
      "2018-12-20 21:56:37,904 : INFO : training model with 3 workers on 263 vocabulary and 100 features, using sg=0 hs=0 sample=0.001 negative=5 window=5\n",
      "2018-12-20 21:56:37,927 : INFO : worker thread finished; awaiting finish of 2 more threads\n",
      "2018-12-20 21:56:37,950 : INFO : worker thread finished; awaiting finish of 1 more threads\n"
     ]
    },
    {
     "name": "stdout",
     "output_type": "stream",
     "text": [
      "iteration 98\n"
     ]
    },
    {
     "name": "stderr",
     "output_type": "stream",
     "text": [
      "2018-12-20 21:56:38,478 : INFO : worker thread finished; awaiting finish of 0 more threads\n",
      "2018-12-20 21:56:38,482 : INFO : EPOCH - 1 : training on 601 raw words (360 effective words) took 0.6s, 648 effective words/s\n",
      "2018-12-20 21:56:38,499 : INFO : worker thread finished; awaiting finish of 2 more threads\n",
      "2018-12-20 21:56:38,503 : INFO : worker thread finished; awaiting finish of 1 more threads\n",
      "2018-12-20 21:56:38,928 : INFO : worker thread finished; awaiting finish of 0 more threads\n",
      "2018-12-20 21:56:38,930 : INFO : EPOCH - 2 : training on 601 raw words (367 effective words) took 0.4s, 849 effective words/s\n",
      "2018-12-20 21:56:38,942 : INFO : worker thread finished; awaiting finish of 2 more threads\n",
      "2018-12-20 21:56:38,948 : INFO : worker thread finished; awaiting finish of 1 more threads\n",
      "2018-12-20 21:56:39,347 : INFO : worker thread finished; awaiting finish of 0 more threads\n",
      "2018-12-20 21:56:39,353 : INFO : EPOCH - 3 : training on 601 raw words (359 effective words) took 0.4s, 871 effective words/s\n",
      "2018-12-20 21:56:39,366 : INFO : worker thread finished; awaiting finish of 2 more threads\n",
      "2018-12-20 21:56:39,372 : INFO : worker thread finished; awaiting finish of 1 more threads\n",
      "2018-12-20 21:56:39,745 : INFO : worker thread finished; awaiting finish of 0 more threads\n",
      "2018-12-20 21:56:39,747 : INFO : EPOCH - 4 : training on 601 raw words (336 effective words) took 0.4s, 874 effective words/s\n",
      "2018-12-20 21:56:39,760 : INFO : worker thread finished; awaiting finish of 2 more threads\n",
      "2018-12-20 21:56:39,768 : INFO : worker thread finished; awaiting finish of 1 more threads\n",
      "2018-12-20 21:56:40,182 : INFO : worker thread finished; awaiting finish of 0 more threads\n",
      "2018-12-20 21:56:40,187 : INFO : EPOCH - 5 : training on 601 raw words (348 effective words) took 0.4s, 812 effective words/s\n",
      "2018-12-20 21:56:40,187 : INFO : training on a 3005 raw words (1770 effective words) took 2.3s, 775 effective words/s\n",
      "2018-12-20 21:56:40,187 : WARNING : under 10 jobs per worker: consider setting a smaller `batch_words' for smoother alpha decay\n",
      "2018-12-20 21:56:40,194 : INFO : training model with 3 workers on 263 vocabulary and 100 features, using sg=0 hs=0 sample=0.001 negative=5 window=5\n",
      "2018-12-20 21:56:40,203 : INFO : worker thread finished; awaiting finish of 2 more threads\n",
      "2018-12-20 21:56:40,214 : INFO : worker thread finished; awaiting finish of 1 more threads\n"
     ]
    },
    {
     "name": "stdout",
     "output_type": "stream",
     "text": [
      "iteration 99\n"
     ]
    },
    {
     "name": "stderr",
     "output_type": "stream",
     "text": [
      "2018-12-20 21:56:40,662 : INFO : worker thread finished; awaiting finish of 0 more threads\n",
      "2018-12-20 21:56:40,665 : INFO : EPOCH - 1 : training on 601 raw words (367 effective words) took 0.5s, 795 effective words/s\n",
      "2018-12-20 21:56:40,678 : INFO : worker thread finished; awaiting finish of 2 more threads\n",
      "2018-12-20 21:56:40,682 : INFO : worker thread finished; awaiting finish of 1 more threads\n",
      "2018-12-20 21:56:41,035 : INFO : worker thread finished; awaiting finish of 0 more threads\n",
      "2018-12-20 21:56:41,040 : INFO : EPOCH - 2 : training on 601 raw words (357 effective words) took 0.4s, 972 effective words/s\n",
      "2018-12-20 21:56:41,051 : INFO : worker thread finished; awaiting finish of 2 more threads\n",
      "2018-12-20 21:56:41,062 : INFO : worker thread finished; awaiting finish of 1 more threads\n",
      "2018-12-20 21:56:41,385 : INFO : worker thread finished; awaiting finish of 0 more threads\n",
      "2018-12-20 21:56:41,389 : INFO : EPOCH - 3 : training on 601 raw words (357 effective words) took 0.3s, 1055 effective words/s\n",
      "2018-12-20 21:56:41,399 : INFO : worker thread finished; awaiting finish of 2 more threads\n",
      "2018-12-20 21:56:41,405 : INFO : worker thread finished; awaiting finish of 1 more threads\n",
      "2018-12-20 21:56:41,816 : INFO : worker thread finished; awaiting finish of 0 more threads\n",
      "2018-12-20 21:56:41,820 : INFO : EPOCH - 4 : training on 601 raw words (362 effective words) took 0.4s, 860 effective words/s\n",
      "2018-12-20 21:56:41,833 : INFO : worker thread finished; awaiting finish of 2 more threads\n",
      "2018-12-20 21:56:41,835 : INFO : worker thread finished; awaiting finish of 1 more threads\n",
      "2018-12-20 21:56:42,245 : INFO : worker thread finished; awaiting finish of 0 more threads\n",
      "2018-12-20 21:56:42,247 : INFO : EPOCH - 5 : training on 601 raw words (367 effective words) took 0.4s, 883 effective words/s\n",
      "2018-12-20 21:56:42,247 : INFO : training on a 3005 raw words (1810 effective words) took 2.1s, 881 effective words/s\n",
      "2018-12-20 21:56:42,255 : WARNING : under 10 jobs per worker: consider setting a smaller `batch_words' for smoother alpha decay\n",
      "2018-12-20 21:56:42,262 : INFO : saving Doc2Vec object under d2v.model, separately None\n",
      "2018-12-20 21:56:42,289 : INFO : saved d2v.model\n"
     ]
    },
    {
     "name": "stdout",
     "output_type": "stream",
     "text": [
      "Model Saved\n"
     ]
    }
   ],
   "source": [
    "#trying data from an article about the moon, found on the internet\n",
    "\n",
    "#Import all the dependencies\n",
    "from gensim.models.doc2vec import Doc2Vec, TaggedDocument\n",
    "from nltk.tokenize import word_tokenize\n",
    "\n",
    "\n",
    "data = [\"NASA Seeks US Partners to Develop Reusable Systems to Land Astronauts on Moon\",\n",
    "        \"Artist's concept of Human Landing System on the lunar surface with astronaut nearby.\",\n",
    "        \"As the next major step to return astronauts to the Moon under Space Policy Directive-1, \",\n",
    "        \"NASA announced plans on Dec. 13 to work with American companies to design and develop new \",\n",
    "        \"reusable systems for astronauts to land on the lunar surface. The agency is planning to test \",\n",
    "        \"new human-class landers on the Moon beginning in 2024, with the goal of sending crew to the surface in 2028.\",\n",
    "        \"Through upcoming multi-phased lunar exploration partnerships, NASA will ask American companies to \",\n",
    "        \"study the best approach to landing astronauts on the Moon and start the development as quickly \",\n",
    "        \"as possible with current and future anticipated technologies.\",\n",
    "        \"Building on our model in low-Earth orbit, we’ll expand our partnerships with industry and other \",\n",
    "        \"nations to explore the Moon and advance our missions to farther destinations such as Mars, \",\n",
    "        \"with America leading the way,” said NASA Administrator Jim Bridenstine. “When we send astronauts\",\n",
    "        \"to the surface of the Moon in the next decade, it will be in a sustainable fashion.\",\n",
    "        \"The agency’s leading approach to sending humans to the Moon is using a system of three separate elements \",\n",
    "        \"that will provide transfer, landing, and safe return. A key aspect of this proposed approach is to\",\n",
    "        \"use the Gateway for roundtrip journeys to and from the surface of the Moon.\",\n",
    "        \"Using the Gateway to land astronauts on the Moon allows the first building blocks for fully reusable \",\n",
    "        \"lunar landers. Initially NASA expects two of the lander elements to be reusable and refueled by \",\n",
    "        \"cargo ships carrying fuel from Earth to the Gateway. The agency is also working on technologies to make\",\n",
    "        \"rocket propellants using water ice and regolith from the Moon.  Once the ability to harness resources from \",\n",
    "        \"the Moon for propellant becomes viable, NASA plans to refuel these elements with the Moon’s own resources. \",\n",
    "        \"This process, known as in-situ resource utilization or ISRU, will make the third element also refuelable and reusable.\",\n",
    "        \"NASA expects to publish a formal request for proposals to an appendix of the second Next Space Technologies for \",\n",
    "        \"Exploration Partnerships (NextSTEP-2) Broad Agency Announcement (BAA) in early January.\",\n",
    "        \"According to the synopsis, NASA will fund industry-led development and flight demonstrations of lunar\",\n",
    "        \"landers built for astronauts by supporting critical studies and risk reduction activities to advance technology requirements, \",\n",
    "        \"tailor applicable standards, develop technology, and perform initial demonstrations by landing on the Moon.\",\n",
    "        \"When NASA again sends humans to the Moon, the surface will be buzzing with new research and robotic activity, \",\n",
    "        \"and there will be more opportunities for discovery than ever before. Private sector innovation is key to these NASA \",\n",
    "        \"missions, and the NextSTEP public-private partnership model is advancing capabilities for human spaceflight while stimulating \",\n",
    "        \"commercial activities in space.\",\n",
    "        \"The President’s direction from Space Policy Directive-1 galvanizes NASA’s return to the Moon and builds on progress \",\n",
    "        \"on the Space Launch System rocket and Orion spacecraft, efforts with commercial and international partners, and \",\n",
    "        \"knowledge gained from current robotic presence at the Moon and Mars.\",\n",
    "        \"For more information about NASA’s Moon to Mars exploration plans, visit:\",\n",
    "        \"https://www.nasa.gov/moontomars \",\n",
    "        \"Last Updated: Dec. 19, 2018 \",\n",
    "        \"Editor: Shanessa Jackson\"]\n",
    "\n",
    "tagged_data = [TaggedDocument(words=word_tokenize(_d.lower()), tags=[str(i)]) for i, _d in enumerate(data)]\n",
    "\n",
    "max_epochs = 100\n",
    "vec_size = 100\n",
    "alpha = 0.025\n",
    "\n",
    "model = Doc2Vec(size=vec_size,\n",
    "                alpha=alpha, \n",
    "                min_alpha=0.00025,\n",
    "                min_count=1,\n",
    "                dm =1)\n",
    "  \n",
    "model.build_vocab(tagged_data)\n",
    "\n",
    "for epoch in range(max_epochs):\n",
    "    print('iteration {0}'.format(epoch))\n",
    "    model.train(tagged_data,\n",
    "                total_examples=model.corpus_count,\n",
    "                epochs=model.iter)\n",
    "    # decrease the learning rate\n",
    "    model.alpha -= 0.0002\n",
    "    # fix the learning rate, no decay\n",
    "    model.min_alpha = model.alpha\n",
    "\n",
    "model.save(\"d2v.model\")\n",
    "print(\"Model Saved\")"
   ]
  },
  {
   "cell_type": "code",
   "execution_count": 9,
   "metadata": {},
   "outputs": [
    {
     "ename": "NameError",
     "evalue": "name 'documents' is not defined",
     "output_type": "error",
     "traceback": [
      "\u001b[1;31m---------------------------------------------------------------------------\u001b[0m",
      "\u001b[1;31mNameError\u001b[0m                                 Traceback (most recent call last)",
      "\u001b[1;32m<ipython-input-9-5a49dd70eb61>\u001b[0m in \u001b[0;36m<module>\u001b[1;34m()\u001b[0m\n\u001b[1;32m----> 1\u001b[1;33m \u001b[0mmodel\u001b[0m \u001b[1;33m=\u001b[0m \u001b[0mgensim\u001b[0m\u001b[1;33m.\u001b[0m\u001b[0mmodels\u001b[0m\u001b[1;33m.\u001b[0m\u001b[0mWord2Vec\u001b[0m\u001b[1;33m(\u001b[0m\u001b[0mdocuments\u001b[0m\u001b[1;33m,\u001b[0m \u001b[0msize\u001b[0m\u001b[1;33m=\u001b[0m\u001b[1;36m150\u001b[0m\u001b[1;33m,\u001b[0m \u001b[0mwindow\u001b[0m\u001b[1;33m=\u001b[0m\u001b[1;36m10\u001b[0m\u001b[1;33m,\u001b[0m \u001b[0mmin_count\u001b[0m\u001b[1;33m=\u001b[0m\u001b[1;36m2\u001b[0m\u001b[1;33m,\u001b[0m \u001b[0mworkers\u001b[0m\u001b[1;33m=\u001b[0m\u001b[1;36m10\u001b[0m\u001b[1;33m)\u001b[0m\u001b[1;33m\u001b[0m\u001b[0m\n\u001b[0m\u001b[0;32m      2\u001b[0m \u001b[0mmodel\u001b[0m\u001b[1;33m.\u001b[0m\u001b[0mwv\u001b[0m\u001b[1;33m.\u001b[0m\u001b[0mmost_similar\u001b[0m\u001b[1;33m\u001b[0m\u001b[0m\n\u001b[0;32m      3\u001b[0m \u001b[1;33m\u001b[0m\u001b[0m\n",
      "\u001b[1;31mNameError\u001b[0m: name 'documents' is not defined"
     ]
    }
   ],
   "source": [
    "model = gensim.models.Word2Vec(documents, size=150, window=10, min_count=2, workers=10)\n",
    "model.wv.most_similar\n",
    " "
   ]
  },
  {
   "cell_type": "code",
   "execution_count": 11,
   "metadata": {},
   "outputs": [
    {
     "name": "stderr",
     "output_type": "stream",
     "text": [
      "2018-12-20 22:33:05,798 : INFO : precomputing L2-norms of word weight vectors\n"
     ]
    },
    {
     "ename": "KeyError",
     "evalue": "\"word 'planet' not in vocabulary\"",
     "output_type": "error",
     "traceback": [
      "\u001b[1;31m---------------------------------------------------------------------------\u001b[0m",
      "\u001b[1;31mKeyError\u001b[0m                                  Traceback (most recent call last)",
      "\u001b[1;32m<ipython-input-11-fd259cf19f98>\u001b[0m in \u001b[0;36m<module>\u001b[1;34m()\u001b[0m\n\u001b[0;32m      1\u001b[0m \u001b[0mword\u001b[0m \u001b[1;33m=\u001b[0m \u001b[1;34m\"planet\"\u001b[0m\u001b[1;33m\u001b[0m\u001b[0m\n\u001b[1;32m----> 2\u001b[1;33m \u001b[0mmodel\u001b[0m\u001b[1;33m.\u001b[0m\u001b[0mwv\u001b[0m\u001b[1;33m.\u001b[0m\u001b[0mmost_similar\u001b[0m \u001b[1;33m(\u001b[0m\u001b[0mpositive\u001b[0m \u001b[1;33m=\u001b[0m \u001b[0mword\u001b[0m\u001b[1;33m)\u001b[0m\u001b[1;33m\u001b[0m\u001b[0m\n\u001b[0m",
      "\u001b[1;32m~\\Anaconda3\\lib\\site-packages\\gensim\\models\\keyedvectors.py\u001b[0m in \u001b[0;36mmost_similar\u001b[1;34m(self, positive, negative, topn, restrict_vocab, indexer)\u001b[0m\n\u001b[0;32m    529\u001b[0m                 \u001b[0mmean\u001b[0m\u001b[1;33m.\u001b[0m\u001b[0mappend\u001b[0m\u001b[1;33m(\u001b[0m\u001b[0mweight\u001b[0m \u001b[1;33m*\u001b[0m \u001b[0mword\u001b[0m\u001b[1;33m)\u001b[0m\u001b[1;33m\u001b[0m\u001b[0m\n\u001b[0;32m    530\u001b[0m             \u001b[1;32melse\u001b[0m\u001b[1;33m:\u001b[0m\u001b[1;33m\u001b[0m\u001b[0m\n\u001b[1;32m--> 531\u001b[1;33m                 \u001b[0mmean\u001b[0m\u001b[1;33m.\u001b[0m\u001b[0mappend\u001b[0m\u001b[1;33m(\u001b[0m\u001b[0mweight\u001b[0m \u001b[1;33m*\u001b[0m \u001b[0mself\u001b[0m\u001b[1;33m.\u001b[0m\u001b[0mword_vec\u001b[0m\u001b[1;33m(\u001b[0m\u001b[0mword\u001b[0m\u001b[1;33m,\u001b[0m \u001b[0muse_norm\u001b[0m\u001b[1;33m=\u001b[0m\u001b[1;32mTrue\u001b[0m\u001b[1;33m)\u001b[0m\u001b[1;33m)\u001b[0m\u001b[1;33m\u001b[0m\u001b[0m\n\u001b[0m\u001b[0;32m    532\u001b[0m                 \u001b[1;32mif\u001b[0m \u001b[0mword\u001b[0m \u001b[1;32min\u001b[0m \u001b[0mself\u001b[0m\u001b[1;33m.\u001b[0m\u001b[0mvocab\u001b[0m\u001b[1;33m:\u001b[0m\u001b[1;33m\u001b[0m\u001b[0m\n\u001b[0;32m    533\u001b[0m                     \u001b[0mall_words\u001b[0m\u001b[1;33m.\u001b[0m\u001b[0madd\u001b[0m\u001b[1;33m(\u001b[0m\u001b[0mself\u001b[0m\u001b[1;33m.\u001b[0m\u001b[0mvocab\u001b[0m\u001b[1;33m[\u001b[0m\u001b[0mword\u001b[0m\u001b[1;33m]\u001b[0m\u001b[1;33m.\u001b[0m\u001b[0mindex\u001b[0m\u001b[1;33m)\u001b[0m\u001b[1;33m\u001b[0m\u001b[0m\n",
      "\u001b[1;32m~\\Anaconda3\\lib\\site-packages\\gensim\\models\\keyedvectors.py\u001b[0m in \u001b[0;36mword_vec\u001b[1;34m(self, word, use_norm)\u001b[0m\n\u001b[0;32m    450\u001b[0m             \u001b[1;32mreturn\u001b[0m \u001b[0mresult\u001b[0m\u001b[1;33m\u001b[0m\u001b[0m\n\u001b[0;32m    451\u001b[0m         \u001b[1;32melse\u001b[0m\u001b[1;33m:\u001b[0m\u001b[1;33m\u001b[0m\u001b[0m\n\u001b[1;32m--> 452\u001b[1;33m             \u001b[1;32mraise\u001b[0m \u001b[0mKeyError\u001b[0m\u001b[1;33m(\u001b[0m\u001b[1;34m\"word '%s' not in vocabulary\"\u001b[0m \u001b[1;33m%\u001b[0m \u001b[0mword\u001b[0m\u001b[1;33m)\u001b[0m\u001b[1;33m\u001b[0m\u001b[0m\n\u001b[0m\u001b[0;32m    453\u001b[0m \u001b[1;33m\u001b[0m\u001b[0m\n\u001b[0;32m    454\u001b[0m     \u001b[1;32mdef\u001b[0m \u001b[0mget_vector\u001b[0m\u001b[1;33m(\u001b[0m\u001b[0mself\u001b[0m\u001b[1;33m,\u001b[0m \u001b[0mword\u001b[0m\u001b[1;33m)\u001b[0m\u001b[1;33m:\u001b[0m\u001b[1;33m\u001b[0m\u001b[0m\n",
      "\u001b[1;31mKeyError\u001b[0m: \"word 'planet' not in vocabulary\""
     ]
    }
   ],
   "source": [
    "word = \"planet\"\n",
    "model.wv.most_similar (positive = word)\n"
   ]
  },
  {
   "cell_type": "code",
   "execution_count": 10,
   "metadata": {},
   "outputs": [
    {
     "name": "stderr",
     "output_type": "stream",
     "text": [
      "2018-12-20 22:32:50,662 : INFO : loading Doc2Vec object from d2v.model\n",
      "2018-12-20 22:32:50,689 : INFO : loading vocabulary recursively from d2v.model.vocabulary.* with mmap=None\n",
      "2018-12-20 22:32:50,691 : INFO : loading trainables recursively from d2v.model.trainables.* with mmap=None\n",
      "2018-12-20 22:32:50,694 : INFO : loading wv recursively from d2v.model.wv.* with mmap=None\n",
      "2018-12-20 22:32:50,697 : INFO : loading docvecs recursively from d2v.model.docvecs.* with mmap=None\n",
      "2018-12-20 22:32:50,699 : INFO : loaded d2v.model\n"
     ]
    },
    {
     "ename": "AttributeError",
     "evalue": "'list' object has no attribute 'lower'",
     "output_type": "error",
     "traceback": [
      "\u001b[1;31m---------------------------------------------------------------------------\u001b[0m",
      "\u001b[1;31mAttributeError\u001b[0m                            Traceback (most recent call last)",
      "\u001b[1;32m<ipython-input-10-ed91527b891e>\u001b[0m in \u001b[0;36m<module>\u001b[1;34m()\u001b[0m\n\u001b[0;32m      2\u001b[0m \u001b[1;33m\u001b[0m\u001b[0m\n\u001b[0;32m      3\u001b[0m \u001b[0mmodel\u001b[0m\u001b[1;33m=\u001b[0m \u001b[0mDoc2Vec\u001b[0m\u001b[1;33m.\u001b[0m\u001b[0mload\u001b[0m\u001b[1;33m(\u001b[0m\u001b[1;34m\"d2v.model\"\u001b[0m\u001b[1;33m)\u001b[0m\u001b[1;33m\u001b[0m\u001b[0m\n\u001b[1;32m----> 4\u001b[1;33m \u001b[0mtest_data\u001b[0m \u001b[1;33m=\u001b[0m \u001b[0mword_tokenize\u001b[0m\u001b[1;33m(\u001b[0m\u001b[0mdata\u001b[0m\u001b[1;33m.\u001b[0m\u001b[0mlower\u001b[0m\u001b[1;33m(\u001b[0m\u001b[1;33m)\u001b[0m\u001b[1;33m)\u001b[0m\u001b[1;33m\u001b[0m\u001b[0m\n\u001b[0m\u001b[0;32m      5\u001b[0m \u001b[0mv1\u001b[0m \u001b[1;33m=\u001b[0m \u001b[0mmodel\u001b[0m\u001b[1;33m.\u001b[0m\u001b[0minfer_vector\u001b[0m\u001b[1;33m(\u001b[0m\u001b[0mtest_data\u001b[0m\u001b[1;33m)\u001b[0m\u001b[1;33m\u001b[0m\u001b[0m\n\u001b[0;32m      6\u001b[0m \u001b[0mprint\u001b[0m\u001b[1;33m(\u001b[0m\u001b[1;34m\"v1_infer\"\u001b[0m\u001b[1;33m,\u001b[0m \u001b[0mv1\u001b[0m\u001b[1;33m)\u001b[0m\u001b[1;33m\u001b[0m\u001b[0m\n",
      "\u001b[1;31mAttributeError\u001b[0m: 'list' object has no attribute 'lower'"
     ]
    }
   ],
   "source": [
    "from gensim.models.doc2vec import Doc2Vec\n",
    "\n",
    "model= Doc2Vec.load(\"d2v.model\")\n",
    "test_data = word_tokenize(data)\n",
    "v1 = model.infer_vector(test_data)\n",
    "print(\"v1_infer\", v1)\n",
    "similar_doc = model.docvecs.most_similar('1')\n",
    "print(similar_doc)\n",
    "print(model.docvecs['1'])"
   ]
  },
  {
   "cell_type": "code",
   "execution_count": null,
   "metadata": {},
   "outputs": [],
   "source": [
    "# I have to admit, that the presented results from the model are quite complexe to interprete.\n",
    "# still, i am very happy i got the model run through (at run 73)"
   ]
  },
  {
   "cell_type": "code",
   "execution_count": 12,
   "metadata": {},
   "outputs": [
    {
     "ename": "NameError",
     "evalue": "name 'corpora' is not defined",
     "output_type": "error",
     "traceback": [
      "\u001b[1;31m---------------------------------------------------------------------------\u001b[0m",
      "\u001b[1;31mNameError\u001b[0m                                 Traceback (most recent call last)",
      "\u001b[1;32m<ipython-input-12-4c40cd037275>\u001b[0m in \u001b[0;36m<module>\u001b[1;34m()\u001b[0m\n\u001b[0;32m     12\u001b[0m \u001b[1;33m\u001b[0m\u001b[0m\n\u001b[0;32m     13\u001b[0m \u001b[1;31m# dictionary\u001b[0m\u001b[1;33m\u001b[0m\u001b[1;33m\u001b[0m\u001b[0m\n\u001b[1;32m---> 14\u001b[1;33m \u001b[0mdictionary\u001b[0m \u001b[1;33m=\u001b[0m \u001b[0mcorpora\u001b[0m\u001b[1;33m.\u001b[0m\u001b[0mDictionary\u001b[0m\u001b[1;33m(\u001b[0m\u001b[0mline\u001b[0m\u001b[1;33m.\u001b[0m\u001b[0mlower\u001b[0m\u001b[1;33m(\u001b[0m\u001b[1;33m)\u001b[0m\u001b[1;33m.\u001b[0m\u001b[0msplit\u001b[0m\u001b[1;33m(\u001b[0m\u001b[1;33m)\u001b[0m \u001b[1;32mfor\u001b[0m \u001b[0mline\u001b[0m \u001b[1;32min\u001b[0m \u001b[0msmart_open\u001b[0m\u001b[1;33m(\u001b[0m\u001b[1;34m'thetryingcorpus.txt'\u001b[0m\u001b[1;33m,\u001b[0m \u001b[1;34m'rb'\u001b[0m\u001b[1;33m)\u001b[0m\u001b[1;33m)\u001b[0m\u001b[1;33m\u001b[0m\u001b[0m\n\u001b[0m\u001b[0;32m     15\u001b[0m \u001b[1;33m\u001b[0m\u001b[0m\n\u001b[0;32m     16\u001b[0m \u001b[1;31m# remove stop words and words that appear only once\u001b[0m\u001b[1;33m\u001b[0m\u001b[1;33m\u001b[0m\u001b[0m\n",
      "\u001b[1;31mNameError\u001b[0m: name 'corpora' is not defined"
     ]
    }
   ],
   "source": [
    "#trying to keep working with my created corpus-txt-file...\n",
    "\n",
    "from six import iteritems\n",
    "from smart_open import smart_open\n",
    "\n",
    "class MyCorpus(object):\n",
    "    def __iter__(self):\n",
    "        for line in smart_open('thetryingcorpus.txt', 'rb'):\n",
    "           \n",
    "                #tokens separated by whitespace\n",
    "                yield dictionary.doc2bow(line.lower().split())\n",
    "\n",
    "# dictionary\n",
    "dictionary = corpora.Dictionary(line.lower().split() for line in smart_open('thetryingcorpus.txt', 'rb'))\n",
    "\n",
    "# remove stop words and words that appear only once\n",
    "stop_ids = [dictionary.token2id[stopword] for stopword in stoplist \n",
    "            if stopword in dictionary.token2id]\n",
    "once_ids = [tokenid for tokenid, docfreq in iteritems(dictionary.dfs) if docfreq == 1]\n",
    "\n",
    "dictionary.filter_tokens(stop_ids + once_ids)\n",
    "dictionary.compactify() \n",
    "\n",
    "print(dictionary)\n",
    "print(MyCorpus)\n"
   ]
  },
  {
   "cell_type": "code",
   "execution_count": null,
   "metadata": {},
   "outputs": [],
   "source": [
    "# as i final statement, I have to admit, that n´more time would be needed to explore the features and possibilities in a better way"
   ]
  }
 ],
 "metadata": {
  "kernelspec": {
   "display_name": "Python 3",
   "language": "python",
   "name": "python3"
  },
  "language_info": {
   "codemirror_mode": {
    "name": "ipython",
    "version": 3
   },
   "file_extension": ".py",
   "mimetype": "text/x-python",
   "name": "python",
   "nbconvert_exporter": "python",
   "pygments_lexer": "ipython3",
   "version": "3.7.0"
  }
 },
 "nbformat": 4,
 "nbformat_minor": 2
}
