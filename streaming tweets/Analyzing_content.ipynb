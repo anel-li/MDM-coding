{
 "cells": [
  {
   "cell_type": "markdown",
   "id": "e59cd0a6-f194-42b8-97a1-e88445315a0b",
   "metadata": {
    "tags": []
   },
   "source": [
    "## Analyzing content"
   ]
  },
  {
   "cell_type": "markdown",
   "id": "e32d207e-594a-494b-9dac-a500863a25c8",
   "metadata": {},
   "source": [
    "First we install the packages we are going to need."
   ]
  },
  {
   "cell_type": "code",
   "execution_count": 1,
   "id": "ed39db2e-b3f1-4d5d-a6e0-7beb4d0d222b",
   "metadata": {},
   "outputs": [
    {
     "name": "stderr",
     "output_type": "stream",
     "text": [
      "Updating HTML index of packages in '.Library'\n",
      "\n",
      "Making 'packages.html' ...\n",
      " done\n",
      "\n"
     ]
    }
   ],
   "source": [
    "# install.packages(c(\"tidytext\",\"dplyr\",\"ggplot2\"))"
   ]
  },
  {
   "cell_type": "markdown",
   "id": "bd6ef101-0615-45ff-96a4-1cf363c0167b",
   "metadata": {},
   "source": [
    "Next we load them."
   ]
  },
  {
   "cell_type": "code",
   "execution_count": 2,
   "id": "38e01a0a-a236-41f8-bad9-4f4d31ed2990",
   "metadata": {},
   "outputs": [
    {
     "name": "stderr",
     "output_type": "stream",
     "text": [
      "\n",
      "Attaching package: ‘dplyr’\n",
      "\n",
      "\n",
      "The following objects are masked from ‘package:stats’:\n",
      "\n",
      "    filter, lag\n",
      "\n",
      "\n",
      "The following objects are masked from ‘package:base’:\n",
      "\n",
      "    intersect, setdiff, setequal, union\n",
      "\n",
      "\n"
     ]
    }
   ],
   "source": [
    "library(tidytext)\n",
    "library(dplyr)\n",
    "library(ggplot2)"
   ]
  },
  {
   "cell_type": "markdown",
   "id": "9dcd28fe-1c2c-421d-a3bc-53c4b7158f2a",
   "metadata": {},
   "source": [
    "We load an old dataset of 400 Trump tweets which has been collected via `stream_tweets`."
   ]
  },
  {
   "cell_type": "code",
   "execution_count": 3,
   "id": "3830463d-5d7a-4f74-8eae-1be88e90c0b6",
   "metadata": {},
   "outputs": [],
   "source": [
    "load(\"trumpsowntweets.Rda\")"
   ]
  },
  {
   "cell_type": "markdown",
   "id": "75683c2c-9b1c-4cc0-9ec3-c922439d65ee",
   "metadata": {},
   "source": [
    "Take a look at the data."
   ]
  },
  {
   "cell_type": "code",
   "execution_count": 4,
   "id": "846bf8fd-b347-4c7a-89c5-9452775d61f8",
   "metadata": {},
   "outputs": [
    {
     "data": {
      "text/html": [
       "<table class=\"dataframe\">\n",
       "<caption>A tibble: 6 × 88</caption>\n",
       "<thead>\n",
       "\t<tr><th scope=col>user_id</th><th scope=col>status_id</th><th scope=col>created_at</th><th scope=col>screen_name</th><th scope=col>text</th><th scope=col>source</th><th scope=col>display_text_width</th><th scope=col>reply_to_status_id</th><th scope=col>reply_to_user_id</th><th scope=col>reply_to_screen_name</th><th scope=col>⋯</th><th scope=col>statuses_count</th><th scope=col>favourites_count</th><th scope=col>account_created_at</th><th scope=col>verified</th><th scope=col>profile_url</th><th scope=col>profile_expanded_url</th><th scope=col>account_lang</th><th scope=col>profile_banner_url</th><th scope=col>profile_background_url</th><th scope=col>profile_image_url</th></tr>\n",
       "\t<tr><th scope=col>&lt;chr&gt;</th><th scope=col>&lt;chr&gt;</th><th scope=col>&lt;dttm&gt;</th><th scope=col>&lt;chr&gt;</th><th scope=col>&lt;chr&gt;</th><th scope=col>&lt;chr&gt;</th><th scope=col>&lt;dbl&gt;</th><th scope=col>&lt;chr&gt;</th><th scope=col>&lt;chr&gt;</th><th scope=col>&lt;chr&gt;</th><th scope=col>⋯</th><th scope=col>&lt;int&gt;</th><th scope=col>&lt;int&gt;</th><th scope=col>&lt;dttm&gt;</th><th scope=col>&lt;lgl&gt;</th><th scope=col>&lt;chr&gt;</th><th scope=col>&lt;chr&gt;</th><th scope=col>&lt;chr&gt;</th><th scope=col>&lt;chr&gt;</th><th scope=col>&lt;chr&gt;</th><th scope=col>&lt;chr&gt;</th></tr>\n",
       "</thead>\n",
       "<tbody>\n",
       "\t<tr><td>25073877</td><td>1110387923709579264</td><td>2019-03-26 03:48:05</td><td>realDonaldTrump</td><td>Tom Fitton on @RealDonaldTrump Russia Mueller Probe: 'They've KNOWN There Was NO Collusion\" And, by the way, @DevinNunes is one of the most consequential congressmen in a generation... https://t.co/okdnHB6voK                                                                                                              </td><td>Twitter for iPhone</td><td>139</td><td>NA</td><td>NA</td><td>NA</td><td>⋯</td><td>41022</td><td>7</td><td>2009-03-18 13:46:38</td><td>TRUE</td><td>https://t.co/OMxB0x7xC5</td><td>http://www.Instagram.com/realDonaldTrump</td><td>en</td><td>https://pbs.twimg.com/profile_banners/25073877/1550087458</td><td>http://abs.twimg.com/images/themes/theme1/bg.png</td><td>http://pbs.twimg.com/profile_images/874276197357596672/kUuht00m_normal.jpg</td></tr>\n",
       "\t<tr><td>25073877</td><td>1110383915485810689</td><td>2019-03-26 03:32:10</td><td>realDonaldTrump</td><td>Christmas came early this week. https://t.co/ypqkZgRkeR                                                                                                                                                                                                                                                                       </td><td>Twitter for iPhone</td><td> 75</td><td>NA</td><td>NA</td><td>NA</td><td>⋯</td><td>41022</td><td>7</td><td>2009-03-18 13:46:38</td><td>TRUE</td><td>https://t.co/OMxB0x7xC5</td><td>http://www.Instagram.com/realDonaldTrump</td><td>en</td><td>https://pbs.twimg.com/profile_banners/25073877/1550087458</td><td>http://abs.twimg.com/images/themes/theme1/bg.png</td><td>http://pbs.twimg.com/profile_images/874276197357596672/kUuht00m_normal.jpg</td></tr>\n",
       "\t<tr><td>25073877</td><td>1110381904417751041</td><td>2019-03-26 03:24:10</td><td>realDonaldTrump</td><td>@realDonaldTrump Thank you Mr. President🇺🇸 for all of your sacrifice, your hard work, and your thoughtful leadership. It means so much to us to have a President who truly cares for and represents us so faithfully. God bless you and your wonderful family. Keep up the GREAT work.\n",
       "Love,\n",
       "America https://t.co/jM8BYXZaBu</td><td>Twitter for iPhone</td><td>139</td><td>NA</td><td>NA</td><td>NA</td><td>⋯</td><td>41022</td><td>7</td><td>2009-03-18 13:46:38</td><td>TRUE</td><td>https://t.co/OMxB0x7xC5</td><td>http://www.Instagram.com/realDonaldTrump</td><td>en</td><td>https://pbs.twimg.com/profile_banners/25073877/1550087458</td><td>http://abs.twimg.com/images/themes/theme1/bg.png</td><td>http://pbs.twimg.com/profile_images/874276197357596672/kUuht00m_normal.jpg</td></tr>\n",
       "\t<tr><td>25073877</td><td>1110363093073301505</td><td>2019-03-26 02:09:25</td><td>realDonaldTrump</td><td>The Stanley Cup and the Caps with President Trump in the Oval Office.\n",
       "\n",
       "What a picture! https://t.co/lKwBz3F1YL                                                                                                                                                                                                              </td><td>Twitter for iPhone</td><td>125</td><td>NA</td><td>NA</td><td>NA</td><td>⋯</td><td>41022</td><td>7</td><td>2009-03-18 13:46:38</td><td>TRUE</td><td>https://t.co/OMxB0x7xC5</td><td>http://www.Instagram.com/realDonaldTrump</td><td>en</td><td>https://pbs.twimg.com/profile_banners/25073877/1550087458</td><td>http://abs.twimg.com/images/themes/theme1/bg.png</td><td>http://pbs.twimg.com/profile_images/874276197357596672/kUuht00m_normal.jpg</td></tr>\n",
       "\t<tr><td>25073877</td><td>1110362981756555264</td><td>2019-03-26 02:08:59</td><td>realDonaldTrump</td><td>A team of great champions! https://t.co/Pm5p9L6TaX                                                                                                                                                                                                                                                                            </td><td>Twitter for iPhone</td><td> 26</td><td>NA</td><td>NA</td><td>NA</td><td>⋯</td><td>41022</td><td>7</td><td>2009-03-18 13:46:38</td><td>TRUE</td><td>https://t.co/OMxB0x7xC5</td><td>http://www.Instagram.com/realDonaldTrump</td><td>en</td><td>https://pbs.twimg.com/profile_banners/25073877/1550087458</td><td>http://abs.twimg.com/images/themes/theme1/bg.png</td><td>http://pbs.twimg.com/profile_images/874276197357596672/kUuht00m_normal.jpg</td></tr>\n",
       "\t<tr><td>25073877</td><td>1110362445326024704</td><td>2019-03-26 02:06:51</td><td>realDonaldTrump</td><td>Hanging out in the Roosevelt Room, waiting to head into the oval office.  #stanleycup @NHL @WhiteHouse @HockeyHallFame @Capitals 0 https://t.co/ut0vfjVwwz                                                                                                                                                                    </td><td>Twitter for iPhone</td><td>139</td><td>NA</td><td>NA</td><td>NA</td><td>⋯</td><td>41022</td><td>7</td><td>2009-03-18 13:46:38</td><td>TRUE</td><td>https://t.co/OMxB0x7xC5</td><td>http://www.Instagram.com/realDonaldTrump</td><td>en</td><td>https://pbs.twimg.com/profile_banners/25073877/1550087458</td><td>http://abs.twimg.com/images/themes/theme1/bg.png</td><td>http://pbs.twimg.com/profile_images/874276197357596672/kUuht00m_normal.jpg</td></tr>\n",
       "</tbody>\n",
       "</table>\n"
      ],
      "text/latex": [
       "A tibble: 6 × 88\n",
       "\\begin{tabular}{lllllllllllllllllllll}\n",
       " user\\_id & status\\_id & created\\_at & screen\\_name & text & source & display\\_text\\_width & reply\\_to\\_status\\_id & reply\\_to\\_user\\_id & reply\\_to\\_screen\\_name & ⋯ & statuses\\_count & favourites\\_count & account\\_created\\_at & verified & profile\\_url & profile\\_expanded\\_url & account\\_lang & profile\\_banner\\_url & profile\\_background\\_url & profile\\_image\\_url\\\\\n",
       " <chr> & <chr> & <dttm> & <chr> & <chr> & <chr> & <dbl> & <chr> & <chr> & <chr> & ⋯ & <int> & <int> & <dttm> & <lgl> & <chr> & <chr> & <chr> & <chr> & <chr> & <chr>\\\\\n",
       "\\hline\n",
       "\t 25073877 & 1110387923709579264 & 2019-03-26 03:48:05 & realDonaldTrump & Tom Fitton on @RealDonaldTrump Russia Mueller Probe: 'They've KNOWN There Was NO Collusion\" And, by the way, @DevinNunes is one of the most consequential congressmen in a generation... https://t.co/okdnHB6voK                                                                                                               & Twitter for iPhone & 139 & NA & NA & NA & ⋯ & 41022 & 7 & 2009-03-18 13:46:38 & TRUE & https://t.co/OMxB0x7xC5 & http://www.Instagram.com/realDonaldTrump & en & https://pbs.twimg.com/profile\\_banners/25073877/1550087458 & http://abs.twimg.com/images/themes/theme1/bg.png & http://pbs.twimg.com/profile\\_images/874276197357596672/kUuht00m\\_normal.jpg\\\\\n",
       "\t 25073877 & 1110383915485810689 & 2019-03-26 03:32:10 & realDonaldTrump & Christmas came early this week. https://t.co/ypqkZgRkeR                                                                                                                                                                                                                                                                        & Twitter for iPhone &  75 & NA & NA & NA & ⋯ & 41022 & 7 & 2009-03-18 13:46:38 & TRUE & https://t.co/OMxB0x7xC5 & http://www.Instagram.com/realDonaldTrump & en & https://pbs.twimg.com/profile\\_banners/25073877/1550087458 & http://abs.twimg.com/images/themes/theme1/bg.png & http://pbs.twimg.com/profile\\_images/874276197357596672/kUuht00m\\_normal.jpg\\\\\n",
       "\t 25073877 & 1110381904417751041 & 2019-03-26 03:24:10 & realDonaldTrump & @realDonaldTrump Thank you Mr. President🇺🇸 for all of your sacrifice, your hard work, and your thoughtful leadership. It means so much to us to have a President who truly cares for and represents us so faithfully. God bless you and your wonderful family. Keep up the GREAT work.\n",
       "Love,\n",
       "America https://t.co/jM8BYXZaBu & Twitter for iPhone & 139 & NA & NA & NA & ⋯ & 41022 & 7 & 2009-03-18 13:46:38 & TRUE & https://t.co/OMxB0x7xC5 & http://www.Instagram.com/realDonaldTrump & en & https://pbs.twimg.com/profile\\_banners/25073877/1550087458 & http://abs.twimg.com/images/themes/theme1/bg.png & http://pbs.twimg.com/profile\\_images/874276197357596672/kUuht00m\\_normal.jpg\\\\\n",
       "\t 25073877 & 1110363093073301505 & 2019-03-26 02:09:25 & realDonaldTrump & The Stanley Cup and the Caps with President Trump in the Oval Office.\n",
       "\n",
       "What a picture! https://t.co/lKwBz3F1YL                                                                                                                                                                                                               & Twitter for iPhone & 125 & NA & NA & NA & ⋯ & 41022 & 7 & 2009-03-18 13:46:38 & TRUE & https://t.co/OMxB0x7xC5 & http://www.Instagram.com/realDonaldTrump & en & https://pbs.twimg.com/profile\\_banners/25073877/1550087458 & http://abs.twimg.com/images/themes/theme1/bg.png & http://pbs.twimg.com/profile\\_images/874276197357596672/kUuht00m\\_normal.jpg\\\\\n",
       "\t 25073877 & 1110362981756555264 & 2019-03-26 02:08:59 & realDonaldTrump & A team of great champions! https://t.co/Pm5p9L6TaX                                                                                                                                                                                                                                                                             & Twitter for iPhone &  26 & NA & NA & NA & ⋯ & 41022 & 7 & 2009-03-18 13:46:38 & TRUE & https://t.co/OMxB0x7xC5 & http://www.Instagram.com/realDonaldTrump & en & https://pbs.twimg.com/profile\\_banners/25073877/1550087458 & http://abs.twimg.com/images/themes/theme1/bg.png & http://pbs.twimg.com/profile\\_images/874276197357596672/kUuht00m\\_normal.jpg\\\\\n",
       "\t 25073877 & 1110362445326024704 & 2019-03-26 02:06:51 & realDonaldTrump & Hanging out in the Roosevelt Room, waiting to head into the oval office.  \\#stanleycup @NHL @WhiteHouse @HockeyHallFame @Capitals 0 https://t.co/ut0vfjVwwz                                                                                                                                                                     & Twitter for iPhone & 139 & NA & NA & NA & ⋯ & 41022 & 7 & 2009-03-18 13:46:38 & TRUE & https://t.co/OMxB0x7xC5 & http://www.Instagram.com/realDonaldTrump & en & https://pbs.twimg.com/profile\\_banners/25073877/1550087458 & http://abs.twimg.com/images/themes/theme1/bg.png & http://pbs.twimg.com/profile\\_images/874276197357596672/kUuht00m\\_normal.jpg\\\\\n",
       "\\end{tabular}\n"
      ],
      "text/markdown": [
       "\n",
       "A tibble: 6 × 88\n",
       "\n",
       "| user_id &lt;chr&gt; | status_id &lt;chr&gt; | created_at &lt;dttm&gt; | screen_name &lt;chr&gt; | text &lt;chr&gt; | source &lt;chr&gt; | display_text_width &lt;dbl&gt; | reply_to_status_id &lt;chr&gt; | reply_to_user_id &lt;chr&gt; | reply_to_screen_name &lt;chr&gt; | ⋯ ⋯ | statuses_count &lt;int&gt; | favourites_count &lt;int&gt; | account_created_at &lt;dttm&gt; | verified &lt;lgl&gt; | profile_url &lt;chr&gt; | profile_expanded_url &lt;chr&gt; | account_lang &lt;chr&gt; | profile_banner_url &lt;chr&gt; | profile_background_url &lt;chr&gt; | profile_image_url &lt;chr&gt; |\n",
       "|---|---|---|---|---|---|---|---|---|---|---|---|---|---|---|---|---|---|---|---|---|\n",
       "| 25073877 | 1110387923709579264 | 2019-03-26 03:48:05 | realDonaldTrump | Tom Fitton on @RealDonaldTrump Russia Mueller Probe: 'They've KNOWN There Was NO Collusion\" And, by the way, @DevinNunes is one of the most consequential congressmen in a generation... https://t.co/okdnHB6voK                                                                                                               | Twitter for iPhone | 139 | NA | NA | NA | ⋯ | 41022 | 7 | 2009-03-18 13:46:38 | TRUE | https://t.co/OMxB0x7xC5 | http://www.Instagram.com/realDonaldTrump | en | https://pbs.twimg.com/profile_banners/25073877/1550087458 | http://abs.twimg.com/images/themes/theme1/bg.png | http://pbs.twimg.com/profile_images/874276197357596672/kUuht00m_normal.jpg |\n",
       "| 25073877 | 1110383915485810689 | 2019-03-26 03:32:10 | realDonaldTrump | Christmas came early this week. https://t.co/ypqkZgRkeR                                                                                                                                                                                                                                                                        | Twitter for iPhone |  75 | NA | NA | NA | ⋯ | 41022 | 7 | 2009-03-18 13:46:38 | TRUE | https://t.co/OMxB0x7xC5 | http://www.Instagram.com/realDonaldTrump | en | https://pbs.twimg.com/profile_banners/25073877/1550087458 | http://abs.twimg.com/images/themes/theme1/bg.png | http://pbs.twimg.com/profile_images/874276197357596672/kUuht00m_normal.jpg |\n",
       "| 25073877 | 1110381904417751041 | 2019-03-26 03:24:10 | realDonaldTrump | @realDonaldTrump Thank you Mr. President🇺🇸 for all of your sacrifice, your hard work, and your thoughtful leadership. It means so much to us to have a President who truly cares for and represents us so faithfully. God bless you and your wonderful family. Keep up the GREAT work.\n",
       "Love,\n",
       "America https://t.co/jM8BYXZaBu | Twitter for iPhone | 139 | NA | NA | NA | ⋯ | 41022 | 7 | 2009-03-18 13:46:38 | TRUE | https://t.co/OMxB0x7xC5 | http://www.Instagram.com/realDonaldTrump | en | https://pbs.twimg.com/profile_banners/25073877/1550087458 | http://abs.twimg.com/images/themes/theme1/bg.png | http://pbs.twimg.com/profile_images/874276197357596672/kUuht00m_normal.jpg |\n",
       "| 25073877 | 1110363093073301505 | 2019-03-26 02:09:25 | realDonaldTrump | The Stanley Cup and the Caps with President Trump in the Oval Office.\n",
       "\n",
       "What a picture! https://t.co/lKwBz3F1YL                                                                                                                                                                                                               | Twitter for iPhone | 125 | NA | NA | NA | ⋯ | 41022 | 7 | 2009-03-18 13:46:38 | TRUE | https://t.co/OMxB0x7xC5 | http://www.Instagram.com/realDonaldTrump | en | https://pbs.twimg.com/profile_banners/25073877/1550087458 | http://abs.twimg.com/images/themes/theme1/bg.png | http://pbs.twimg.com/profile_images/874276197357596672/kUuht00m_normal.jpg |\n",
       "| 25073877 | 1110362981756555264 | 2019-03-26 02:08:59 | realDonaldTrump | A team of great champions! https://t.co/Pm5p9L6TaX                                                                                                                                                                                                                                                                             | Twitter for iPhone |  26 | NA | NA | NA | ⋯ | 41022 | 7 | 2009-03-18 13:46:38 | TRUE | https://t.co/OMxB0x7xC5 | http://www.Instagram.com/realDonaldTrump | en | https://pbs.twimg.com/profile_banners/25073877/1550087458 | http://abs.twimg.com/images/themes/theme1/bg.png | http://pbs.twimg.com/profile_images/874276197357596672/kUuht00m_normal.jpg |\n",
       "| 25073877 | 1110362445326024704 | 2019-03-26 02:06:51 | realDonaldTrump | Hanging out in the Roosevelt Room, waiting to head into the oval office.  #stanleycup @NHL @WhiteHouse @HockeyHallFame @Capitals 0 https://t.co/ut0vfjVwwz                                                                                                                                                                     | Twitter for iPhone | 139 | NA | NA | NA | ⋯ | 41022 | 7 | 2009-03-18 13:46:38 | TRUE | https://t.co/OMxB0x7xC5 | http://www.Instagram.com/realDonaldTrump | en | https://pbs.twimg.com/profile_banners/25073877/1550087458 | http://abs.twimg.com/images/themes/theme1/bg.png | http://pbs.twimg.com/profile_images/874276197357596672/kUuht00m_normal.jpg |\n",
       "\n"
      ],
      "text/plain": [
       "  user_id  status_id           created_at          screen_name    \n",
       "1 25073877 1110387923709579264 2019-03-26 03:48:05 realDonaldTrump\n",
       "2 25073877 1110383915485810689 2019-03-26 03:32:10 realDonaldTrump\n",
       "3 25073877 1110381904417751041 2019-03-26 03:24:10 realDonaldTrump\n",
       "4 25073877 1110363093073301505 2019-03-26 02:09:25 realDonaldTrump\n",
       "5 25073877 1110362981756555264 2019-03-26 02:08:59 realDonaldTrump\n",
       "6 25073877 1110362445326024704 2019-03-26 02:06:51 realDonaldTrump\n",
       "  text                                                                                                                                                                                                                                                                                                                          \n",
       "1 Tom Fitton on @RealDonaldTrump Russia Mueller Probe: 'They've KNOWN There Was NO Collusion\" And, by the way, @DevinNunes is one of the most consequential congressmen in a generation... https://t.co/okdnHB6voK                                                                                                              \n",
       "2 Christmas came early this week. https://t.co/ypqkZgRkeR                                                                                                                                                                                                                                                                       \n",
       "3 @realDonaldTrump Thank you Mr. President🇺🇸 for all of your sacrifice, your hard work, and your thoughtful leadership. It means so much to us to have a President who truly cares for and represents us so faithfully. God bless you and your wonderful family. Keep up the GREAT work.\\nLove,\\nAmerica https://t.co/jM8BYXZaBu\n",
       "4 The Stanley Cup and the Caps with President Trump in the Oval Office.\\n\\nWhat a picture! https://t.co/lKwBz3F1YL                                                                                                                                                                                                              \n",
       "5 A team of great champions! https://t.co/Pm5p9L6TaX                                                                                                                                                                                                                                                                            \n",
       "6 Hanging out in the Roosevelt Room, waiting to head into the oval office.  #stanleycup @NHL @WhiteHouse @HockeyHallFame @Capitals 0 https://t.co/ut0vfjVwwz                                                                                                                                                                    \n",
       "  source             display_text_width reply_to_status_id reply_to_user_id\n",
       "1 Twitter for iPhone 139                NA                 NA              \n",
       "2 Twitter for iPhone  75                NA                 NA              \n",
       "3 Twitter for iPhone 139                NA                 NA              \n",
       "4 Twitter for iPhone 125                NA                 NA              \n",
       "5 Twitter for iPhone  26                NA                 NA              \n",
       "6 Twitter for iPhone 139                NA                 NA              \n",
       "  reply_to_screen_name ⋯ statuses_count favourites_count account_created_at \n",
       "1 NA                   ⋯ 41022          7                2009-03-18 13:46:38\n",
       "2 NA                   ⋯ 41022          7                2009-03-18 13:46:38\n",
       "3 NA                   ⋯ 41022          7                2009-03-18 13:46:38\n",
       "4 NA                   ⋯ 41022          7                2009-03-18 13:46:38\n",
       "5 NA                   ⋯ 41022          7                2009-03-18 13:46:38\n",
       "6 NA                   ⋯ 41022          7                2009-03-18 13:46:38\n",
       "  verified profile_url             profile_expanded_url                    \n",
       "1 TRUE     https://t.co/OMxB0x7xC5 http://www.Instagram.com/realDonaldTrump\n",
       "2 TRUE     https://t.co/OMxB0x7xC5 http://www.Instagram.com/realDonaldTrump\n",
       "3 TRUE     https://t.co/OMxB0x7xC5 http://www.Instagram.com/realDonaldTrump\n",
       "4 TRUE     https://t.co/OMxB0x7xC5 http://www.Instagram.com/realDonaldTrump\n",
       "5 TRUE     https://t.co/OMxB0x7xC5 http://www.Instagram.com/realDonaldTrump\n",
       "6 TRUE     https://t.co/OMxB0x7xC5 http://www.Instagram.com/realDonaldTrump\n",
       "  account_lang profile_banner_url                                       \n",
       "1 en           https://pbs.twimg.com/profile_banners/25073877/1550087458\n",
       "2 en           https://pbs.twimg.com/profile_banners/25073877/1550087458\n",
       "3 en           https://pbs.twimg.com/profile_banners/25073877/1550087458\n",
       "4 en           https://pbs.twimg.com/profile_banners/25073877/1550087458\n",
       "5 en           https://pbs.twimg.com/profile_banners/25073877/1550087458\n",
       "6 en           https://pbs.twimg.com/profile_banners/25073877/1550087458\n",
       "  profile_background_url                          \n",
       "1 http://abs.twimg.com/images/themes/theme1/bg.png\n",
       "2 http://abs.twimg.com/images/themes/theme1/bg.png\n",
       "3 http://abs.twimg.com/images/themes/theme1/bg.png\n",
       "4 http://abs.twimg.com/images/themes/theme1/bg.png\n",
       "5 http://abs.twimg.com/images/themes/theme1/bg.png\n",
       "6 http://abs.twimg.com/images/themes/theme1/bg.png\n",
       "  profile_image_url                                                         \n",
       "1 http://pbs.twimg.com/profile_images/874276197357596672/kUuht00m_normal.jpg\n",
       "2 http://pbs.twimg.com/profile_images/874276197357596672/kUuht00m_normal.jpg\n",
       "3 http://pbs.twimg.com/profile_images/874276197357596672/kUuht00m_normal.jpg\n",
       "4 http://pbs.twimg.com/profile_images/874276197357596672/kUuht00m_normal.jpg\n",
       "5 http://pbs.twimg.com/profile_images/874276197357596672/kUuht00m_normal.jpg\n",
       "6 http://pbs.twimg.com/profile_images/874276197357596672/kUuht00m_normal.jpg"
      ]
     },
     "metadata": {},
     "output_type": "display_data"
    }
   ],
   "source": [
    "head(trumpsowntweets)"
   ]
  },
  {
   "cell_type": "code",
   "execution_count": 5,
   "id": "417eae08-7ce0-477e-a156-3965211aea8d",
   "metadata": {},
   "outputs": [
    {
     "data": {
      "text/html": [
       "400"
      ],
      "text/latex": [
       "400"
      ],
      "text/markdown": [
       "400"
      ],
      "text/plain": [
       "[1] 400"
      ]
     },
     "metadata": {},
     "output_type": "display_data"
    }
   ],
   "source": [
    "nrow(trumpsowntweets)"
   ]
  },
  {
   "cell_type": "markdown",
   "id": "252ef34d-98d2-42db-877b-6d6f465477cc",
   "metadata": {},
   "source": [
    "We clean up the text a bit by removing links (words starting with `http` or `https`)."
   ]
  },
  {
   "cell_type": "code",
   "execution_count": 6,
   "id": "1602fbf9-c835-4237-b6a7-eb8e3b223427",
   "metadata": {},
   "outputs": [],
   "source": [
    "trumpsowntweets$text <- gsub(\"http.*\", \"\", trumpsowntweets$text)"
   ]
  },
  {
   "cell_type": "code",
   "execution_count": 7,
   "id": "0d73e37e-128c-4940-803d-0c6ae09c5294",
   "metadata": {},
   "outputs": [],
   "source": [
    "trumpsowntweets$text <- gsub(\"https.*\", \"\", trumpsowntweets$text)"
   ]
  },
  {
   "cell_type": "markdown",
   "id": "917536a1-80f5-44e2-b587-fa1bf4c1215a",
   "metadata": {},
   "source": [
    "We also have to clean up `&amp` which is a special html entity."
   ]
  },
  {
   "cell_type": "code",
   "execution_count": 8,
   "id": "158b94db-3002-42a9-ac1c-b9b659fc8bd3",
   "metadata": {},
   "outputs": [],
   "source": [
    "trumpsowntweets$text <- gsub(\"&amp;\", \"&\", trumpsowntweets$text)"
   ]
  },
  {
   "cell_type": "markdown",
   "id": "973c6c1d-03c6-4a1b-b4f6-55702e4155fe",
   "metadata": {},
   "source": [
    "Now we split the text into single tokens (words)."
   ]
  },
  {
   "cell_type": "code",
   "execution_count": 9,
   "id": "db5dd713-ce00-4afa-93cc-63d1036f5e93",
   "metadata": {},
   "outputs": [],
   "source": [
    "trump_clean <- trumpsowntweets %>%\n",
    "  dplyr::select(text) %>%\n",
    "  unnest_tokens(word, text)"
   ]
  },
  {
   "cell_type": "markdown",
   "id": "634fba04-8559-456c-a26f-9c5a30ba1dbf",
   "metadata": {},
   "source": [
    "We can take a look:"
   ]
  },
  {
   "cell_type": "code",
   "execution_count": 10,
   "id": "689da837-6b37-4ef6-8170-3d45faa25e3d",
   "metadata": {},
   "outputs": [
    {
     "data": {
      "text/html": [
       "<table class=\"dataframe\">\n",
       "<caption>A tibble: 6 × 1</caption>\n",
       "<thead>\n",
       "\t<tr><th scope=col>word</th></tr>\n",
       "\t<tr><th scope=col>&lt;chr&gt;</th></tr>\n",
       "</thead>\n",
       "<tbody>\n",
       "\t<tr><td>tom            </td></tr>\n",
       "\t<tr><td>fitton         </td></tr>\n",
       "\t<tr><td>on             </td></tr>\n",
       "\t<tr><td>realdonaldtrump</td></tr>\n",
       "\t<tr><td>russia         </td></tr>\n",
       "\t<tr><td>mueller        </td></tr>\n",
       "</tbody>\n",
       "</table>\n"
      ],
      "text/latex": [
       "A tibble: 6 × 1\n",
       "\\begin{tabular}{l}\n",
       " word\\\\\n",
       " <chr>\\\\\n",
       "\\hline\n",
       "\t tom            \\\\\n",
       "\t fitton         \\\\\n",
       "\t on             \\\\\n",
       "\t realdonaldtrump\\\\\n",
       "\t russia         \\\\\n",
       "\t mueller        \\\\\n",
       "\\end{tabular}\n"
      ],
      "text/markdown": [
       "\n",
       "A tibble: 6 × 1\n",
       "\n",
       "| word &lt;chr&gt; |\n",
       "|---|\n",
       "| tom             |\n",
       "| fitton          |\n",
       "| on              |\n",
       "| realdonaldtrump |\n",
       "| russia          |\n",
       "| mueller         |\n",
       "\n"
      ],
      "text/plain": [
       "  word           \n",
       "1 tom            \n",
       "2 fitton         \n",
       "3 on             \n",
       "4 realdonaldtrump\n",
       "5 russia         \n",
       "6 mueller        "
      ]
     },
     "metadata": {},
     "output_type": "display_data"
    }
   ],
   "source": [
    "head(trump_clean)"
   ]
  },
  {
   "cell_type": "markdown",
   "id": "0ae326a9-ac72-415d-a045-d7835ed05337",
   "metadata": {},
   "source": [
    "The tidytext package offers a list of English stopwords, which we can use:"
   ]
  },
  {
   "cell_type": "code",
   "execution_count": 11,
   "id": "07884fde-9903-4622-bbd9-8c63d250b9d7",
   "metadata": {},
   "outputs": [],
   "source": [
    "data(\"stop_words\")"
   ]
  },
  {
   "cell_type": "markdown",
   "id": "e7d93c39-552b-431c-bb0a-d3b4f0a8e3d8",
   "metadata": {},
   "source": [
    "Take a peek..."
   ]
  },
  {
   "cell_type": "code",
   "execution_count": 12,
   "id": "7e18a365-e8ee-48ca-bf6e-9cb0db34b596",
   "metadata": {},
   "outputs": [
    {
     "data": {
      "text/html": [
       "<table class=\"dataframe\">\n",
       "<caption>A tibble: 6 × 2</caption>\n",
       "<thead>\n",
       "\t<tr><th scope=col>word</th><th scope=col>lexicon</th></tr>\n",
       "\t<tr><th scope=col>&lt;chr&gt;</th><th scope=col>&lt;chr&gt;</th></tr>\n",
       "</thead>\n",
       "<tbody>\n",
       "\t<tr><td>a        </td><td>SMART</td></tr>\n",
       "\t<tr><td>a's      </td><td>SMART</td></tr>\n",
       "\t<tr><td>able     </td><td>SMART</td></tr>\n",
       "\t<tr><td>about    </td><td>SMART</td></tr>\n",
       "\t<tr><td>above    </td><td>SMART</td></tr>\n",
       "\t<tr><td>according</td><td>SMART</td></tr>\n",
       "</tbody>\n",
       "</table>\n"
      ],
      "text/latex": [
       "A tibble: 6 × 2\n",
       "\\begin{tabular}{ll}\n",
       " word & lexicon\\\\\n",
       " <chr> & <chr>\\\\\n",
       "\\hline\n",
       "\t a         & SMART\\\\\n",
       "\t a's       & SMART\\\\\n",
       "\t able      & SMART\\\\\n",
       "\t about     & SMART\\\\\n",
       "\t above     & SMART\\\\\n",
       "\t according & SMART\\\\\n",
       "\\end{tabular}\n"
      ],
      "text/markdown": [
       "\n",
       "A tibble: 6 × 2\n",
       "\n",
       "| word &lt;chr&gt; | lexicon &lt;chr&gt; |\n",
       "|---|---|\n",
       "| a         | SMART |\n",
       "| a's       | SMART |\n",
       "| able      | SMART |\n",
       "| about     | SMART |\n",
       "| above     | SMART |\n",
       "| according | SMART |\n",
       "\n"
      ],
      "text/plain": [
       "  word      lexicon\n",
       "1 a         SMART  \n",
       "2 a's       SMART  \n",
       "3 able      SMART  \n",
       "4 about     SMART  \n",
       "5 above     SMART  \n",
       "6 according SMART  "
      ]
     },
     "metadata": {},
     "output_type": "display_data"
    }
   ],
   "source": [
    "head(stop_words)"
   ]
  },
  {
   "cell_type": "markdown",
   "id": "97992709-3b1c-40a6-bfe5-ea6dcc342334",
   "metadata": {},
   "source": [
    "Our goal is to remove stopwords as they do not contain information we are interested in. Check how many words we have currently:"
   ]
  },
  {
   "cell_type": "code",
   "execution_count": 13,
   "id": "6e3a44c2-9fc6-4401-b2b7-802f359e017d",
   "metadata": {},
   "outputs": [
    {
     "data": {
      "text/html": [
       "11355"
      ],
      "text/latex": [
       "11355"
      ],
      "text/markdown": [
       "11355"
      ],
      "text/plain": [
       "[1] 11355"
      ]
     },
     "metadata": {},
     "output_type": "display_data"
    }
   ],
   "source": [
    "nrow(trump_clean)"
   ]
  },
  {
   "cell_type": "markdown",
   "id": "836b8863-a96f-47c0-aeaa-f4b6a0db7b52",
   "metadata": {},
   "source": [
    "Now we remove stopwords using the `anti_join` function"
   ]
  },
  {
   "cell_type": "code",
   "execution_count": 14,
   "id": "1b4bc5a5-0241-4737-a789-71f9046d5439",
   "metadata": {},
   "outputs": [
    {
     "name": "stderr",
     "output_type": "stream",
     "text": [
      "Joining, by = \"word\"\n",
      "\n"
     ]
    }
   ],
   "source": [
    "cleaned_tweet_words <- trump_clean %>%\n",
    "    anti_join(stop_words)"
   ]
  },
  {
   "cell_type": "markdown",
   "id": "dce65c27-d107-420f-a321-600e82478ec8",
   "metadata": {},
   "source": [
    "See how many words are left:"
   ]
  },
  {
   "cell_type": "code",
   "execution_count": 15,
   "id": "6b22a559-87a2-4cc2-80ad-81d8ed76355b",
   "metadata": {},
   "outputs": [
    {
     "data": {
      "text/html": [
       "5207"
      ],
      "text/latex": [
       "5207"
      ],
      "text/markdown": [
       "5207"
      ],
      "text/plain": [
       "[1] 5207"
      ]
     },
     "metadata": {},
     "output_type": "display_data"
    }
   ],
   "source": [
    "nrow(cleaned_tweet_words)"
   ]
  },
  {
   "cell_type": "markdown",
   "id": "0183455e-dca4-4d59-afd5-ebf351c2dbd4",
   "metadata": {},
   "source": [
    "Plot the most common words in the data 📊"
   ]
  },
  {
   "cell_type": "code",
   "execution_count": 16,
   "id": "5384723f-50d0-481e-b568-830c9171f04e",
   "metadata": {},
   "outputs": [
    {
     "name": "stderr",
     "output_type": "stream",
     "text": [
      "Selecting by n\n",
      "\n"
     ]
    },
    {
     "data": {
      "image/png": "[encoded data removed]",
      "text/plain": [
       "plot without title"
      ]
     },
     "metadata": {
      "image/png": {
       "height": 420,
       "width": 420
      }
     },
     "output_type": "display_data"
    }
   ],
   "source": [
    "cleaned_tweet_words %>%\n",
    "   count(word) %>%\n",
    "   top_n(15) %>%\n",
    "   mutate(word = reorder(word, n)) %>%\n",
    "   ggplot(aes(x = word, y = n)) +\n",
    "   geom_col() +\n",
    "   xlab(NULL) +\n",
    "   coord_flip() +\n",
    "   labs(y = \"Count\",\n",
    "        x = \"Unique words\",\n",
    "        title = \"Count of unique words found in tweets\",\n",
    "        subtitle = \"Stop words removed from the list\")"
   ]
  }
 ],
 "metadata": {
  "kernelspec": {
   "display_name": "R",
   "language": "R",
   "name": "ir"
  },
  "language_info": {
   "codemirror_mode": "r",
   "file_extension": ".r",
   "mimetype": "text/x-r-source",
   "name": "R",
   "pygments_lexer": "r",
   "version": "4.1.1"
  }
 },
 "nbformat": 4,
 "nbformat_minor": 5
}
